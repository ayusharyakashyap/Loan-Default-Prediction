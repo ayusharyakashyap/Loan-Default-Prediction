{
 "cells": [
  {
   "cell_type": "code",
   "execution_count": 31,
   "id": "5c91c6cc-583e-4fd2-aa84-6ed3b3a0428a",
   "metadata": {},
   "outputs": [],
   "source": [
    "import pandas as pd\n",
    "from sklearn.model_selection import train_test_split\n",
    "from sklearn.preprocessing import StandardScaler, LabelEncoder\n",
    "from sklearn.impute import SimpleImputer\n",
    "from sklearn.ensemble import RandomForestClassifier\n",
    "from sklearn.metrics import accuracy_score, classification_report"
   ]
  },
  {
   "cell_type": "code",
   "execution_count": 32,
   "id": "d2160782-8f49-4c1e-9715-01fbdbfe255f",
   "metadata": {},
   "outputs": [],
   "source": [
    "# Loading the dataset\n",
    "\n",
    "train_df = pd.read_csv('train.csv')\n",
    "test_df = pd.read_csv('test.csv')"
   ]
  },
  {
   "cell_type": "code",
   "execution_count": 33,
   "id": "afffd35b-24bc-4cf0-9d41-80a5386069e1",
   "metadata": {},
   "outputs": [
    {
     "name": "stdout",
     "output_type": "stream",
     "text": [
      "Initial Training Data:\n",
      "        LoanID  Age  Income  LoanAmount  CreditScore  MonthsEmployed  \\\n",
      "0  DRIRC89L0T   18  137576      209136          846              26   \n",
      "1  TS0FIUNHNU   47   57194        5970          748              30   \n",
      "2  I0YR284A1V   26   84328       95065          453               7   \n",
      "3  WB1T7NQV8A   53   49795      229582          533             107   \n",
      "4  J6GU9M4G1Z   49  115450       22072          840               0   \n",
      "\n",
      "   NumCreditLines  InterestRate  LoanTerm  DTIRatio    Education  \\\n",
      "0               2         10.47        60      0.81  High School   \n",
      "1               2         19.72        36      0.73  High School   \n",
      "2               2         24.25        12      0.45     Master's   \n",
      "3               3         14.44        60      0.17   Bachelor's   \n",
      "4               4         24.48        12      0.11   Bachelor's   \n",
      "\n",
      "  EmploymentType MaritalStatus HasMortgage HasDependents LoanPurpose  \\\n",
      "0  Self-employed        Single         Yes            No    Business   \n",
      "1     Unemployed      Divorced          No           Yes   Education   \n",
      "2  Self-employed       Married          No            No       Other   \n",
      "3  Self-employed        Single         Yes            No        Auto   \n",
      "4      Part-time        Single          No           Yes   Education   \n",
      "\n",
      "  HasCoSigner  Default  \n",
      "0          No        0  \n",
      "1          No        0  \n",
      "2         Yes        0  \n",
      "3         Yes        1  \n",
      "4         Yes        0  \n",
      "Initial Test Data:\n",
      "        LoanID  Age  Income  LoanAmount  CreditScore  MonthsEmployed  \\\n",
      "0  CKV34LU7V7   55  112656       92393          581             113   \n",
      "1  62KTYNH93J   56   91569      131575          641              54   \n",
      "2  JGFUSOIUH7   26   78169       75417          569             105   \n",
      "3  4538THBHOX   26   63033       10804          326             118   \n",
      "4  DXLNA06JHR   24   29665       21182          662             102   \n",
      "\n",
      "   NumCreditLines  InterestRate  LoanTerm  DTIRatio    Education  \\\n",
      "0               2         23.54        36      0.15          PhD   \n",
      "1               1         15.19        12      0.43  High School   \n",
      "2               3         18.02        12      0.29     Master's   \n",
      "3               1         14.71        24      0.41  High School   \n",
      "4               3         15.02        60      0.69          PhD   \n",
      "\n",
      "  EmploymentType MaritalStatus HasMortgage HasDependents LoanPurpose  \\\n",
      "0  Self-employed        Single         Yes           Yes        Home   \n",
      "1      Part-time      Divorced         Yes           Yes   Education   \n",
      "2      Part-time       Married         Yes           Yes   Education   \n",
      "3      Part-time        Single          No            No    Business   \n",
      "4     Unemployed        Single          No           Yes    Business   \n",
      "\n",
      "  HasCoSigner  \n",
      "0          No  \n",
      "1         Yes  \n",
      "2         Yes  \n",
      "3         Yes  \n",
      "4         Yes  \n"
     ]
    }
   ],
   "source": [
    "# Displaying initial data (head)\n",
    "print(\"Initial Training Data:\\n\", train_df.head())\n",
    "print(\"Initial Test Data:\\n\", test_df.head())"
   ]
  },
  {
   "cell_type": "code",
   "execution_count": 34,
   "id": "3f444b0b-5dfa-4f8a-8359-a24ca13dd627",
   "metadata": {},
   "outputs": [
    {
     "data": {
      "text/html": [
       "<div>\n",
       "<style scoped>\n",
       "    .dataframe tbody tr th:only-of-type {\n",
       "        vertical-align: middle;\n",
       "    }\n",
       "\n",
       "    .dataframe tbody tr th {\n",
       "        vertical-align: top;\n",
       "    }\n",
       "\n",
       "    .dataframe thead th {\n",
       "        text-align: right;\n",
       "    }\n",
       "</style>\n",
       "<table border=\"1\" class=\"dataframe\">\n",
       "  <thead>\n",
       "    <tr style=\"text-align: right;\">\n",
       "      <th></th>\n",
       "      <th>Age</th>\n",
       "      <th>Income</th>\n",
       "      <th>LoanAmount</th>\n",
       "      <th>CreditScore</th>\n",
       "      <th>MonthsEmployed</th>\n",
       "      <th>NumCreditLines</th>\n",
       "      <th>InterestRate</th>\n",
       "      <th>DTIRatio</th>\n",
       "      <th>Education</th>\n",
       "      <th>EmploymentType</th>\n",
       "      <th>MaritalStatus</th>\n",
       "      <th>HasMortgage</th>\n",
       "      <th>HasDependents</th>\n",
       "      <th>LoanPurpose</th>\n",
       "      <th>HasCoSigner</th>\n",
       "      <th>Default</th>\n",
       "    </tr>\n",
       "  </thead>\n",
       "  <tbody>\n",
       "    <tr>\n",
       "      <th>0</th>\n",
       "      <td>18</td>\n",
       "      <td>137576</td>\n",
       "      <td>209136</td>\n",
       "      <td>846</td>\n",
       "      <td>26</td>\n",
       "      <td>2</td>\n",
       "      <td>10.47</td>\n",
       "      <td>0.81</td>\n",
       "      <td>High School</td>\n",
       "      <td>Self-employed</td>\n",
       "      <td>Single</td>\n",
       "      <td>Yes</td>\n",
       "      <td>No</td>\n",
       "      <td>Business</td>\n",
       "      <td>No</td>\n",
       "      <td>0</td>\n",
       "    </tr>\n",
       "    <tr>\n",
       "      <th>1</th>\n",
       "      <td>47</td>\n",
       "      <td>57194</td>\n",
       "      <td>5970</td>\n",
       "      <td>748</td>\n",
       "      <td>30</td>\n",
       "      <td>2</td>\n",
       "      <td>19.72</td>\n",
       "      <td>0.73</td>\n",
       "      <td>High School</td>\n",
       "      <td>Unemployed</td>\n",
       "      <td>Divorced</td>\n",
       "      <td>No</td>\n",
       "      <td>Yes</td>\n",
       "      <td>Education</td>\n",
       "      <td>No</td>\n",
       "      <td>0</td>\n",
       "    </tr>\n",
       "    <tr>\n",
       "      <th>2</th>\n",
       "      <td>26</td>\n",
       "      <td>84328</td>\n",
       "      <td>95065</td>\n",
       "      <td>453</td>\n",
       "      <td>7</td>\n",
       "      <td>2</td>\n",
       "      <td>24.25</td>\n",
       "      <td>0.45</td>\n",
       "      <td>Master's</td>\n",
       "      <td>Self-employed</td>\n",
       "      <td>Married</td>\n",
       "      <td>No</td>\n",
       "      <td>No</td>\n",
       "      <td>Other</td>\n",
       "      <td>Yes</td>\n",
       "      <td>0</td>\n",
       "    </tr>\n",
       "    <tr>\n",
       "      <th>3</th>\n",
       "      <td>53</td>\n",
       "      <td>49795</td>\n",
       "      <td>229582</td>\n",
       "      <td>533</td>\n",
       "      <td>107</td>\n",
       "      <td>3</td>\n",
       "      <td>14.44</td>\n",
       "      <td>0.17</td>\n",
       "      <td>Bachelor's</td>\n",
       "      <td>Self-employed</td>\n",
       "      <td>Single</td>\n",
       "      <td>Yes</td>\n",
       "      <td>No</td>\n",
       "      <td>Auto</td>\n",
       "      <td>Yes</td>\n",
       "      <td>1</td>\n",
       "    </tr>\n",
       "    <tr>\n",
       "      <th>4</th>\n",
       "      <td>49</td>\n",
       "      <td>115450</td>\n",
       "      <td>22072</td>\n",
       "      <td>840</td>\n",
       "      <td>0</td>\n",
       "      <td>4</td>\n",
       "      <td>24.48</td>\n",
       "      <td>0.11</td>\n",
       "      <td>Bachelor's</td>\n",
       "      <td>Part-time</td>\n",
       "      <td>Single</td>\n",
       "      <td>No</td>\n",
       "      <td>Yes</td>\n",
       "      <td>Education</td>\n",
       "      <td>Yes</td>\n",
       "      <td>0</td>\n",
       "    </tr>\n",
       "    <tr>\n",
       "      <th>...</th>\n",
       "      <td>...</td>\n",
       "      <td>...</td>\n",
       "      <td>...</td>\n",
       "      <td>...</td>\n",
       "      <td>...</td>\n",
       "      <td>...</td>\n",
       "      <td>...</td>\n",
       "      <td>...</td>\n",
       "      <td>...</td>\n",
       "      <td>...</td>\n",
       "      <td>...</td>\n",
       "      <td>...</td>\n",
       "      <td>...</td>\n",
       "      <td>...</td>\n",
       "      <td>...</td>\n",
       "      <td>...</td>\n",
       "    </tr>\n",
       "    <tr>\n",
       "      <th>204272</th>\n",
       "      <td>40</td>\n",
       "      <td>116623</td>\n",
       "      <td>161673</td>\n",
       "      <td>651</td>\n",
       "      <td>79</td>\n",
       "      <td>2</td>\n",
       "      <td>23.44</td>\n",
       "      <td>0.87</td>\n",
       "      <td>Bachelor's</td>\n",
       "      <td>Part-time</td>\n",
       "      <td>Divorced</td>\n",
       "      <td>No</td>\n",
       "      <td>No</td>\n",
       "      <td>Home</td>\n",
       "      <td>Yes</td>\n",
       "      <td>0</td>\n",
       "    </tr>\n",
       "    <tr>\n",
       "      <th>204273</th>\n",
       "      <td>67</td>\n",
       "      <td>62958</td>\n",
       "      <td>189499</td>\n",
       "      <td>460</td>\n",
       "      <td>77</td>\n",
       "      <td>3</td>\n",
       "      <td>9.29</td>\n",
       "      <td>0.11</td>\n",
       "      <td>Bachelor's</td>\n",
       "      <td>Self-employed</td>\n",
       "      <td>Single</td>\n",
       "      <td>No</td>\n",
       "      <td>No</td>\n",
       "      <td>Business</td>\n",
       "      <td>Yes</td>\n",
       "      <td>0</td>\n",
       "    </tr>\n",
       "    <tr>\n",
       "      <th>204274</th>\n",
       "      <td>62</td>\n",
       "      <td>34372</td>\n",
       "      <td>59645</td>\n",
       "      <td>524</td>\n",
       "      <td>94</td>\n",
       "      <td>3</td>\n",
       "      <td>9.72</td>\n",
       "      <td>0.24</td>\n",
       "      <td>PhD</td>\n",
       "      <td>Full-time</td>\n",
       "      <td>Single</td>\n",
       "      <td>Yes</td>\n",
       "      <td>No</td>\n",
       "      <td>Auto</td>\n",
       "      <td>No</td>\n",
       "      <td>0</td>\n",
       "    </tr>\n",
       "    <tr>\n",
       "      <th>204275</th>\n",
       "      <td>44</td>\n",
       "      <td>146262</td>\n",
       "      <td>198454</td>\n",
       "      <td>489</td>\n",
       "      <td>7</td>\n",
       "      <td>4</td>\n",
       "      <td>4.31</td>\n",
       "      <td>0.30</td>\n",
       "      <td>High School</td>\n",
       "      <td>Self-employed</td>\n",
       "      <td>Married</td>\n",
       "      <td>Yes</td>\n",
       "      <td>No</td>\n",
       "      <td>Home</td>\n",
       "      <td>No</td>\n",
       "      <td>0</td>\n",
       "    </tr>\n",
       "    <tr>\n",
       "      <th>204276</th>\n",
       "      <td>36</td>\n",
       "      <td>97844</td>\n",
       "      <td>188593</td>\n",
       "      <td>542</td>\n",
       "      <td>2</td>\n",
       "      <td>3</td>\n",
       "      <td>23.14</td>\n",
       "      <td>0.83</td>\n",
       "      <td>Bachelor's</td>\n",
       "      <td>Part-time</td>\n",
       "      <td>Divorced</td>\n",
       "      <td>No</td>\n",
       "      <td>No</td>\n",
       "      <td>Home</td>\n",
       "      <td>No</td>\n",
       "      <td>1</td>\n",
       "    </tr>\n",
       "  </tbody>\n",
       "</table>\n",
       "<p>204277 rows × 16 columns</p>\n",
       "</div>"
      ],
      "text/plain": [
       "        Age  Income  LoanAmount  CreditScore  MonthsEmployed  NumCreditLines  \\\n",
       "0        18  137576      209136          846              26               2   \n",
       "1        47   57194        5970          748              30               2   \n",
       "2        26   84328       95065          453               7               2   \n",
       "3        53   49795      229582          533             107               3   \n",
       "4        49  115450       22072          840               0               4   \n",
       "...     ...     ...         ...          ...             ...             ...   \n",
       "204272   40  116623      161673          651              79               2   \n",
       "204273   67   62958      189499          460              77               3   \n",
       "204274   62   34372       59645          524              94               3   \n",
       "204275   44  146262      198454          489               7               4   \n",
       "204276   36   97844      188593          542               2               3   \n",
       "\n",
       "        InterestRate  DTIRatio    Education EmploymentType MaritalStatus  \\\n",
       "0              10.47      0.81  High School  Self-employed        Single   \n",
       "1              19.72      0.73  High School     Unemployed      Divorced   \n",
       "2              24.25      0.45     Master's  Self-employed       Married   \n",
       "3              14.44      0.17   Bachelor's  Self-employed        Single   \n",
       "4              24.48      0.11   Bachelor's      Part-time        Single   \n",
       "...              ...       ...          ...            ...           ...   \n",
       "204272         23.44      0.87   Bachelor's      Part-time      Divorced   \n",
       "204273          9.29      0.11   Bachelor's  Self-employed        Single   \n",
       "204274          9.72      0.24          PhD      Full-time        Single   \n",
       "204275          4.31      0.30  High School  Self-employed       Married   \n",
       "204276         23.14      0.83   Bachelor's      Part-time      Divorced   \n",
       "\n",
       "       HasMortgage HasDependents LoanPurpose HasCoSigner  Default  \n",
       "0              Yes            No    Business          No        0  \n",
       "1               No           Yes   Education          No        0  \n",
       "2               No            No       Other         Yes        0  \n",
       "3              Yes            No        Auto         Yes        1  \n",
       "4               No           Yes   Education         Yes        0  \n",
       "...            ...           ...         ...         ...      ...  \n",
       "204272          No            No        Home         Yes        0  \n",
       "204273          No            No    Business         Yes        0  \n",
       "204274         Yes            No        Auto          No        0  \n",
       "204275         Yes            No        Home          No        0  \n",
       "204276          No            No        Home          No        1  \n",
       "\n",
       "[204277 rows x 16 columns]"
      ]
     },
     "execution_count": 34,
     "metadata": {},
     "output_type": "execute_result"
    }
   ],
   "source": [
    "# Drop unnecessary columns\n",
    "\n",
    "train_df = train_df.drop(columns=['LoanID'])\n",
    "test_df = test_df.drop(columns=['LoanID'])\n",
    "train_df = train_df.drop(columns=['LoanTerm'])\n",
    "test_df = test_df.drop(columns=['LoanTerm'])\n",
    "train_df"
   ]
  },
  {
   "cell_type": "code",
   "execution_count": 35,
   "id": "fd36a247-9ff1-4099-960e-3223512ef1f3",
   "metadata": {},
   "outputs": [],
   "source": [
    "# Encode categorical columns using LabelEncoder\n",
    "\n",
    "categorical_cols = ['Education', 'EmploymentType', 'MaritalStatus', 'HasMortgage', 'HasDependents', 'LoanPurpose', 'HasCoSigner']\n",
    "for col in categorical_cols:\n",
    "    le = LabelEncoder()\n",
    "    train_df[col] = le.fit_transform(train_df[col])\n",
    "    test_df[col] = le.transform(test_df[col])"
   ]
  },
  {
   "cell_type": "code",
   "execution_count": 36,
   "id": "3c95b9c1-0929-4aa2-8c69-6eeaf53a7d83",
   "metadata": {},
   "outputs": [
    {
     "ename": "NotFittedError",
     "evalue": "This SimpleImputer instance is not fitted yet. Call 'fit' with appropriate arguments before using this estimator.",
     "output_type": "error",
     "traceback": [
      "\u001b[0;31m---------------------------------------------------------------------------\u001b[0m",
      "\u001b[0;31mNotFittedError\u001b[0m                            Traceback (most recent call last)",
      "Cell \u001b[0;32mIn[36], line 8\u001b[0m\n\u001b[1;32m      5\u001b[0m train_df\u001b[38;5;241m.\u001b[39mdrop(columns\u001b[38;5;241m=\u001b[39m[\u001b[38;5;124m'\u001b[39m\u001b[38;5;124mDefault\u001b[39m\u001b[38;5;124m'\u001b[39m])\n\u001b[1;32m      6\u001b[0m \u001b[38;5;66;03m# train_target = train_df['Default']\u001b[39;00m\n\u001b[1;32m      7\u001b[0m \u001b[38;5;66;03m# train_features = pd.DataFrame(imputer.fit_transform(train_features), columns=train_features.columns)\u001b[39;00m\n\u001b[0;32m----> 8\u001b[0m test_df \u001b[38;5;241m=\u001b[39m pd\u001b[38;5;241m.\u001b[39mDataFrame(\u001b[43mimputer\u001b[49m\u001b[38;5;241;43m.\u001b[39;49m\u001b[43mtransform\u001b[49m\u001b[43m(\u001b[49m\u001b[43mtest_df\u001b[49m\u001b[43m)\u001b[49m, columns\u001b[38;5;241m=\u001b[39mtest_df\u001b[38;5;241m.\u001b[39mcolumns)\n",
      "File \u001b[0;32m~/Library/Python/3.11/lib/python/site-packages/sklearn/utils/_set_output.py:313\u001b[0m, in \u001b[0;36m_wrap_method_output.<locals>.wrapped\u001b[0;34m(self, X, *args, **kwargs)\u001b[0m\n\u001b[1;32m    311\u001b[0m \u001b[38;5;129m@wraps\u001b[39m(f)\n\u001b[1;32m    312\u001b[0m \u001b[38;5;28;01mdef\u001b[39;00m \u001b[38;5;21mwrapped\u001b[39m(\u001b[38;5;28mself\u001b[39m, X, \u001b[38;5;241m*\u001b[39margs, \u001b[38;5;241m*\u001b[39m\u001b[38;5;241m*\u001b[39mkwargs):\n\u001b[0;32m--> 313\u001b[0m     data_to_wrap \u001b[38;5;241m=\u001b[39m \u001b[43mf\u001b[49m\u001b[43m(\u001b[49m\u001b[38;5;28;43mself\u001b[39;49m\u001b[43m,\u001b[49m\u001b[43m \u001b[49m\u001b[43mX\u001b[49m\u001b[43m,\u001b[49m\u001b[43m \u001b[49m\u001b[38;5;241;43m*\u001b[39;49m\u001b[43margs\u001b[49m\u001b[43m,\u001b[49m\u001b[43m \u001b[49m\u001b[38;5;241;43m*\u001b[39;49m\u001b[38;5;241;43m*\u001b[39;49m\u001b[43mkwargs\u001b[49m\u001b[43m)\u001b[49m\n\u001b[1;32m    314\u001b[0m     \u001b[38;5;28;01mif\u001b[39;00m \u001b[38;5;28misinstance\u001b[39m(data_to_wrap, \u001b[38;5;28mtuple\u001b[39m):\n\u001b[1;32m    315\u001b[0m         \u001b[38;5;66;03m# only wrap the first output for cross decomposition\u001b[39;00m\n\u001b[1;32m    316\u001b[0m         return_tuple \u001b[38;5;241m=\u001b[39m (\n\u001b[1;32m    317\u001b[0m             _wrap_data_with_container(method, data_to_wrap[\u001b[38;5;241m0\u001b[39m], X, \u001b[38;5;28mself\u001b[39m),\n\u001b[1;32m    318\u001b[0m             \u001b[38;5;241m*\u001b[39mdata_to_wrap[\u001b[38;5;241m1\u001b[39m:],\n\u001b[1;32m    319\u001b[0m         )\n",
      "File \u001b[0;32m~/Library/Python/3.11/lib/python/site-packages/sklearn/impute/_base.py:567\u001b[0m, in \u001b[0;36mSimpleImputer.transform\u001b[0;34m(self, X)\u001b[0m\n\u001b[1;32m    553\u001b[0m \u001b[38;5;28;01mdef\u001b[39;00m \u001b[38;5;21mtransform\u001b[39m(\u001b[38;5;28mself\u001b[39m, X):\n\u001b[1;32m    554\u001b[0m \u001b[38;5;250m    \u001b[39m\u001b[38;5;124;03m\"\"\"Impute all missing values in `X`.\u001b[39;00m\n\u001b[1;32m    555\u001b[0m \n\u001b[1;32m    556\u001b[0m \u001b[38;5;124;03m    Parameters\u001b[39;00m\n\u001b[0;32m   (...)\u001b[0m\n\u001b[1;32m    565\u001b[0m \u001b[38;5;124;03m        `X` with imputed values.\u001b[39;00m\n\u001b[1;32m    566\u001b[0m \u001b[38;5;124;03m    \"\"\"\u001b[39;00m\n\u001b[0;32m--> 567\u001b[0m     \u001b[43mcheck_is_fitted\u001b[49m\u001b[43m(\u001b[49m\u001b[38;5;28;43mself\u001b[39;49m\u001b[43m)\u001b[49m\n\u001b[1;32m    569\u001b[0m     X \u001b[38;5;241m=\u001b[39m \u001b[38;5;28mself\u001b[39m\u001b[38;5;241m.\u001b[39m_validate_input(X, in_fit\u001b[38;5;241m=\u001b[39m\u001b[38;5;28;01mFalse\u001b[39;00m)\n\u001b[1;32m    570\u001b[0m     statistics \u001b[38;5;241m=\u001b[39m \u001b[38;5;28mself\u001b[39m\u001b[38;5;241m.\u001b[39mstatistics_\n",
      "File \u001b[0;32m~/Library/Python/3.11/lib/python/site-packages/sklearn/utils/validation.py:1632\u001b[0m, in \u001b[0;36mcheck_is_fitted\u001b[0;34m(estimator, attributes, msg, all_or_any)\u001b[0m\n\u001b[1;32m   1629\u001b[0m     \u001b[38;5;28;01mraise\u001b[39;00m \u001b[38;5;167;01mTypeError\u001b[39;00m(\u001b[38;5;124m\"\u001b[39m\u001b[38;5;132;01m%s\u001b[39;00m\u001b[38;5;124m is not an estimator instance.\u001b[39m\u001b[38;5;124m\"\u001b[39m \u001b[38;5;241m%\u001b[39m (estimator))\n\u001b[1;32m   1631\u001b[0m \u001b[38;5;28;01mif\u001b[39;00m \u001b[38;5;129;01mnot\u001b[39;00m _is_fitted(estimator, attributes, all_or_any):\n\u001b[0;32m-> 1632\u001b[0m     \u001b[38;5;28;01mraise\u001b[39;00m NotFittedError(msg \u001b[38;5;241m%\u001b[39m {\u001b[38;5;124m\"\u001b[39m\u001b[38;5;124mname\u001b[39m\u001b[38;5;124m\"\u001b[39m: \u001b[38;5;28mtype\u001b[39m(estimator)\u001b[38;5;241m.\u001b[39m\u001b[38;5;18m__name__\u001b[39m})\n",
      "\u001b[0;31mNotFittedError\u001b[0m: This SimpleImputer instance is not fitted yet. Call 'fit' with appropriate arguments before using this estimator."
     ]
    }
   ],
   "source": [
    "# Handle missing values by filling with the mean for numerical columns\n",
    "\n",
    "imputer = SimpleImputer(strategy='mean')\n",
    "# train_features = train_df.drop(columns=['Default'])  # Separate target variable\n",
    "train_df.drop(columns=['Default'])\n",
    "# train_target = train_df['Default']\n",
    "# train_features = pd.DataFrame(imputer.fit_transform(train_features), columns=train_features.columns)\n",
    "test_df = pd.DataFrame(imputer.transform(test_df), columns=test_df.columns)"
   ]
  },
  {
   "cell_type": "code",
   "execution_count": 29,
   "id": "3ba7c614-5cb5-4121-84db-9a17d05f7de5",
   "metadata": {},
   "outputs": [
    {
     "data": {
      "text/html": [
       "<div>\n",
       "<style scoped>\n",
       "    .dataframe tbody tr th:only-of-type {\n",
       "        vertical-align: middle;\n",
       "    }\n",
       "\n",
       "    .dataframe tbody tr th {\n",
       "        vertical-align: top;\n",
       "    }\n",
       "\n",
       "    .dataframe thead th {\n",
       "        text-align: right;\n",
       "    }\n",
       "</style>\n",
       "<table border=\"1\" class=\"dataframe\">\n",
       "  <thead>\n",
       "    <tr style=\"text-align: right;\">\n",
       "      <th></th>\n",
       "      <th>Age</th>\n",
       "      <th>Income</th>\n",
       "      <th>LoanAmount</th>\n",
       "      <th>CreditScore</th>\n",
       "      <th>MonthsEmployed</th>\n",
       "      <th>NumCreditLines</th>\n",
       "      <th>InterestRate</th>\n",
       "      <th>DTIRatio</th>\n",
       "      <th>Education</th>\n",
       "      <th>EmploymentType</th>\n",
       "      <th>MaritalStatus</th>\n",
       "      <th>HasMortgage</th>\n",
       "      <th>HasDependents</th>\n",
       "      <th>LoanPurpose</th>\n",
       "      <th>HasCoSigner</th>\n",
       "      <th>Default</th>\n",
       "    </tr>\n",
       "  </thead>\n",
       "  <tbody>\n",
       "    <tr>\n",
       "      <th>0</th>\n",
       "      <td>18</td>\n",
       "      <td>137576</td>\n",
       "      <td>209136</td>\n",
       "      <td>846</td>\n",
       "      <td>26</td>\n",
       "      <td>2</td>\n",
       "      <td>10.47</td>\n",
       "      <td>0.81</td>\n",
       "      <td>1</td>\n",
       "      <td>2</td>\n",
       "      <td>2</td>\n",
       "      <td>1</td>\n",
       "      <td>0</td>\n",
       "      <td>1</td>\n",
       "      <td>0</td>\n",
       "      <td>0</td>\n",
       "    </tr>\n",
       "    <tr>\n",
       "      <th>1</th>\n",
       "      <td>47</td>\n",
       "      <td>57194</td>\n",
       "      <td>5970</td>\n",
       "      <td>748</td>\n",
       "      <td>30</td>\n",
       "      <td>2</td>\n",
       "      <td>19.72</td>\n",
       "      <td>0.73</td>\n",
       "      <td>1</td>\n",
       "      <td>3</td>\n",
       "      <td>0</td>\n",
       "      <td>0</td>\n",
       "      <td>1</td>\n",
       "      <td>2</td>\n",
       "      <td>0</td>\n",
       "      <td>0</td>\n",
       "    </tr>\n",
       "    <tr>\n",
       "      <th>2</th>\n",
       "      <td>26</td>\n",
       "      <td>84328</td>\n",
       "      <td>95065</td>\n",
       "      <td>453</td>\n",
       "      <td>7</td>\n",
       "      <td>2</td>\n",
       "      <td>24.25</td>\n",
       "      <td>0.45</td>\n",
       "      <td>2</td>\n",
       "      <td>2</td>\n",
       "      <td>1</td>\n",
       "      <td>0</td>\n",
       "      <td>0</td>\n",
       "      <td>4</td>\n",
       "      <td>1</td>\n",
       "      <td>0</td>\n",
       "    </tr>\n",
       "    <tr>\n",
       "      <th>3</th>\n",
       "      <td>53</td>\n",
       "      <td>49795</td>\n",
       "      <td>229582</td>\n",
       "      <td>533</td>\n",
       "      <td>107</td>\n",
       "      <td>3</td>\n",
       "      <td>14.44</td>\n",
       "      <td>0.17</td>\n",
       "      <td>0</td>\n",
       "      <td>2</td>\n",
       "      <td>2</td>\n",
       "      <td>1</td>\n",
       "      <td>0</td>\n",
       "      <td>0</td>\n",
       "      <td>1</td>\n",
       "      <td>1</td>\n",
       "    </tr>\n",
       "    <tr>\n",
       "      <th>4</th>\n",
       "      <td>49</td>\n",
       "      <td>115450</td>\n",
       "      <td>22072</td>\n",
       "      <td>840</td>\n",
       "      <td>0</td>\n",
       "      <td>4</td>\n",
       "      <td>24.48</td>\n",
       "      <td>0.11</td>\n",
       "      <td>0</td>\n",
       "      <td>1</td>\n",
       "      <td>2</td>\n",
       "      <td>0</td>\n",
       "      <td>1</td>\n",
       "      <td>2</td>\n",
       "      <td>1</td>\n",
       "      <td>0</td>\n",
       "    </tr>\n",
       "    <tr>\n",
       "      <th>...</th>\n",
       "      <td>...</td>\n",
       "      <td>...</td>\n",
       "      <td>...</td>\n",
       "      <td>...</td>\n",
       "      <td>...</td>\n",
       "      <td>...</td>\n",
       "      <td>...</td>\n",
       "      <td>...</td>\n",
       "      <td>...</td>\n",
       "      <td>...</td>\n",
       "      <td>...</td>\n",
       "      <td>...</td>\n",
       "      <td>...</td>\n",
       "      <td>...</td>\n",
       "      <td>...</td>\n",
       "      <td>...</td>\n",
       "    </tr>\n",
       "    <tr>\n",
       "      <th>204272</th>\n",
       "      <td>40</td>\n",
       "      <td>116623</td>\n",
       "      <td>161673</td>\n",
       "      <td>651</td>\n",
       "      <td>79</td>\n",
       "      <td>2</td>\n",
       "      <td>23.44</td>\n",
       "      <td>0.87</td>\n",
       "      <td>0</td>\n",
       "      <td>1</td>\n",
       "      <td>0</td>\n",
       "      <td>0</td>\n",
       "      <td>0</td>\n",
       "      <td>3</td>\n",
       "      <td>1</td>\n",
       "      <td>0</td>\n",
       "    </tr>\n",
       "    <tr>\n",
       "      <th>204273</th>\n",
       "      <td>67</td>\n",
       "      <td>62958</td>\n",
       "      <td>189499</td>\n",
       "      <td>460</td>\n",
       "      <td>77</td>\n",
       "      <td>3</td>\n",
       "      <td>9.29</td>\n",
       "      <td>0.11</td>\n",
       "      <td>0</td>\n",
       "      <td>2</td>\n",
       "      <td>2</td>\n",
       "      <td>0</td>\n",
       "      <td>0</td>\n",
       "      <td>1</td>\n",
       "      <td>1</td>\n",
       "      <td>0</td>\n",
       "    </tr>\n",
       "    <tr>\n",
       "      <th>204274</th>\n",
       "      <td>62</td>\n",
       "      <td>34372</td>\n",
       "      <td>59645</td>\n",
       "      <td>524</td>\n",
       "      <td>94</td>\n",
       "      <td>3</td>\n",
       "      <td>9.72</td>\n",
       "      <td>0.24</td>\n",
       "      <td>3</td>\n",
       "      <td>0</td>\n",
       "      <td>2</td>\n",
       "      <td>1</td>\n",
       "      <td>0</td>\n",
       "      <td>0</td>\n",
       "      <td>0</td>\n",
       "      <td>0</td>\n",
       "    </tr>\n",
       "    <tr>\n",
       "      <th>204275</th>\n",
       "      <td>44</td>\n",
       "      <td>146262</td>\n",
       "      <td>198454</td>\n",
       "      <td>489</td>\n",
       "      <td>7</td>\n",
       "      <td>4</td>\n",
       "      <td>4.31</td>\n",
       "      <td>0.30</td>\n",
       "      <td>1</td>\n",
       "      <td>2</td>\n",
       "      <td>1</td>\n",
       "      <td>1</td>\n",
       "      <td>0</td>\n",
       "      <td>3</td>\n",
       "      <td>0</td>\n",
       "      <td>0</td>\n",
       "    </tr>\n",
       "    <tr>\n",
       "      <th>204276</th>\n",
       "      <td>36</td>\n",
       "      <td>97844</td>\n",
       "      <td>188593</td>\n",
       "      <td>542</td>\n",
       "      <td>2</td>\n",
       "      <td>3</td>\n",
       "      <td>23.14</td>\n",
       "      <td>0.83</td>\n",
       "      <td>0</td>\n",
       "      <td>1</td>\n",
       "      <td>0</td>\n",
       "      <td>0</td>\n",
       "      <td>0</td>\n",
       "      <td>3</td>\n",
       "      <td>0</td>\n",
       "      <td>1</td>\n",
       "    </tr>\n",
       "  </tbody>\n",
       "</table>\n",
       "<p>204277 rows × 16 columns</p>\n",
       "</div>"
      ],
      "text/plain": [
       "        Age  Income  LoanAmount  CreditScore  MonthsEmployed  NumCreditLines  \\\n",
       "0        18  137576      209136          846              26               2   \n",
       "1        47   57194        5970          748              30               2   \n",
       "2        26   84328       95065          453               7               2   \n",
       "3        53   49795      229582          533             107               3   \n",
       "4        49  115450       22072          840               0               4   \n",
       "...     ...     ...         ...          ...             ...             ...   \n",
       "204272   40  116623      161673          651              79               2   \n",
       "204273   67   62958      189499          460              77               3   \n",
       "204274   62   34372       59645          524              94               3   \n",
       "204275   44  146262      198454          489               7               4   \n",
       "204276   36   97844      188593          542               2               3   \n",
       "\n",
       "        InterestRate  DTIRatio  Education  EmploymentType  MaritalStatus  \\\n",
       "0              10.47      0.81          1               2              2   \n",
       "1              19.72      0.73          1               3              0   \n",
       "2              24.25      0.45          2               2              1   \n",
       "3              14.44      0.17          0               2              2   \n",
       "4              24.48      0.11          0               1              2   \n",
       "...              ...       ...        ...             ...            ...   \n",
       "204272         23.44      0.87          0               1              0   \n",
       "204273          9.29      0.11          0               2              2   \n",
       "204274          9.72      0.24          3               0              2   \n",
       "204275          4.31      0.30          1               2              1   \n",
       "204276         23.14      0.83          0               1              0   \n",
       "\n",
       "        HasMortgage  HasDependents  LoanPurpose  HasCoSigner  Default  \n",
       "0                 1              0            1            0        0  \n",
       "1                 0              1            2            0        0  \n",
       "2                 0              0            4            1        0  \n",
       "3                 1              0            0            1        1  \n",
       "4                 0              1            2            1        0  \n",
       "...             ...            ...          ...          ...      ...  \n",
       "204272            0              0            3            1        0  \n",
       "204273            0              0            1            1        0  \n",
       "204274            1              0            0            0        0  \n",
       "204275            1              0            3            0        0  \n",
       "204276            0              0            3            0        1  \n",
       "\n",
       "[204277 rows x 16 columns]"
      ]
     },
     "execution_count": 29,
     "metadata": {},
     "output_type": "execute_result"
    }
   ],
   "source": [
    "# Scale numerical features to ensure each feature has a mean of 0 and variance of 1\n",
    "\n",
    "# scaler = StandardScaler()\n",
    "# train_features = pd.DataFrame(scaler.fit_transform(train_features), columns=train_features.columns)\n",
    "# test_df = pd.DataFrame(scaler.transform(test_df), columns=test_df.columns)\n",
    "train_df"
   ]
  },
  {
   "cell_type": "code",
   "execution_count": 26,
   "id": "77080fba-59d0-49f2-af90-a963428b0632",
   "metadata": {},
   "outputs": [
    {
     "name": "stdout",
     "output_type": "stream",
     "text": [
      "\n",
      "Training and Validation Split:\n",
      "X_train:\n",
      "              Age    Income  LoanAmount  CreditScore  MonthsEmployed  \\\n",
      "137918  0.100743 -0.245898   -1.471959    -0.365538        0.360552   \n",
      "32623  -0.166010 -0.438212   -1.574662    -1.548846        0.620325   \n",
      "20894  -0.632827  1.657855   -0.763257     0.207233        0.216233   \n",
      "116646 -1.233021  0.387343    0.536470    -0.535481        1.601694   \n",
      "3325   -1.433086  1.563688    0.980744    -0.944604       -1.284684   \n",
      "\n",
      "        NumCreditLines  InterestRate  DTIRatio  Education  EmploymentType  \\\n",
      "137918       -1.344869      1.663921  1.253376  -0.442742        1.343560   \n",
      "32623         1.341148      0.830593  0.820313  -0.442742        1.343560   \n",
      "20894        -1.344869     -0.796883  0.690394   0.450557       -1.342074   \n",
      "116646        1.341148      1.150061 -1.258390   0.450557       -1.342074   \n",
      "3325          0.445809     -0.097671  0.473862   0.450557        0.448348   \n",
      "\n",
      "        MaritalStatus  HasMortgage  HasDependents  LoanPurpose  HasCoSigner  \n",
      "137918       0.001284     0.999936      -1.000406    -0.000312     0.999437  \n",
      "32623       -1.224023    -1.000064      -1.000406     0.707187    -1.000563  \n",
      "20894        1.226590    -1.000064       0.999594    -0.707810     0.999437  \n",
      "116646       1.226590    -1.000064       0.999594     1.414685    -1.000563  \n",
      "3325        -1.224023     0.999936       0.999594    -0.707810    -1.000563  \n",
      "y_train:\n",
      " 137918    0\n",
      "32623     0\n",
      "20894     0\n",
      "116646    0\n",
      "3325      0\n",
      "Name: Default, dtype: int64\n",
      "X_val:\n",
      "              Age    Income  LoanAmount  CreditScore  MonthsEmployed  \\\n",
      "92581   0.034055 -1.085855   -1.131192    -0.585835       -1.400139   \n",
      "42055  -1.032956  0.584996    0.930952    -0.346656       -1.342411   \n",
      "134934 -0.299386  1.179728   -0.410847    -1.215254        1.688285   \n",
      "142686  0.367496  0.437045   -0.821079    -0.806131        0.504870   \n",
      "119826  1.434507 -1.669779    1.726395    -0.957192        0.851236   \n",
      "\n",
      "        NumCreditLines  InterestRate  DTIRatio  Education  EmploymentType  \\\n",
      "92581        -1.344869     -0.513581  1.080151  -1.336042        1.343560   \n",
      "42055         1.341148     -1.713091  0.777007  -0.442742        0.448348   \n",
      "134934        0.445809      1.457473  0.863619  -1.336042       -0.446863   \n",
      "142686        1.341148     -1.580482 -0.132426   0.450557       -0.446863   \n",
      "119826        1.341148      0.022883 -0.522183  -1.336042        1.343560   \n",
      "\n",
      "        MaritalStatus  HasMortgage  HasDependents  LoanPurpose  HasCoSigner  \n",
      "92581       -1.224023     0.999936      -1.000406     0.707187     0.999437  \n",
      "42055       -1.224023    -1.000064       0.999594     0.707187    -1.000563  \n",
      "134934       1.226590     0.999936      -1.000406    -0.707810     0.999437  \n",
      "142686       1.226590     0.999936       0.999594    -0.000312    -1.000563  \n",
      "119826       0.001284     0.999936      -1.000406    -0.000312     0.999437  \n",
      "y_val:\n",
      " 92581     0\n",
      "42055     0\n",
      "134934    0\n",
      "142686    0\n",
      "119826    0\n",
      "Name: Default, dtype: int64\n"
     ]
    }
   ],
   "source": [
    "# Step 5: Split the training data into train and validation sets\n",
    "X_train, X_val, y_train, y_val = train_test_split(train_features, train_target, test_size=0.2, random_state=42)\n",
    "\n",
    "print(\"\\nTraining and Validation Split:\")\n",
    "print(\"X_train:\\n\", X_train.head())\n",
    "print(\"y_train:\\n\", y_train.head())\n",
    "print(\"X_val:\\n\", X_val.head())\n",
    "print(\"y_val:\\n\", y_val.head())"
   ]
  },
  {
   "cell_type": "code",
   "execution_count": 27,
   "id": "6280bb20-fa27-4785-951f-ecbcdf0f1b20",
   "metadata": {},
   "outputs": [
    {
     "name": "stdout",
     "output_type": "stream",
     "text": [
      "\n",
      "Validation Accuracy: 0.8848639122772665\n"
     ]
    }
   ],
   "source": [
    "# Initialize and train the Random Forest model\n",
    "\n",
    "rf_model = RandomForestClassifier(n_estimators=100, random_state=42)\n",
    "rf_model.fit(X_train, y_train)\n",
    "\n",
    "# Evaluate the model on the validation set\n",
    "\n",
    "y_val_pred = rf_model.predict(X_val)\n",
    "print(\"\\nValidation Accuracy:\", accuracy_score(y_val, y_val_pred))\n",
    "\n",
    "# Make predictions on the test set\n",
    "\n",
    "test_predictions = rf_model.predict(test_df)\n",
    "\n",
    "# Prepare the submission file\n",
    "# Ensure we include 'LoanID' to match with sample_submission.csv structure.\n",
    "# Assuming test_df had the LoanID column originally, we’ll add it back here for the submission.\n",
    "submission_df = pd.DataFrame({\n",
    "    'LoanID': pd.read_csv('test.csv')['LoanID'],  # Reload LoanID from the test CSV\n",
    "    'Default': test_predictions  # Predicted defaults\n",
    "})\n",
    "\n",
    "# Save the predictions to a CSV file\n",
    "\n",
    "submission_df.to_csv('random_forest_predictions.csv', index=False)"
   ]
  },
  {
   "cell_type": "code",
   "execution_count": 1,
   "id": "212826a7-e69b-47cb-aa68-757aaf41d8f3",
   "metadata": {},
   "outputs": [
    {
     "name": "stdout",
     "output_type": "stream",
     "text": [
      "Fitting 5 folds for each of 6 candidates, totalling 30 fits\n",
      "[CV] END linear_regression__fit_intercept=True, poly_features__degree=2; total time=   4.5s\n",
      "[CV] END linear_regression__fit_intercept=True, poly_features__degree=3; total time=10.1min\n",
      "[CV] END linear_regression__fit_intercept=False, poly_features__degree=3; total time=  34.4s\n",
      "[CV] END linear_regression__fit_intercept=True, poly_features__degree=1; total time=   0.1s\n",
      "[CV] END linear_regression__fit_intercept=True, poly_features__degree=2; total time=   5.2s\n",
      "[CV] END linear_regression__fit_intercept=False, poly_features__degree=1; total time=   0.1s\n",
      "[CV] END linear_regression__fit_intercept=False, poly_features__degree=2; total time=   3.6s\n",
      "[CV] END linear_regression__fit_intercept=False, poly_features__degree=3; total time=10.1min\n",
      "[CV] END linear_regression__fit_intercept=False, poly_features__degree=3; total time=  35.2s\n"
     ]
    },
    {
     "ename": "KeyboardInterrupt",
     "evalue": "",
     "output_type": "error",
     "traceback": [
      "\u001b[0;31m---------------------------------------------------------------------------\u001b[0m",
      "\u001b[0;31mKeyboardInterrupt\u001b[0m                         Traceback (most recent call last)",
      "Cell \u001b[0;32mIn[1], line 56\u001b[0m\n\u001b[1;32m     54\u001b[0m \u001b[38;5;66;03m# Set up GridSearchCV\u001b[39;00m\n\u001b[1;32m     55\u001b[0m grid_search \u001b[38;5;241m=\u001b[39m GridSearchCV(estimator\u001b[38;5;241m=\u001b[39mpipeline, param_grid\u001b[38;5;241m=\u001b[39mparam_grid, cv\u001b[38;5;241m=\u001b[39m\u001b[38;5;241m5\u001b[39m, n_jobs\u001b[38;5;241m=\u001b[39m\u001b[38;5;241m-\u001b[39m\u001b[38;5;241m1\u001b[39m, verbose\u001b[38;5;241m=\u001b[39m\u001b[38;5;241m2\u001b[39m)\n\u001b[0;32m---> 56\u001b[0m \u001b[43mgrid_search\u001b[49m\u001b[38;5;241;43m.\u001b[39;49m\u001b[43mfit\u001b[49m\u001b[43m(\u001b[49m\u001b[43mX_train\u001b[49m\u001b[43m,\u001b[49m\u001b[43m \u001b[49m\u001b[43my_train\u001b[49m\u001b[43m)\u001b[49m\n\u001b[1;32m     58\u001b[0m \u001b[38;5;66;03m# Get the best model from grid search and predict on validation set\u001b[39;00m\n\u001b[1;32m     59\u001b[0m best_model \u001b[38;5;241m=\u001b[39m grid_search\u001b[38;5;241m.\u001b[39mbest_estimator_\n",
      "File \u001b[0;32m~/Library/Python/3.11/lib/python/site-packages/sklearn/base.py:1473\u001b[0m, in \u001b[0;36m_fit_context.<locals>.decorator.<locals>.wrapper\u001b[0;34m(estimator, *args, **kwargs)\u001b[0m\n\u001b[1;32m   1466\u001b[0m     estimator\u001b[38;5;241m.\u001b[39m_validate_params()\n\u001b[1;32m   1468\u001b[0m \u001b[38;5;28;01mwith\u001b[39;00m config_context(\n\u001b[1;32m   1469\u001b[0m     skip_parameter_validation\u001b[38;5;241m=\u001b[39m(\n\u001b[1;32m   1470\u001b[0m         prefer_skip_nested_validation \u001b[38;5;129;01mor\u001b[39;00m global_skip_validation\n\u001b[1;32m   1471\u001b[0m     )\n\u001b[1;32m   1472\u001b[0m ):\n\u001b[0;32m-> 1473\u001b[0m     \u001b[38;5;28;01mreturn\u001b[39;00m \u001b[43mfit_method\u001b[49m\u001b[43m(\u001b[49m\u001b[43mestimator\u001b[49m\u001b[43m,\u001b[49m\u001b[43m \u001b[49m\u001b[38;5;241;43m*\u001b[39;49m\u001b[43margs\u001b[49m\u001b[43m,\u001b[49m\u001b[43m \u001b[49m\u001b[38;5;241;43m*\u001b[39;49m\u001b[38;5;241;43m*\u001b[39;49m\u001b[43mkwargs\u001b[49m\u001b[43m)\u001b[49m\n",
      "File \u001b[0;32m~/Library/Python/3.11/lib/python/site-packages/sklearn/model_selection/_search.py:968\u001b[0m, in \u001b[0;36mBaseSearchCV.fit\u001b[0;34m(self, X, y, **params)\u001b[0m\n\u001b[1;32m    962\u001b[0m     results \u001b[38;5;241m=\u001b[39m \u001b[38;5;28mself\u001b[39m\u001b[38;5;241m.\u001b[39m_format_results(\n\u001b[1;32m    963\u001b[0m         all_candidate_params, n_splits, all_out, all_more_results\n\u001b[1;32m    964\u001b[0m     )\n\u001b[1;32m    966\u001b[0m     \u001b[38;5;28;01mreturn\u001b[39;00m results\n\u001b[0;32m--> 968\u001b[0m \u001b[38;5;28;43mself\u001b[39;49m\u001b[38;5;241;43m.\u001b[39;49m\u001b[43m_run_search\u001b[49m\u001b[43m(\u001b[49m\u001b[43mevaluate_candidates\u001b[49m\u001b[43m)\u001b[49m\n\u001b[1;32m    970\u001b[0m \u001b[38;5;66;03m# multimetric is determined here because in the case of a callable\u001b[39;00m\n\u001b[1;32m    971\u001b[0m \u001b[38;5;66;03m# self.scoring the return type is only known after calling\u001b[39;00m\n\u001b[1;32m    972\u001b[0m first_test_score \u001b[38;5;241m=\u001b[39m all_out[\u001b[38;5;241m0\u001b[39m][\u001b[38;5;124m\"\u001b[39m\u001b[38;5;124mtest_scores\u001b[39m\u001b[38;5;124m\"\u001b[39m]\n",
      "File \u001b[0;32m~/Library/Python/3.11/lib/python/site-packages/sklearn/model_selection/_search.py:1543\u001b[0m, in \u001b[0;36mGridSearchCV._run_search\u001b[0;34m(self, evaluate_candidates)\u001b[0m\n\u001b[1;32m   1541\u001b[0m \u001b[38;5;28;01mdef\u001b[39;00m \u001b[38;5;21m_run_search\u001b[39m(\u001b[38;5;28mself\u001b[39m, evaluate_candidates):\n\u001b[1;32m   1542\u001b[0m \u001b[38;5;250m    \u001b[39m\u001b[38;5;124;03m\"\"\"Search all candidates in param_grid\"\"\"\u001b[39;00m\n\u001b[0;32m-> 1543\u001b[0m     \u001b[43mevaluate_candidates\u001b[49m\u001b[43m(\u001b[49m\u001b[43mParameterGrid\u001b[49m\u001b[43m(\u001b[49m\u001b[38;5;28;43mself\u001b[39;49m\u001b[38;5;241;43m.\u001b[39;49m\u001b[43mparam_grid\u001b[49m\u001b[43m)\u001b[49m\u001b[43m)\u001b[49m\n",
      "File \u001b[0;32m~/Library/Python/3.11/lib/python/site-packages/sklearn/model_selection/_search.py:914\u001b[0m, in \u001b[0;36mBaseSearchCV.fit.<locals>.evaluate_candidates\u001b[0;34m(candidate_params, cv, more_results)\u001b[0m\n\u001b[1;32m    906\u001b[0m \u001b[38;5;28;01mif\u001b[39;00m \u001b[38;5;28mself\u001b[39m\u001b[38;5;241m.\u001b[39mverbose \u001b[38;5;241m>\u001b[39m \u001b[38;5;241m0\u001b[39m:\n\u001b[1;32m    907\u001b[0m     \u001b[38;5;28mprint\u001b[39m(\n\u001b[1;32m    908\u001b[0m         \u001b[38;5;124m\"\u001b[39m\u001b[38;5;124mFitting \u001b[39m\u001b[38;5;132;01m{0}\u001b[39;00m\u001b[38;5;124m folds for each of \u001b[39m\u001b[38;5;132;01m{1}\u001b[39;00m\u001b[38;5;124m candidates,\u001b[39m\u001b[38;5;124m\"\u001b[39m\n\u001b[1;32m    909\u001b[0m         \u001b[38;5;124m\"\u001b[39m\u001b[38;5;124m totalling \u001b[39m\u001b[38;5;132;01m{2}\u001b[39;00m\u001b[38;5;124m fits\u001b[39m\u001b[38;5;124m\"\u001b[39m\u001b[38;5;241m.\u001b[39mformat(\n\u001b[1;32m    910\u001b[0m             n_splits, n_candidates, n_candidates \u001b[38;5;241m*\u001b[39m n_splits\n\u001b[1;32m    911\u001b[0m         )\n\u001b[1;32m    912\u001b[0m     )\n\u001b[0;32m--> 914\u001b[0m out \u001b[38;5;241m=\u001b[39m \u001b[43mparallel\u001b[49m\u001b[43m(\u001b[49m\n\u001b[1;32m    915\u001b[0m \u001b[43m    \u001b[49m\u001b[43mdelayed\u001b[49m\u001b[43m(\u001b[49m\u001b[43m_fit_and_score\u001b[49m\u001b[43m)\u001b[49m\u001b[43m(\u001b[49m\n\u001b[1;32m    916\u001b[0m \u001b[43m        \u001b[49m\u001b[43mclone\u001b[49m\u001b[43m(\u001b[49m\u001b[43mbase_estimator\u001b[49m\u001b[43m)\u001b[49m\u001b[43m,\u001b[49m\n\u001b[1;32m    917\u001b[0m \u001b[43m        \u001b[49m\u001b[43mX\u001b[49m\u001b[43m,\u001b[49m\n\u001b[1;32m    918\u001b[0m \u001b[43m        \u001b[49m\u001b[43my\u001b[49m\u001b[43m,\u001b[49m\n\u001b[1;32m    919\u001b[0m \u001b[43m        \u001b[49m\u001b[43mtrain\u001b[49m\u001b[38;5;241;43m=\u001b[39;49m\u001b[43mtrain\u001b[49m\u001b[43m,\u001b[49m\n\u001b[1;32m    920\u001b[0m \u001b[43m        \u001b[49m\u001b[43mtest\u001b[49m\u001b[38;5;241;43m=\u001b[39;49m\u001b[43mtest\u001b[49m\u001b[43m,\u001b[49m\n\u001b[1;32m    921\u001b[0m \u001b[43m        \u001b[49m\u001b[43mparameters\u001b[49m\u001b[38;5;241;43m=\u001b[39;49m\u001b[43mparameters\u001b[49m\u001b[43m,\u001b[49m\n\u001b[1;32m    922\u001b[0m \u001b[43m        \u001b[49m\u001b[43msplit_progress\u001b[49m\u001b[38;5;241;43m=\u001b[39;49m\u001b[43m(\u001b[49m\u001b[43msplit_idx\u001b[49m\u001b[43m,\u001b[49m\u001b[43m \u001b[49m\u001b[43mn_splits\u001b[49m\u001b[43m)\u001b[49m\u001b[43m,\u001b[49m\n\u001b[1;32m    923\u001b[0m \u001b[43m        \u001b[49m\u001b[43mcandidate_progress\u001b[49m\u001b[38;5;241;43m=\u001b[39;49m\u001b[43m(\u001b[49m\u001b[43mcand_idx\u001b[49m\u001b[43m,\u001b[49m\u001b[43m \u001b[49m\u001b[43mn_candidates\u001b[49m\u001b[43m)\u001b[49m\u001b[43m,\u001b[49m\n\u001b[1;32m    924\u001b[0m \u001b[43m        \u001b[49m\u001b[38;5;241;43m*\u001b[39;49m\u001b[38;5;241;43m*\u001b[39;49m\u001b[43mfit_and_score_kwargs\u001b[49m\u001b[43m,\u001b[49m\n\u001b[1;32m    925\u001b[0m \u001b[43m    \u001b[49m\u001b[43m)\u001b[49m\n\u001b[1;32m    926\u001b[0m \u001b[43m    \u001b[49m\u001b[38;5;28;43;01mfor\u001b[39;49;00m\u001b[43m \u001b[49m\u001b[43m(\u001b[49m\u001b[43mcand_idx\u001b[49m\u001b[43m,\u001b[49m\u001b[43m \u001b[49m\u001b[43mparameters\u001b[49m\u001b[43m)\u001b[49m\u001b[43m,\u001b[49m\u001b[43m \u001b[49m\u001b[43m(\u001b[49m\u001b[43msplit_idx\u001b[49m\u001b[43m,\u001b[49m\u001b[43m \u001b[49m\u001b[43m(\u001b[49m\u001b[43mtrain\u001b[49m\u001b[43m,\u001b[49m\u001b[43m \u001b[49m\u001b[43mtest\u001b[49m\u001b[43m)\u001b[49m\u001b[43m)\u001b[49m\u001b[43m \u001b[49m\u001b[38;5;129;43;01min\u001b[39;49;00m\u001b[43m \u001b[49m\u001b[43mproduct\u001b[49m\u001b[43m(\u001b[49m\n\u001b[1;32m    927\u001b[0m \u001b[43m        \u001b[49m\u001b[38;5;28;43menumerate\u001b[39;49m\u001b[43m(\u001b[49m\u001b[43mcandidate_params\u001b[49m\u001b[43m)\u001b[49m\u001b[43m,\u001b[49m\n\u001b[1;32m    928\u001b[0m \u001b[43m        \u001b[49m\u001b[38;5;28;43menumerate\u001b[39;49m\u001b[43m(\u001b[49m\u001b[43mcv\u001b[49m\u001b[38;5;241;43m.\u001b[39;49m\u001b[43msplit\u001b[49m\u001b[43m(\u001b[49m\u001b[43mX\u001b[49m\u001b[43m,\u001b[49m\u001b[43m \u001b[49m\u001b[43my\u001b[49m\u001b[43m,\u001b[49m\u001b[43m \u001b[49m\u001b[38;5;241;43m*\u001b[39;49m\u001b[38;5;241;43m*\u001b[39;49m\u001b[43mrouted_params\u001b[49m\u001b[38;5;241;43m.\u001b[39;49m\u001b[43msplitter\u001b[49m\u001b[38;5;241;43m.\u001b[39;49m\u001b[43msplit\u001b[49m\u001b[43m)\u001b[49m\u001b[43m)\u001b[49m\u001b[43m,\u001b[49m\n\u001b[1;32m    929\u001b[0m \u001b[43m    \u001b[49m\u001b[43m)\u001b[49m\n\u001b[1;32m    930\u001b[0m \u001b[43m\u001b[49m\u001b[43m)\u001b[49m\n\u001b[1;32m    932\u001b[0m \u001b[38;5;28;01mif\u001b[39;00m \u001b[38;5;28mlen\u001b[39m(out) \u001b[38;5;241m<\u001b[39m \u001b[38;5;241m1\u001b[39m:\n\u001b[1;32m    933\u001b[0m     \u001b[38;5;28;01mraise\u001b[39;00m \u001b[38;5;167;01mValueError\u001b[39;00m(\n\u001b[1;32m    934\u001b[0m         \u001b[38;5;124m\"\u001b[39m\u001b[38;5;124mNo fits were performed. \u001b[39m\u001b[38;5;124m\"\u001b[39m\n\u001b[1;32m    935\u001b[0m         \u001b[38;5;124m\"\u001b[39m\u001b[38;5;124mWas the CV iterator empty? \u001b[39m\u001b[38;5;124m\"\u001b[39m\n\u001b[1;32m    936\u001b[0m         \u001b[38;5;124m\"\u001b[39m\u001b[38;5;124mWere there no candidates?\u001b[39m\u001b[38;5;124m\"\u001b[39m\n\u001b[1;32m    937\u001b[0m     )\n",
      "File \u001b[0;32m~/Library/Python/3.11/lib/python/site-packages/sklearn/utils/parallel.py:67\u001b[0m, in \u001b[0;36mParallel.__call__\u001b[0;34m(self, iterable)\u001b[0m\n\u001b[1;32m     62\u001b[0m config \u001b[38;5;241m=\u001b[39m get_config()\n\u001b[1;32m     63\u001b[0m iterable_with_config \u001b[38;5;241m=\u001b[39m (\n\u001b[1;32m     64\u001b[0m     (_with_config(delayed_func, config), args, kwargs)\n\u001b[1;32m     65\u001b[0m     \u001b[38;5;28;01mfor\u001b[39;00m delayed_func, args, kwargs \u001b[38;5;129;01min\u001b[39;00m iterable\n\u001b[1;32m     66\u001b[0m )\n\u001b[0;32m---> 67\u001b[0m \u001b[38;5;28;01mreturn\u001b[39;00m \u001b[38;5;28;43msuper\u001b[39;49m\u001b[43m(\u001b[49m\u001b[43m)\u001b[49m\u001b[38;5;241;43m.\u001b[39;49m\u001b[38;5;21;43m__call__\u001b[39;49m\u001b[43m(\u001b[49m\u001b[43miterable_with_config\u001b[49m\u001b[43m)\u001b[49m\n",
      "File \u001b[0;32m~/Library/Python/3.11/lib/python/site-packages/joblib/parallel.py:2007\u001b[0m, in \u001b[0;36mParallel.__call__\u001b[0;34m(self, iterable)\u001b[0m\n\u001b[1;32m   2001\u001b[0m \u001b[38;5;66;03m# The first item from the output is blank, but it makes the interpreter\u001b[39;00m\n\u001b[1;32m   2002\u001b[0m \u001b[38;5;66;03m# progress until it enters the Try/Except block of the generator and\u001b[39;00m\n\u001b[1;32m   2003\u001b[0m \u001b[38;5;66;03m# reaches the first `yield` statement. This starts the asynchronous\u001b[39;00m\n\u001b[1;32m   2004\u001b[0m \u001b[38;5;66;03m# dispatch of the tasks to the workers.\u001b[39;00m\n\u001b[1;32m   2005\u001b[0m \u001b[38;5;28mnext\u001b[39m(output)\n\u001b[0;32m-> 2007\u001b[0m \u001b[38;5;28;01mreturn\u001b[39;00m output \u001b[38;5;28;01mif\u001b[39;00m \u001b[38;5;28mself\u001b[39m\u001b[38;5;241m.\u001b[39mreturn_generator \u001b[38;5;28;01melse\u001b[39;00m \u001b[38;5;28;43mlist\u001b[39;49m\u001b[43m(\u001b[49m\u001b[43moutput\u001b[49m\u001b[43m)\u001b[49m\n",
      "File \u001b[0;32m~/Library/Python/3.11/lib/python/site-packages/joblib/parallel.py:1650\u001b[0m, in \u001b[0;36mParallel._get_outputs\u001b[0;34m(self, iterator, pre_dispatch)\u001b[0m\n\u001b[1;32m   1647\u001b[0m     \u001b[38;5;28;01myield\u001b[39;00m\n\u001b[1;32m   1649\u001b[0m     \u001b[38;5;28;01mwith\u001b[39;00m \u001b[38;5;28mself\u001b[39m\u001b[38;5;241m.\u001b[39m_backend\u001b[38;5;241m.\u001b[39mretrieval_context():\n\u001b[0;32m-> 1650\u001b[0m         \u001b[38;5;28;01myield from\u001b[39;00m \u001b[38;5;28mself\u001b[39m\u001b[38;5;241m.\u001b[39m_retrieve()\n\u001b[1;32m   1652\u001b[0m \u001b[38;5;28;01mexcept\u001b[39;00m \u001b[38;5;167;01mGeneratorExit\u001b[39;00m:\n\u001b[1;32m   1653\u001b[0m     \u001b[38;5;66;03m# The generator has been garbage collected before being fully\u001b[39;00m\n\u001b[1;32m   1654\u001b[0m     \u001b[38;5;66;03m# consumed. This aborts the remaining tasks if possible and warn\u001b[39;00m\n\u001b[1;32m   1655\u001b[0m     \u001b[38;5;66;03m# the user if necessary.\u001b[39;00m\n\u001b[1;32m   1656\u001b[0m     \u001b[38;5;28mself\u001b[39m\u001b[38;5;241m.\u001b[39m_exception \u001b[38;5;241m=\u001b[39m \u001b[38;5;28;01mTrue\u001b[39;00m\n",
      "File \u001b[0;32m~/Library/Python/3.11/lib/python/site-packages/joblib/parallel.py:1762\u001b[0m, in \u001b[0;36mParallel._retrieve\u001b[0;34m(self)\u001b[0m\n\u001b[1;32m   1757\u001b[0m \u001b[38;5;66;03m# If the next job is not ready for retrieval yet, we just wait for\u001b[39;00m\n\u001b[1;32m   1758\u001b[0m \u001b[38;5;66;03m# async callbacks to progress.\u001b[39;00m\n\u001b[1;32m   1759\u001b[0m \u001b[38;5;28;01mif\u001b[39;00m ((\u001b[38;5;28mlen\u001b[39m(\u001b[38;5;28mself\u001b[39m\u001b[38;5;241m.\u001b[39m_jobs) \u001b[38;5;241m==\u001b[39m \u001b[38;5;241m0\u001b[39m) \u001b[38;5;129;01mor\u001b[39;00m\n\u001b[1;32m   1760\u001b[0m     (\u001b[38;5;28mself\u001b[39m\u001b[38;5;241m.\u001b[39m_jobs[\u001b[38;5;241m0\u001b[39m]\u001b[38;5;241m.\u001b[39mget_status(\n\u001b[1;32m   1761\u001b[0m         timeout\u001b[38;5;241m=\u001b[39m\u001b[38;5;28mself\u001b[39m\u001b[38;5;241m.\u001b[39mtimeout) \u001b[38;5;241m==\u001b[39m TASK_PENDING)):\n\u001b[0;32m-> 1762\u001b[0m     time\u001b[38;5;241m.\u001b[39msleep(\u001b[38;5;241m0.01\u001b[39m)\n\u001b[1;32m   1763\u001b[0m     \u001b[38;5;28;01mcontinue\u001b[39;00m\n\u001b[1;32m   1765\u001b[0m \u001b[38;5;66;03m# We need to be careful: the job list can be filling up as\u001b[39;00m\n\u001b[1;32m   1766\u001b[0m \u001b[38;5;66;03m# we empty it and Python list are not thread-safe by\u001b[39;00m\n\u001b[1;32m   1767\u001b[0m \u001b[38;5;66;03m# default hence the use of the lock\u001b[39;00m\n",
      "\u001b[0;31mKeyboardInterrupt\u001b[0m: "
     ]
    }
   ],
   "source": [
    "import pandas as pd\n",
    "import numpy as np\n",
    "from sklearn.model_selection import train_test_split, GridSearchCV\n",
    "from sklearn.preprocessing import StandardScaler, LabelEncoder, PolynomialFeatures\n",
    "from sklearn.impute import SimpleImputer\n",
    "from sklearn.pipeline import Pipeline\n",
    "from sklearn.linear_model import LinearRegression\n",
    "from sklearn.metrics import mean_squared_error, accuracy_score\n",
    "\n",
    "# Load datasets\n",
    "train_df = pd.read_csv('train.csv')\n",
    "test_df = pd.read_csv('test.csv')\n",
    "\n",
    "# Preprocessing: Drop unnecessary columns\n",
    "train_df = train_df.drop(columns=['LoanID', 'LoanTerm'])\n",
    "test_df = test_df.drop(columns=['LoanID', 'LoanTerm'])\n",
    "\n",
    "# Encode categorical columns\n",
    "categorical_cols = ['Education', 'EmploymentType', 'MaritalStatus', 'HasMortgage', 'HasDependents', 'LoanPurpose', 'HasCoSigner']\n",
    "for col in categorical_cols:\n",
    "    le = LabelEncoder()\n",
    "    train_df[col] = le.fit_transform(train_df[col])\n",
    "    test_df[col] = le.transform(test_df[col])\n",
    "\n",
    "# Handle missing values\n",
    "imputer = SimpleImputer(strategy='mean')\n",
    "train_features = train_df.drop(columns=['Default'])\n",
    "train_target = train_df['Default']\n",
    "train_features = pd.DataFrame(imputer.fit_transform(train_features), columns=train_features.columns)\n",
    "test_df = pd.DataFrame(imputer.transform(test_df), columns=test_df.columns)\n",
    "\n",
    "# Scale features\n",
    "scaler = StandardScaler()\n",
    "train_features = pd.DataFrame(scaler.fit_transform(train_features), columns=train_features.columns)\n",
    "test_df = pd.DataFrame(scaler.transform(test_df), columns=test_df.columns)\n",
    "\n",
    "# Split data into train and validation sets with stratification\n",
    "X_train, X_val, y_train, y_val = train_test_split(\n",
    "    train_features, train_target, test_size=0.2, stratify=train_target\n",
    ")\n",
    "\n",
    "# Set up a pipeline with PolynomialFeatures and LinearRegression\n",
    "pipeline = Pipeline([\n",
    "    ('poly_features', PolynomialFeatures()),\n",
    "    ('linear_regression', LinearRegression())\n",
    "])\n",
    "\n",
    "# Define parameter grid\n",
    "param_grid = {\n",
    "    'poly_features__degree': [1, 2, 3],  # Test different polynomial degrees\n",
    "    'linear_regression__fit_intercept': [True, False]\n",
    "}\n",
    "\n",
    "# Set up GridSearchCV\n",
    "grid_search = GridSearchCV(estimator=pipeline, param_grid=param_grid, cv=5, n_jobs=-1, verbose=2)\n",
    "grid_search.fit(X_train, y_train)\n",
    "\n",
    "# Get the best model from grid search and predict on validation set\n",
    "best_model = grid_search.best_estimator_\n",
    "y_val_pred = best_model.predict(X_val)\n",
    "\n",
    "# Evaluate the model\n",
    "rmse = np.sqrt(mean_squared_error(y_val, y_val_pred))\n",
    "print(\"Best Parameters:\", grid_search.best_params_)\n",
    "print(\"Root Mean Squared Error (RMSE) on validation set:\", rmse)\n",
    "\n",
    "# Optionally, round predictions for binary classification and calculate accuracy\n",
    "y_val_pred_rounded = np.round(y_val_pred)\n",
    "accuracy = accuracy_score(y_val, y_val_pred_rounded)\n",
    "print(\"Accuracy on validation set:\", accuracy)\n"
   ]
  },
  {
   "cell_type": "code",
   "execution_count": 37,
   "id": "236c1297-3adc-49c1-9cfd-ff84c3d93235",
   "metadata": {},
   "outputs": [
    {
     "name": "stdout",
     "output_type": "stream",
     "text": [
      "Initial Training Data:\n",
      "        LoanID  Age  Income  LoanAmount  CreditScore  MonthsEmployed  \\\n",
      "0  DRIRC89L0T   18  137576      209136          846              26   \n",
      "1  TS0FIUNHNU   47   57194        5970          748              30   \n",
      "2  I0YR284A1V   26   84328       95065          453               7   \n",
      "3  WB1T7NQV8A   53   49795      229582          533             107   \n",
      "4  J6GU9M4G1Z   49  115450       22072          840               0   \n",
      "\n",
      "   NumCreditLines  InterestRate  LoanTerm  DTIRatio    Education  \\\n",
      "0               2         10.47        60      0.81  High School   \n",
      "1               2         19.72        36      0.73  High School   \n",
      "2               2         24.25        12      0.45     Master's   \n",
      "3               3         14.44        60      0.17   Bachelor's   \n",
      "4               4         24.48        12      0.11   Bachelor's   \n",
      "\n",
      "  EmploymentType MaritalStatus HasMortgage HasDependents LoanPurpose  \\\n",
      "0  Self-employed        Single         Yes            No    Business   \n",
      "1     Unemployed      Divorced          No           Yes   Education   \n",
      "2  Self-employed       Married          No            No       Other   \n",
      "3  Self-employed        Single         Yes            No        Auto   \n",
      "4      Part-time        Single          No           Yes   Education   \n",
      "\n",
      "  HasCoSigner  Default  \n",
      "0          No        0  \n",
      "1          No        0  \n",
      "2         Yes        0  \n",
      "3         Yes        1  \n",
      "4         Yes        0  \n",
      "Initial Test Data:\n",
      "        LoanID  Age  Income  LoanAmount  CreditScore  MonthsEmployed  \\\n",
      "0  CKV34LU7V7   55  112656       92393          581             113   \n",
      "1  62KTYNH93J   56   91569      131575          641              54   \n",
      "2  JGFUSOIUH7   26   78169       75417          569             105   \n",
      "3  4538THBHOX   26   63033       10804          326             118   \n",
      "4  DXLNA06JHR   24   29665       21182          662             102   \n",
      "\n",
      "   NumCreditLines  InterestRate  LoanTerm  DTIRatio    Education  \\\n",
      "0               2         23.54        36      0.15          PhD   \n",
      "1               1         15.19        12      0.43  High School   \n",
      "2               3         18.02        12      0.29     Master's   \n",
      "3               1         14.71        24      0.41  High School   \n",
      "4               3         15.02        60      0.69          PhD   \n",
      "\n",
      "  EmploymentType MaritalStatus HasMortgage HasDependents LoanPurpose  \\\n",
      "0  Self-employed        Single         Yes           Yes        Home   \n",
      "1      Part-time      Divorced         Yes           Yes   Education   \n",
      "2      Part-time       Married         Yes           Yes   Education   \n",
      "3      Part-time        Single          No            No    Business   \n",
      "4     Unemployed        Single          No           Yes    Business   \n",
      "\n",
      "  HasCoSigner  \n",
      "0          No  \n",
      "1         Yes  \n",
      "2         Yes  \n",
      "3         Yes  \n",
      "4         Yes  \n",
      "\n",
      "Validation Accuracy: 0.8858429606422558\n"
     ]
    }
   ],
   "source": [
    "import pandas as pd\n",
    "from sklearn.model_selection import train_test_split\n",
    "from sklearn.preprocessing import StandardScaler, LabelEncoder\n",
    "from sklearn.impute import SimpleImputer\n",
    "from sklearn.ensemble import RandomForestClassifier\n",
    "from sklearn.metrics import accuracy_score, classification_report\n",
    "\n",
    "# Loading the dataset\n",
    "train_df = pd.read_csv('train.csv')\n",
    "test_df = pd.read_csv('test.csv')\n",
    "\n",
    "# Displaying initial data (head)\n",
    "print(\"Initial Training Data:\\n\", train_df.head())\n",
    "print(\"Initial Test Data:\\n\", test_df.head())\n",
    "\n",
    "# Drop unnecessary columns (including target column 'Default' from the feature set)\n",
    "train_df = train_df.drop(columns=['LoanID', 'LoanTerm'])\n",
    "test_df = test_df.drop(columns=['LoanID', 'LoanTerm'])\n",
    "\n",
    "# Encode categorical columns using LabelEncoder\n",
    "categorical_cols = ['Education', 'EmploymentType', 'MaritalStatus', 'HasMortgage', 'HasDependents', 'LoanPurpose', 'HasCoSigner']\n",
    "for col in categorical_cols:\n",
    "    le = LabelEncoder()\n",
    "    train_df[col] = le.fit_transform(train_df[col])\n",
    "    test_df[col] = le.transform(test_df[col])\n",
    "\n",
    "# Handle missing values\n",
    "imputer = SimpleImputer(strategy='mean')\n",
    "train_features = train_df.drop(columns=['Default'])  # Drop 'Default' from features\n",
    "train_target = train_df['Default']  # 'Default' is the target variable\n",
    "train_features = pd.DataFrame(imputer.fit_transform(train_features), columns=train_features.columns)\n",
    "test_df = pd.DataFrame(imputer.transform(test_df), columns=test_df.columns)\n",
    "\n",
    "# Scale features\n",
    "scaler = StandardScaler()\n",
    "train_features = pd.DataFrame(scaler.fit_transform(train_features), columns=train_features.columns)\n",
    "test_df = pd.DataFrame(scaler.transform(test_df), columns=test_df.columns)\n",
    "\n",
    "# Split the training data into train and validation sets with stratification\n",
    "X_train, X_val, y_train, y_val = train_test_split(\n",
    "    train_features, train_target, test_size=0.2, stratify=train_target, random_state=42\n",
    ")\n",
    "\n",
    "# Initialize and train the Random Forest model\n",
    "rf_model = RandomForestClassifier(n_estimators=100, random_state=42)\n",
    "rf_model.fit(X_train, y_train)\n",
    "\n",
    "# Evaluate the model on the validation set\n",
    "y_val_pred = rf_model.predict(X_val)\n",
    "print(\"\\nValidation Accuracy:\", accuracy_score(y_val, y_val_pred))\n",
    "\n",
    "# Make predictions on the test set\n",
    "test_predictions = rf_model.predict(test_df)\n",
    "\n",
    "# Prepare the submission file\n",
    "# Ensure we include 'LoanID' to match with sample_submission.csv structure.\n",
    "# Assuming test_df had the LoanID column originally, we’ll add it back here for the submission.\n",
    "submission_df = pd.DataFrame({\n",
    "    'LoanID': pd.read_csv('test.csv')['LoanID'],  # Reload LoanID from the test CSV\n",
    "    'Default': test_predictions  # Predicted defaults\n",
    "})\n",
    "\n",
    "# Save the predictions to a CSV file\n",
    "submission_df.to_csv('random_forest_predictions.csv', index=False)\n"
   ]
  },
  {
   "cell_type": "code",
   "execution_count": 38,
   "id": "738182da-a899-4be1-bf49-b9f1a72ee790",
   "metadata": {},
   "outputs": [
    {
     "name": "stdout",
     "output_type": "stream",
     "text": [
      "Initial Training Data:\n",
      "        LoanID  Age  Income  LoanAmount  CreditScore  MonthsEmployed  \\\n",
      "0  DRIRC89L0T   18  137576      209136          846              26   \n",
      "1  TS0FIUNHNU   47   57194        5970          748              30   \n",
      "2  I0YR284A1V   26   84328       95065          453               7   \n",
      "3  WB1T7NQV8A   53   49795      229582          533             107   \n",
      "4  J6GU9M4G1Z   49  115450       22072          840               0   \n",
      "\n",
      "   NumCreditLines  InterestRate  LoanTerm  DTIRatio    Education  \\\n",
      "0               2         10.47        60      0.81  High School   \n",
      "1               2         19.72        36      0.73  High School   \n",
      "2               2         24.25        12      0.45     Master's   \n",
      "3               3         14.44        60      0.17   Bachelor's   \n",
      "4               4         24.48        12      0.11   Bachelor's   \n",
      "\n",
      "  EmploymentType MaritalStatus HasMortgage HasDependents LoanPurpose  \\\n",
      "0  Self-employed        Single         Yes            No    Business   \n",
      "1     Unemployed      Divorced          No           Yes   Education   \n",
      "2  Self-employed       Married          No            No       Other   \n",
      "3  Self-employed        Single         Yes            No        Auto   \n",
      "4      Part-time        Single          No           Yes   Education   \n",
      "\n",
      "  HasCoSigner  Default  \n",
      "0          No        0  \n",
      "1          No        0  \n",
      "2         Yes        0  \n",
      "3         Yes        1  \n",
      "4         Yes        0  \n",
      "Initial Test Data:\n",
      "        LoanID  Age  Income  LoanAmount  CreditScore  MonthsEmployed  \\\n",
      "0  CKV34LU7V7   55  112656       92393          581             113   \n",
      "1  62KTYNH93J   56   91569      131575          641              54   \n",
      "2  JGFUSOIUH7   26   78169       75417          569             105   \n",
      "3  4538THBHOX   26   63033       10804          326             118   \n",
      "4  DXLNA06JHR   24   29665       21182          662             102   \n",
      "\n",
      "   NumCreditLines  InterestRate  LoanTerm  DTIRatio    Education  \\\n",
      "0               2         23.54        36      0.15          PhD   \n",
      "1               1         15.19        12      0.43  High School   \n",
      "2               3         18.02        12      0.29     Master's   \n",
      "3               1         14.71        24      0.41  High School   \n",
      "4               3         15.02        60      0.69          PhD   \n",
      "\n",
      "  EmploymentType MaritalStatus HasMortgage HasDependents LoanPurpose  \\\n",
      "0  Self-employed        Single         Yes           Yes        Home   \n",
      "1      Part-time      Divorced         Yes           Yes   Education   \n",
      "2      Part-time       Married         Yes           Yes   Education   \n",
      "3      Part-time        Single          No            No    Business   \n",
      "4     Unemployed        Single          No           Yes    Business   \n",
      "\n",
      "  HasCoSigner  \n",
      "0          No  \n",
      "1         Yes  \n",
      "2         Yes  \n",
      "3         Yes  \n",
      "4         Yes  \n",
      "Fitting 5 folds for each of 6 candidates, totalling 30 fits\n",
      "[CV] END linear_regression__fit_intercept=True, poly_features__degree=1; total time=   0.2s\n",
      "[CV] END linear_regression__fit_intercept=True, poly_features__degree=2; total time=   5.5s\n"
     ]
    },
    {
     "ename": "KeyboardInterrupt",
     "evalue": "",
     "output_type": "error",
     "traceback": [
      "\u001b[0;31m---------------------------------------------------------------------------\u001b[0m",
      "\u001b[0;31mKeyboardInterrupt\u001b[0m                         Traceback (most recent call last)",
      "Cell \u001b[0;32mIn[38], line 59\u001b[0m\n\u001b[1;32m     57\u001b[0m \u001b[38;5;66;03m# Set up GridSearchCV to search for the best polynomial degree and fit_intercept setting\u001b[39;00m\n\u001b[1;32m     58\u001b[0m grid_search \u001b[38;5;241m=\u001b[39m GridSearchCV(estimator\u001b[38;5;241m=\u001b[39mpipeline, param_grid\u001b[38;5;241m=\u001b[39mparam_grid, cv\u001b[38;5;241m=\u001b[39m\u001b[38;5;241m5\u001b[39m, n_jobs\u001b[38;5;241m=\u001b[39m\u001b[38;5;241m-\u001b[39m\u001b[38;5;241m1\u001b[39m, verbose\u001b[38;5;241m=\u001b[39m\u001b[38;5;241m2\u001b[39m)\n\u001b[0;32m---> 59\u001b[0m \u001b[43mgrid_search\u001b[49m\u001b[38;5;241;43m.\u001b[39;49m\u001b[43mfit\u001b[49m\u001b[43m(\u001b[49m\u001b[43mX_train\u001b[49m\u001b[43m,\u001b[49m\u001b[43m \u001b[49m\u001b[43my_train\u001b[49m\u001b[43m)\u001b[49m\n\u001b[1;32m     61\u001b[0m \u001b[38;5;66;03m# Get the best model from grid search and predict on validation set\u001b[39;00m\n\u001b[1;32m     62\u001b[0m best_model \u001b[38;5;241m=\u001b[39m grid_search\u001b[38;5;241m.\u001b[39mbest_estimator_\n",
      "File \u001b[0;32m~/Library/Python/3.11/lib/python/site-packages/sklearn/base.py:1473\u001b[0m, in \u001b[0;36m_fit_context.<locals>.decorator.<locals>.wrapper\u001b[0;34m(estimator, *args, **kwargs)\u001b[0m\n\u001b[1;32m   1466\u001b[0m     estimator\u001b[38;5;241m.\u001b[39m_validate_params()\n\u001b[1;32m   1468\u001b[0m \u001b[38;5;28;01mwith\u001b[39;00m config_context(\n\u001b[1;32m   1469\u001b[0m     skip_parameter_validation\u001b[38;5;241m=\u001b[39m(\n\u001b[1;32m   1470\u001b[0m         prefer_skip_nested_validation \u001b[38;5;129;01mor\u001b[39;00m global_skip_validation\n\u001b[1;32m   1471\u001b[0m     )\n\u001b[1;32m   1472\u001b[0m ):\n\u001b[0;32m-> 1473\u001b[0m     \u001b[38;5;28;01mreturn\u001b[39;00m \u001b[43mfit_method\u001b[49m\u001b[43m(\u001b[49m\u001b[43mestimator\u001b[49m\u001b[43m,\u001b[49m\u001b[43m \u001b[49m\u001b[38;5;241;43m*\u001b[39;49m\u001b[43margs\u001b[49m\u001b[43m,\u001b[49m\u001b[43m \u001b[49m\u001b[38;5;241;43m*\u001b[39;49m\u001b[38;5;241;43m*\u001b[39;49m\u001b[43mkwargs\u001b[49m\u001b[43m)\u001b[49m\n",
      "File \u001b[0;32m~/Library/Python/3.11/lib/python/site-packages/sklearn/model_selection/_search.py:968\u001b[0m, in \u001b[0;36mBaseSearchCV.fit\u001b[0;34m(self, X, y, **params)\u001b[0m\n\u001b[1;32m    962\u001b[0m     results \u001b[38;5;241m=\u001b[39m \u001b[38;5;28mself\u001b[39m\u001b[38;5;241m.\u001b[39m_format_results(\n\u001b[1;32m    963\u001b[0m         all_candidate_params, n_splits, all_out, all_more_results\n\u001b[1;32m    964\u001b[0m     )\n\u001b[1;32m    966\u001b[0m     \u001b[38;5;28;01mreturn\u001b[39;00m results\n\u001b[0;32m--> 968\u001b[0m \u001b[38;5;28;43mself\u001b[39;49m\u001b[38;5;241;43m.\u001b[39;49m\u001b[43m_run_search\u001b[49m\u001b[43m(\u001b[49m\u001b[43mevaluate_candidates\u001b[49m\u001b[43m)\u001b[49m\n\u001b[1;32m    970\u001b[0m \u001b[38;5;66;03m# multimetric is determined here because in the case of a callable\u001b[39;00m\n\u001b[1;32m    971\u001b[0m \u001b[38;5;66;03m# self.scoring the return type is only known after calling\u001b[39;00m\n\u001b[1;32m    972\u001b[0m first_test_score \u001b[38;5;241m=\u001b[39m all_out[\u001b[38;5;241m0\u001b[39m][\u001b[38;5;124m\"\u001b[39m\u001b[38;5;124mtest_scores\u001b[39m\u001b[38;5;124m\"\u001b[39m]\n",
      "File \u001b[0;32m~/Library/Python/3.11/lib/python/site-packages/sklearn/model_selection/_search.py:1543\u001b[0m, in \u001b[0;36mGridSearchCV._run_search\u001b[0;34m(self, evaluate_candidates)\u001b[0m\n\u001b[1;32m   1541\u001b[0m \u001b[38;5;28;01mdef\u001b[39;00m \u001b[38;5;21m_run_search\u001b[39m(\u001b[38;5;28mself\u001b[39m, evaluate_candidates):\n\u001b[1;32m   1542\u001b[0m \u001b[38;5;250m    \u001b[39m\u001b[38;5;124;03m\"\"\"Search all candidates in param_grid\"\"\"\u001b[39;00m\n\u001b[0;32m-> 1543\u001b[0m     \u001b[43mevaluate_candidates\u001b[49m\u001b[43m(\u001b[49m\u001b[43mParameterGrid\u001b[49m\u001b[43m(\u001b[49m\u001b[38;5;28;43mself\u001b[39;49m\u001b[38;5;241;43m.\u001b[39;49m\u001b[43mparam_grid\u001b[49m\u001b[43m)\u001b[49m\u001b[43m)\u001b[49m\n",
      "File \u001b[0;32m~/Library/Python/3.11/lib/python/site-packages/sklearn/model_selection/_search.py:914\u001b[0m, in \u001b[0;36mBaseSearchCV.fit.<locals>.evaluate_candidates\u001b[0;34m(candidate_params, cv, more_results)\u001b[0m\n\u001b[1;32m    906\u001b[0m \u001b[38;5;28;01mif\u001b[39;00m \u001b[38;5;28mself\u001b[39m\u001b[38;5;241m.\u001b[39mverbose \u001b[38;5;241m>\u001b[39m \u001b[38;5;241m0\u001b[39m:\n\u001b[1;32m    907\u001b[0m     \u001b[38;5;28mprint\u001b[39m(\n\u001b[1;32m    908\u001b[0m         \u001b[38;5;124m\"\u001b[39m\u001b[38;5;124mFitting \u001b[39m\u001b[38;5;132;01m{0}\u001b[39;00m\u001b[38;5;124m folds for each of \u001b[39m\u001b[38;5;132;01m{1}\u001b[39;00m\u001b[38;5;124m candidates,\u001b[39m\u001b[38;5;124m\"\u001b[39m\n\u001b[1;32m    909\u001b[0m         \u001b[38;5;124m\"\u001b[39m\u001b[38;5;124m totalling \u001b[39m\u001b[38;5;132;01m{2}\u001b[39;00m\u001b[38;5;124m fits\u001b[39m\u001b[38;5;124m\"\u001b[39m\u001b[38;5;241m.\u001b[39mformat(\n\u001b[1;32m    910\u001b[0m             n_splits, n_candidates, n_candidates \u001b[38;5;241m*\u001b[39m n_splits\n\u001b[1;32m    911\u001b[0m         )\n\u001b[1;32m    912\u001b[0m     )\n\u001b[0;32m--> 914\u001b[0m out \u001b[38;5;241m=\u001b[39m \u001b[43mparallel\u001b[49m\u001b[43m(\u001b[49m\n\u001b[1;32m    915\u001b[0m \u001b[43m    \u001b[49m\u001b[43mdelayed\u001b[49m\u001b[43m(\u001b[49m\u001b[43m_fit_and_score\u001b[49m\u001b[43m)\u001b[49m\u001b[43m(\u001b[49m\n\u001b[1;32m    916\u001b[0m \u001b[43m        \u001b[49m\u001b[43mclone\u001b[49m\u001b[43m(\u001b[49m\u001b[43mbase_estimator\u001b[49m\u001b[43m)\u001b[49m\u001b[43m,\u001b[49m\n\u001b[1;32m    917\u001b[0m \u001b[43m        \u001b[49m\u001b[43mX\u001b[49m\u001b[43m,\u001b[49m\n\u001b[1;32m    918\u001b[0m \u001b[43m        \u001b[49m\u001b[43my\u001b[49m\u001b[43m,\u001b[49m\n\u001b[1;32m    919\u001b[0m \u001b[43m        \u001b[49m\u001b[43mtrain\u001b[49m\u001b[38;5;241;43m=\u001b[39;49m\u001b[43mtrain\u001b[49m\u001b[43m,\u001b[49m\n\u001b[1;32m    920\u001b[0m \u001b[43m        \u001b[49m\u001b[43mtest\u001b[49m\u001b[38;5;241;43m=\u001b[39;49m\u001b[43mtest\u001b[49m\u001b[43m,\u001b[49m\n\u001b[1;32m    921\u001b[0m \u001b[43m        \u001b[49m\u001b[43mparameters\u001b[49m\u001b[38;5;241;43m=\u001b[39;49m\u001b[43mparameters\u001b[49m\u001b[43m,\u001b[49m\n\u001b[1;32m    922\u001b[0m \u001b[43m        \u001b[49m\u001b[43msplit_progress\u001b[49m\u001b[38;5;241;43m=\u001b[39;49m\u001b[43m(\u001b[49m\u001b[43msplit_idx\u001b[49m\u001b[43m,\u001b[49m\u001b[43m \u001b[49m\u001b[43mn_splits\u001b[49m\u001b[43m)\u001b[49m\u001b[43m,\u001b[49m\n\u001b[1;32m    923\u001b[0m \u001b[43m        \u001b[49m\u001b[43mcandidate_progress\u001b[49m\u001b[38;5;241;43m=\u001b[39;49m\u001b[43m(\u001b[49m\u001b[43mcand_idx\u001b[49m\u001b[43m,\u001b[49m\u001b[43m \u001b[49m\u001b[43mn_candidates\u001b[49m\u001b[43m)\u001b[49m\u001b[43m,\u001b[49m\n\u001b[1;32m    924\u001b[0m \u001b[43m        \u001b[49m\u001b[38;5;241;43m*\u001b[39;49m\u001b[38;5;241;43m*\u001b[39;49m\u001b[43mfit_and_score_kwargs\u001b[49m\u001b[43m,\u001b[49m\n\u001b[1;32m    925\u001b[0m \u001b[43m    \u001b[49m\u001b[43m)\u001b[49m\n\u001b[1;32m    926\u001b[0m \u001b[43m    \u001b[49m\u001b[38;5;28;43;01mfor\u001b[39;49;00m\u001b[43m \u001b[49m\u001b[43m(\u001b[49m\u001b[43mcand_idx\u001b[49m\u001b[43m,\u001b[49m\u001b[43m \u001b[49m\u001b[43mparameters\u001b[49m\u001b[43m)\u001b[49m\u001b[43m,\u001b[49m\u001b[43m \u001b[49m\u001b[43m(\u001b[49m\u001b[43msplit_idx\u001b[49m\u001b[43m,\u001b[49m\u001b[43m \u001b[49m\u001b[43m(\u001b[49m\u001b[43mtrain\u001b[49m\u001b[43m,\u001b[49m\u001b[43m \u001b[49m\u001b[43mtest\u001b[49m\u001b[43m)\u001b[49m\u001b[43m)\u001b[49m\u001b[43m \u001b[49m\u001b[38;5;129;43;01min\u001b[39;49;00m\u001b[43m \u001b[49m\u001b[43mproduct\u001b[49m\u001b[43m(\u001b[49m\n\u001b[1;32m    927\u001b[0m \u001b[43m        \u001b[49m\u001b[38;5;28;43menumerate\u001b[39;49m\u001b[43m(\u001b[49m\u001b[43mcandidate_params\u001b[49m\u001b[43m)\u001b[49m\u001b[43m,\u001b[49m\n\u001b[1;32m    928\u001b[0m \u001b[43m        \u001b[49m\u001b[38;5;28;43menumerate\u001b[39;49m\u001b[43m(\u001b[49m\u001b[43mcv\u001b[49m\u001b[38;5;241;43m.\u001b[39;49m\u001b[43msplit\u001b[49m\u001b[43m(\u001b[49m\u001b[43mX\u001b[49m\u001b[43m,\u001b[49m\u001b[43m \u001b[49m\u001b[43my\u001b[49m\u001b[43m,\u001b[49m\u001b[43m \u001b[49m\u001b[38;5;241;43m*\u001b[39;49m\u001b[38;5;241;43m*\u001b[39;49m\u001b[43mrouted_params\u001b[49m\u001b[38;5;241;43m.\u001b[39;49m\u001b[43msplitter\u001b[49m\u001b[38;5;241;43m.\u001b[39;49m\u001b[43msplit\u001b[49m\u001b[43m)\u001b[49m\u001b[43m)\u001b[49m\u001b[43m,\u001b[49m\n\u001b[1;32m    929\u001b[0m \u001b[43m    \u001b[49m\u001b[43m)\u001b[49m\n\u001b[1;32m    930\u001b[0m \u001b[43m\u001b[49m\u001b[43m)\u001b[49m\n\u001b[1;32m    932\u001b[0m \u001b[38;5;28;01mif\u001b[39;00m \u001b[38;5;28mlen\u001b[39m(out) \u001b[38;5;241m<\u001b[39m \u001b[38;5;241m1\u001b[39m:\n\u001b[1;32m    933\u001b[0m     \u001b[38;5;28;01mraise\u001b[39;00m \u001b[38;5;167;01mValueError\u001b[39;00m(\n\u001b[1;32m    934\u001b[0m         \u001b[38;5;124m\"\u001b[39m\u001b[38;5;124mNo fits were performed. \u001b[39m\u001b[38;5;124m\"\u001b[39m\n\u001b[1;32m    935\u001b[0m         \u001b[38;5;124m\"\u001b[39m\u001b[38;5;124mWas the CV iterator empty? \u001b[39m\u001b[38;5;124m\"\u001b[39m\n\u001b[1;32m    936\u001b[0m         \u001b[38;5;124m\"\u001b[39m\u001b[38;5;124mWere there no candidates?\u001b[39m\u001b[38;5;124m\"\u001b[39m\n\u001b[1;32m    937\u001b[0m     )\n",
      "File \u001b[0;32m~/Library/Python/3.11/lib/python/site-packages/sklearn/utils/parallel.py:67\u001b[0m, in \u001b[0;36mParallel.__call__\u001b[0;34m(self, iterable)\u001b[0m\n\u001b[1;32m     62\u001b[0m config \u001b[38;5;241m=\u001b[39m get_config()\n\u001b[1;32m     63\u001b[0m iterable_with_config \u001b[38;5;241m=\u001b[39m (\n\u001b[1;32m     64\u001b[0m     (_with_config(delayed_func, config), args, kwargs)\n\u001b[1;32m     65\u001b[0m     \u001b[38;5;28;01mfor\u001b[39;00m delayed_func, args, kwargs \u001b[38;5;129;01min\u001b[39;00m iterable\n\u001b[1;32m     66\u001b[0m )\n\u001b[0;32m---> 67\u001b[0m \u001b[38;5;28;01mreturn\u001b[39;00m \u001b[38;5;28;43msuper\u001b[39;49m\u001b[43m(\u001b[49m\u001b[43m)\u001b[49m\u001b[38;5;241;43m.\u001b[39;49m\u001b[38;5;21;43m__call__\u001b[39;49m\u001b[43m(\u001b[49m\u001b[43miterable_with_config\u001b[49m\u001b[43m)\u001b[49m\n",
      "File \u001b[0;32m~/Library/Python/3.11/lib/python/site-packages/joblib/parallel.py:2007\u001b[0m, in \u001b[0;36mParallel.__call__\u001b[0;34m(self, iterable)\u001b[0m\n\u001b[1;32m   2001\u001b[0m \u001b[38;5;66;03m# The first item from the output is blank, but it makes the interpreter\u001b[39;00m\n\u001b[1;32m   2002\u001b[0m \u001b[38;5;66;03m# progress until it enters the Try/Except block of the generator and\u001b[39;00m\n\u001b[1;32m   2003\u001b[0m \u001b[38;5;66;03m# reaches the first `yield` statement. This starts the asynchronous\u001b[39;00m\n\u001b[1;32m   2004\u001b[0m \u001b[38;5;66;03m# dispatch of the tasks to the workers.\u001b[39;00m\n\u001b[1;32m   2005\u001b[0m \u001b[38;5;28mnext\u001b[39m(output)\n\u001b[0;32m-> 2007\u001b[0m \u001b[38;5;28;01mreturn\u001b[39;00m output \u001b[38;5;28;01mif\u001b[39;00m \u001b[38;5;28mself\u001b[39m\u001b[38;5;241m.\u001b[39mreturn_generator \u001b[38;5;28;01melse\u001b[39;00m \u001b[38;5;28;43mlist\u001b[39;49m\u001b[43m(\u001b[49m\u001b[43moutput\u001b[49m\u001b[43m)\u001b[49m\n",
      "File \u001b[0;32m~/Library/Python/3.11/lib/python/site-packages/joblib/parallel.py:1650\u001b[0m, in \u001b[0;36mParallel._get_outputs\u001b[0;34m(self, iterator, pre_dispatch)\u001b[0m\n\u001b[1;32m   1647\u001b[0m     \u001b[38;5;28;01myield\u001b[39;00m\n\u001b[1;32m   1649\u001b[0m     \u001b[38;5;28;01mwith\u001b[39;00m \u001b[38;5;28mself\u001b[39m\u001b[38;5;241m.\u001b[39m_backend\u001b[38;5;241m.\u001b[39mretrieval_context():\n\u001b[0;32m-> 1650\u001b[0m         \u001b[38;5;28;01myield from\u001b[39;00m \u001b[38;5;28mself\u001b[39m\u001b[38;5;241m.\u001b[39m_retrieve()\n\u001b[1;32m   1652\u001b[0m \u001b[38;5;28;01mexcept\u001b[39;00m \u001b[38;5;167;01mGeneratorExit\u001b[39;00m:\n\u001b[1;32m   1653\u001b[0m     \u001b[38;5;66;03m# The generator has been garbage collected before being fully\u001b[39;00m\n\u001b[1;32m   1654\u001b[0m     \u001b[38;5;66;03m# consumed. This aborts the remaining tasks if possible and warn\u001b[39;00m\n\u001b[1;32m   1655\u001b[0m     \u001b[38;5;66;03m# the user if necessary.\u001b[39;00m\n\u001b[1;32m   1656\u001b[0m     \u001b[38;5;28mself\u001b[39m\u001b[38;5;241m.\u001b[39m_exception \u001b[38;5;241m=\u001b[39m \u001b[38;5;28;01mTrue\u001b[39;00m\n",
      "File \u001b[0;32m~/Library/Python/3.11/lib/python/site-packages/joblib/parallel.py:1762\u001b[0m, in \u001b[0;36mParallel._retrieve\u001b[0;34m(self)\u001b[0m\n\u001b[1;32m   1757\u001b[0m \u001b[38;5;66;03m# If the next job is not ready for retrieval yet, we just wait for\u001b[39;00m\n\u001b[1;32m   1758\u001b[0m \u001b[38;5;66;03m# async callbacks to progress.\u001b[39;00m\n\u001b[1;32m   1759\u001b[0m \u001b[38;5;28;01mif\u001b[39;00m ((\u001b[38;5;28mlen\u001b[39m(\u001b[38;5;28mself\u001b[39m\u001b[38;5;241m.\u001b[39m_jobs) \u001b[38;5;241m==\u001b[39m \u001b[38;5;241m0\u001b[39m) \u001b[38;5;129;01mor\u001b[39;00m\n\u001b[1;32m   1760\u001b[0m     (\u001b[38;5;28mself\u001b[39m\u001b[38;5;241m.\u001b[39m_jobs[\u001b[38;5;241m0\u001b[39m]\u001b[38;5;241m.\u001b[39mget_status(\n\u001b[1;32m   1761\u001b[0m         timeout\u001b[38;5;241m=\u001b[39m\u001b[38;5;28mself\u001b[39m\u001b[38;5;241m.\u001b[39mtimeout) \u001b[38;5;241m==\u001b[39m TASK_PENDING)):\n\u001b[0;32m-> 1762\u001b[0m     time\u001b[38;5;241m.\u001b[39msleep(\u001b[38;5;241m0.01\u001b[39m)\n\u001b[1;32m   1763\u001b[0m     \u001b[38;5;28;01mcontinue\u001b[39;00m\n\u001b[1;32m   1765\u001b[0m \u001b[38;5;66;03m# We need to be careful: the job list can be filling up as\u001b[39;00m\n\u001b[1;32m   1766\u001b[0m \u001b[38;5;66;03m# we empty it and Python list are not thread-safe by\u001b[39;00m\n\u001b[1;32m   1767\u001b[0m \u001b[38;5;66;03m# default hence the use of the lock\u001b[39;00m\n",
      "\u001b[0;31mKeyboardInterrupt\u001b[0m: "
     ]
    }
   ],
   "source": [
    "import pandas as pd\n",
    "from sklearn.model_selection import train_test_split, GridSearchCV\n",
    "from sklearn.preprocessing import StandardScaler, LabelEncoder, PolynomialFeatures\n",
    "from sklearn.impute import SimpleImputer\n",
    "from sklearn.linear_model import LinearRegression\n",
    "from sklearn.pipeline import Pipeline\n",
    "from sklearn.metrics import mean_squared_error, accuracy_score\n",
    "\n",
    "# Loading the dataset\n",
    "train_df = pd.read_csv('train.csv')\n",
    "test_df = pd.read_csv('test.csv')\n",
    "\n",
    "# Displaying initial data (head)\n",
    "print(\"Initial Training Data:\\n\", train_df.head())\n",
    "print(\"Initial Test Data:\\n\", test_df.head())\n",
    "\n",
    "# Drop unnecessary columns (including target column 'Default' from the feature set)\n",
    "train_df = train_df.drop(columns=['LoanID', 'LoanTerm'])\n",
    "test_df = test_df.drop(columns=['LoanID', 'LoanTerm'])\n",
    "\n",
    "# Encode categorical columns using LabelEncoder\n",
    "categorical_cols = ['Education', 'EmploymentType', 'MaritalStatus', 'HasMortgage', 'HasDependents', 'LoanPurpose', 'HasCoSigner']\n",
    "for col in categorical_cols:\n",
    "    le = LabelEncoder()\n",
    "    train_df[col] = le.fit_transform(train_df[col])\n",
    "    test_df[col] = le.transform(test_df[col])\n",
    "\n",
    "# Handle missing values\n",
    "imputer = SimpleImputer(strategy='mean')\n",
    "train_features = train_df.drop(columns=['Default'])  # Drop 'Default' from features\n",
    "train_target = train_df['Default']  # 'Default' is the target variable\n",
    "train_features = pd.DataFrame(imputer.fit_transform(train_features), columns=train_features.columns)\n",
    "test_df = pd.DataFrame(imputer.transform(test_df), columns=test_df.columns)\n",
    "\n",
    "# Scale features\n",
    "scaler = StandardScaler()\n",
    "train_features = pd.DataFrame(scaler.fit_transform(train_features), columns=train_features.columns)\n",
    "test_df = pd.DataFrame(scaler.transform(test_df), columns=test_df.columns)\n",
    "\n",
    "# Split the training data into train and validation sets with stratification\n",
    "X_train, X_val, y_train, y_val = train_test_split(\n",
    "    train_features, train_target, test_size=0.2, stratify=train_target, random_state=42\n",
    ")\n",
    "\n",
    "# Set up a pipeline with PolynomialFeatures and LinearRegression\n",
    "pipeline = Pipeline([\n",
    "    ('poly_features', PolynomialFeatures()),\n",
    "    ('linear_regression', LinearRegression())\n",
    "])\n",
    "\n",
    "# Define parameter grid to tune the polynomial degree and linear regression settings\n",
    "param_grid = {\n",
    "    'poly_features__degree': [1, 2, 3],  # Test different polynomial degrees\n",
    "    'linear_regression__fit_intercept': [True, False]\n",
    "}\n",
    "\n",
    "# Set up GridSearchCV to search for the best polynomial degree and fit_intercept setting\n",
    "grid_search = GridSearchCV(estimator=pipeline, param_grid=param_grid, cv=5, n_jobs=-1, verbose=2)\n",
    "grid_search.fit(X_train, y_train)\n",
    "\n",
    "# Get the best model from grid search and predict on validation set\n",
    "best_model = grid_search.best_estimator_\n",
    "y_val_pred = best_model.predict(X_val)\n",
    "\n",
    "# Evaluate the model\n",
    "rmse = np.sqrt(mean_squared_error(y_val, y_val_pred))\n",
    "print(\"Best Parameters:\", grid_search.best_params_)\n",
    "print(\"Root Mean Squared Error (RMSE) on validation set:\", rmse)\n",
    "\n",
    "# Optionally, round predictions for binary classification and calculate accuracy\n",
    "y_val_pred_rounded = np.round(y_val_pred)\n",
    "accuracy = accuracy_score(y_val, y_val_pred_rounded)\n",
    "print(\"Accuracy on validation set:\", accuracy)\n",
    "\n",
    "# Make predictions on the test set\n",
    "test_predictions = best_model.predict(test_df)\n",
    "\n",
    "# Prepare the submission file\n",
    "# Ensure we include 'LoanID' to match with sample_submission.csv structure.\n",
    "# Assuming test_df had the LoanID column originally, we’ll add it back here for the submission.\n",
    "submission_df = pd.DataFrame({\n",
    "    'LoanID': pd.read_csv('test.csv')['LoanID'],  # Reload LoanID from the test CSV\n",
    "    'Default': test_predictions  # Predicted defaults\n",
    "})\n",
    "\n",
    "# Save the predictions to a CSV file\n",
    "submission_df.to_csv('polynomial_regression_predictions.csv', index=False)\n"
   ]
  },
  {
   "cell_type": "code",
   "execution_count": 4,
   "id": "5500f1c8-5dd2-47a8-b560-6c87ea4bfb7e",
   "metadata": {},
   "outputs": [
    {
     "name": "stdout",
     "output_type": "stream",
     "text": [
      "Initial Training Data:\n",
      "        LoanID  Age  Income  LoanAmount  CreditScore  MonthsEmployed  \\\n",
      "0  DRIRC89L0T   18  137576      209136          846              26   \n",
      "1  TS0FIUNHNU   47   57194        5970          748              30   \n",
      "2  I0YR284A1V   26   84328       95065          453               7   \n",
      "3  WB1T7NQV8A   53   49795      229582          533             107   \n",
      "4  J6GU9M4G1Z   49  115450       22072          840               0   \n",
      "\n",
      "   NumCreditLines  InterestRate  LoanTerm  DTIRatio    Education  \\\n",
      "0               2         10.47        60      0.81  High School   \n",
      "1               2         19.72        36      0.73  High School   \n",
      "2               2         24.25        12      0.45     Master's   \n",
      "3               3         14.44        60      0.17   Bachelor's   \n",
      "4               4         24.48        12      0.11   Bachelor's   \n",
      "\n",
      "  EmploymentType MaritalStatus HasMortgage HasDependents LoanPurpose  \\\n",
      "0  Self-employed        Single         Yes            No    Business   \n",
      "1     Unemployed      Divorced          No           Yes   Education   \n",
      "2  Self-employed       Married          No            No       Other   \n",
      "3  Self-employed        Single         Yes            No        Auto   \n",
      "4      Part-time        Single          No           Yes   Education   \n",
      "\n",
      "  HasCoSigner  Default  \n",
      "0          No        0  \n",
      "1          No        0  \n",
      "2         Yes        0  \n",
      "3         Yes        1  \n",
      "4         Yes        0  \n",
      "Initial Test Data:\n",
      "        LoanID  Age  Income  LoanAmount  CreditScore  MonthsEmployed  \\\n",
      "0  CKV34LU7V7   55  112656       92393          581             113   \n",
      "1  62KTYNH93J   56   91569      131575          641              54   \n",
      "2  JGFUSOIUH7   26   78169       75417          569             105   \n",
      "3  4538THBHOX   26   63033       10804          326             118   \n",
      "4  DXLNA06JHR   24   29665       21182          662             102   \n",
      "\n",
      "   NumCreditLines  InterestRate  LoanTerm  DTIRatio    Education  \\\n",
      "0               2         23.54        36      0.15          PhD   \n",
      "1               1         15.19        12      0.43  High School   \n",
      "2               3         18.02        12      0.29     Master's   \n",
      "3               1         14.71        24      0.41  High School   \n",
      "4               3         15.02        60      0.69          PhD   \n",
      "\n",
      "  EmploymentType MaritalStatus HasMortgage HasDependents LoanPurpose  \\\n",
      "0  Self-employed        Single         Yes           Yes        Home   \n",
      "1      Part-time      Divorced         Yes           Yes   Education   \n",
      "2      Part-time       Married         Yes           Yes   Education   \n",
      "3      Part-time        Single          No            No    Business   \n",
      "4     Unemployed        Single          No           Yes    Business   \n",
      "\n",
      "  HasCoSigner  \n",
      "0          No  \n",
      "1         Yes  \n",
      "2         Yes  \n",
      "3         Yes  \n",
      "4         Yes  \n"
     ]
    },
    {
     "name": "stderr",
     "output_type": "stream",
     "text": [
      "/Users/ayusharyakashyap/Library/Python/3.11/lib/python/site-packages/sklearn/metrics/_regression.py:492: FutureWarning: 'squared' is deprecated in version 1.4 and will be removed in 1.6. To calculate the root mean squared error, use the function'root_mean_squared_error'.\n",
      "  warnings.warn(\n"
     ]
    },
    {
     "name": "stdout",
     "output_type": "stream",
     "text": [
      "Root Mean Squared Error (RMSE) on validation set: 0.3031700479516249\n",
      "Accuracy on validation set: 0.8856226747601331\n"
     ]
    }
   ],
   "source": [
    "import pandas as pd\n",
    "import numpy as np\n",
    "from sklearn.model_selection import train_test_split\n",
    "from sklearn.preprocessing import StandardScaler, LabelEncoder, PolynomialFeatures\n",
    "from sklearn.impute import SimpleImputer\n",
    "from sklearn.linear_model import LinearRegression\n",
    "from sklearn.metrics import mean_squared_error, accuracy_score\n",
    "\n",
    "# Loading the dataset\n",
    "train_df = pd.read_csv('train.csv')\n",
    "test_df = pd.read_csv('test.csv')\n",
    "\n",
    "# Displaying initial data (head)\n",
    "print(\"Initial Training Data:\\n\", train_df.head())\n",
    "print(\"Initial Test Data:\\n\", test_df.head())\n",
    "\n",
    "# Drop unnecessary columns (including target column 'Default' from the feature set)\n",
    "train_df = train_df.drop(columns=['LoanID', 'LoanTerm'])\n",
    "test_df = test_df.drop(columns=['LoanID', 'LoanTerm'])\n",
    "\n",
    "# Encode categorical columns using LabelEncoder\n",
    "categorical_cols = ['Education', 'EmploymentType', 'MaritalStatus', 'HasMortgage', 'HasDependents', 'LoanPurpose', 'HasCoSigner']\n",
    "for col in categorical_cols:\n",
    "    le = LabelEncoder()\n",
    "    train_df[col] = le.fit_transform(train_df[col])\n",
    "    test_df[col] = le.transform(test_df[col])\n",
    "\n",
    "# Handle missing values\n",
    "imputer = SimpleImputer(strategy='mean')\n",
    "train_features = train_df.drop(columns=['Default'])  # Drop 'Default' from features\n",
    "train_target = train_df['Default']  # 'Default' is the target variable\n",
    "train_features = pd.DataFrame(imputer.fit_transform(train_features), columns=train_features.columns)\n",
    "test_df = pd.DataFrame(imputer.transform(test_df), columns=test_df.columns)\n",
    "\n",
    "# Scale features\n",
    "scaler = StandardScaler()\n",
    "train_features = pd.DataFrame(scaler.fit_transform(train_features), columns=train_features.columns)\n",
    "test_df = pd.DataFrame(scaler.transform(test_df), columns=test_df.columns)\n",
    "\n",
    "# Split the training data into train and validation sets with stratification\n",
    "X_train, X_val, y_train, y_val = train_test_split(\n",
    "    train_features, train_target, test_size=0.2, stratify=train_target, random_state=202\n",
    ")\n",
    "\n",
    "# Choose polynomial degree (e.g., 2 or 3)\n",
    "poly_degree = 3\n",
    "\n",
    "# Apply PolynomialFeatures\n",
    "poly = PolynomialFeatures(degree=poly_degree)\n",
    "X_train_poly = poly.fit_transform(X_train)\n",
    "X_val_poly = poly.transform(X_val)\n",
    "\n",
    "# Initialize and train the Linear Regression model\n",
    "lr_model = LinearRegression()\n",
    "lr_model.fit(X_train_poly, y_train)\n",
    "\n",
    "# Evaluate the model on the validation set\n",
    "y_val_pred = lr_model.predict(X_val_poly)\n",
    "\n",
    "# Calculate RMSE (Root Mean Squared Error)\n",
    "rmse = mean_squared_error(y_val, y_val_pred, squared=False)\n",
    "print(\"Root Mean Squared Error (RMSE) on validation set:\", rmse)\n",
    "\n",
    "# Optionally, round predictions for binary classification and calculate accuracy\n",
    "y_val_pred_rounded = np.round(y_val_pred)\n",
    "accuracy = accuracy_score(y_val, y_val_pred_rounded)\n",
    "print(\"Accuracy on validation set:\", accuracy)\n",
    "\n",
    "# Make predictions on the test set using the best model\n",
    "X_test_poly = poly.transform(test_df)  # Apply polynomial transformation to test set\n",
    "test_predictions = lr_model.predict(X_test_poly)\n",
    "\n",
    "# Round predictions to 0 or 1 for binary classification\n",
    "test_predictions_rounded = np.round(test_predictions)\n",
    "\n",
    "# Prepare the submission file\n",
    "# Ensure we include 'LoanID' to match with sample_submission.csv structure.\n",
    "submission_df = pd.DataFrame({\n",
    "    'LoanID': pd.read_csv('test.csv')['LoanID'],  # Reload LoanID from the test CSV\n",
    "    'Default': test_predictions_rounded  # Predicted defaults rounded to 0 or 1\n",
    "})\n",
    "\n",
    "# Save the predictions to a CSV file\n",
    "submission_df.to_csv('polynomial_regression_predictions.csv', index=False)\n"
   ]
  },
  {
   "cell_type": "code",
   "execution_count": 5,
   "id": "25a60478-ff5d-4bcf-bb3d-e193d97b0872",
   "metadata": {},
   "outputs": [
    {
     "name": "stdout",
     "output_type": "stream",
     "text": [
      "Initial Training Data:\n",
      "        LoanID  Age  Income  LoanAmount  CreditScore  MonthsEmployed  \\\n",
      "0  DRIRC89L0T   18  137576      209136          846              26   \n",
      "1  TS0FIUNHNU   47   57194        5970          748              30   \n",
      "2  I0YR284A1V   26   84328       95065          453               7   \n",
      "3  WB1T7NQV8A   53   49795      229582          533             107   \n",
      "4  J6GU9M4G1Z   49  115450       22072          840               0   \n",
      "\n",
      "   NumCreditLines  InterestRate  LoanTerm  DTIRatio    Education  \\\n",
      "0               2         10.47        60      0.81  High School   \n",
      "1               2         19.72        36      0.73  High School   \n",
      "2               2         24.25        12      0.45     Master's   \n",
      "3               3         14.44        60      0.17   Bachelor's   \n",
      "4               4         24.48        12      0.11   Bachelor's   \n",
      "\n",
      "  EmploymentType MaritalStatus HasMortgage HasDependents LoanPurpose  \\\n",
      "0  Self-employed        Single         Yes            No    Business   \n",
      "1     Unemployed      Divorced          No           Yes   Education   \n",
      "2  Self-employed       Married          No            No       Other   \n",
      "3  Self-employed        Single         Yes            No        Auto   \n",
      "4      Part-time        Single          No           Yes   Education   \n",
      "\n",
      "  HasCoSigner  Default  \n",
      "0          No        0  \n",
      "1          No        0  \n",
      "2         Yes        0  \n",
      "3         Yes        1  \n",
      "4         Yes        0  \n",
      "Initial Test Data:\n",
      "        LoanID  Age  Income  LoanAmount  CreditScore  MonthsEmployed  \\\n",
      "0  CKV34LU7V7   55  112656       92393          581             113   \n",
      "1  62KTYNH93J   56   91569      131575          641              54   \n",
      "2  JGFUSOIUH7   26   78169       75417          569             105   \n",
      "3  4538THBHOX   26   63033       10804          326             118   \n",
      "4  DXLNA06JHR   24   29665       21182          662             102   \n",
      "\n",
      "   NumCreditLines  InterestRate  LoanTerm  DTIRatio    Education  \\\n",
      "0               2         23.54        36      0.15          PhD   \n",
      "1               1         15.19        12      0.43  High School   \n",
      "2               3         18.02        12      0.29     Master's   \n",
      "3               1         14.71        24      0.41  High School   \n",
      "4               3         15.02        60      0.69          PhD   \n",
      "\n",
      "  EmploymentType MaritalStatus HasMortgage HasDependents LoanPurpose  \\\n",
      "0  Self-employed        Single         Yes           Yes        Home   \n",
      "1      Part-time      Divorced         Yes           Yes   Education   \n",
      "2      Part-time       Married         Yes           Yes   Education   \n",
      "3      Part-time        Single          No            No    Business   \n",
      "4     Unemployed        Single          No           Yes    Business   \n",
      "\n",
      "  HasCoSigner  \n",
      "0          No  \n",
      "1         Yes  \n",
      "2         Yes  \n",
      "3         Yes  \n",
      "4         Yes  \n"
     ]
    },
    {
     "name": "stderr",
     "output_type": "stream",
     "text": [
      "/Users/ayusharyakashyap/Library/Python/3.11/lib/python/site-packages/sklearn/metrics/_regression.py:492: FutureWarning: 'squared' is deprecated in version 1.4 and will be removed in 1.6. To calculate the root mean squared error, use the function'root_mean_squared_error'.\n",
      "  warnings.warn(\n"
     ]
    },
    {
     "name": "stdout",
     "output_type": "stream",
     "text": [
      "RMSE for random_state=42: 0.30286117957401065\n",
      "Accuracy for random_state=42: 0.8856716271783827\n"
     ]
    },
    {
     "name": "stderr",
     "output_type": "stream",
     "text": [
      "/Users/ayusharyakashyap/Library/Python/3.11/lib/python/site-packages/sklearn/metrics/_regression.py:492: FutureWarning: 'squared' is deprecated in version 1.4 and will be removed in 1.6. To calculate the root mean squared error, use the function'root_mean_squared_error'.\n",
      "  warnings.warn(\n"
     ]
    },
    {
     "name": "stdout",
     "output_type": "stream",
     "text": [
      "RMSE for random_state=86: 0.3045662815704034\n",
      "Accuracy for random_state=86: 0.8854268650871353\n"
     ]
    },
    {
     "name": "stderr",
     "output_type": "stream",
     "text": [
      "/Users/ayusharyakashyap/Library/Python/3.11/lib/python/site-packages/sklearn/metrics/_regression.py:492: FutureWarning: 'squared' is deprecated in version 1.4 and will be removed in 1.6. To calculate the root mean squared error, use the function'root_mean_squared_error'.\n",
      "  warnings.warn(\n"
     ]
    },
    {
     "name": "stdout",
     "output_type": "stream",
     "text": [
      "RMSE for random_state=101: 0.3032215155691703\n",
      "Accuracy for random_state=101: 0.886185627570002\n"
     ]
    },
    {
     "name": "stderr",
     "output_type": "stream",
     "text": [
      "/Users/ayusharyakashyap/Library/Python/3.11/lib/python/site-packages/sklearn/metrics/_regression.py:492: FutureWarning: 'squared' is deprecated in version 1.4 and will be removed in 1.6. To calculate the root mean squared error, use the function'root_mean_squared_error'.\n",
      "  warnings.warn(\n"
     ]
    },
    {
     "name": "stdout",
     "output_type": "stream",
     "text": [
      "RMSE for random_state=202: 0.3031700479516249\n",
      "Accuracy for random_state=202: 0.8856226747601331\n"
     ]
    },
    {
     "name": "stderr",
     "output_type": "stream",
     "text": [
      "/Users/ayusharyakashyap/Library/Python/3.11/lib/python/site-packages/sklearn/metrics/_regression.py:492: FutureWarning: 'squared' is deprecated in version 1.4 and will be removed in 1.6. To calculate the root mean squared error, use the function'root_mean_squared_error'.\n",
      "  warnings.warn(\n"
     ]
    },
    {
     "name": "stdout",
     "output_type": "stream",
     "text": [
      "RMSE for random_state=303: 0.3028660730931155\n",
      "Accuracy for random_state=303: 0.886724104170746\n"
     ]
    },
    {
     "name": "stderr",
     "output_type": "stream",
     "text": [
      "/Users/ayusharyakashyap/Library/Python/3.11/lib/python/site-packages/sklearn/metrics/_regression.py:492: FutureWarning: 'squared' is deprecated in version 1.4 and will be removed in 1.6. To calculate the root mean squared error, use the function'root_mean_squared_error'.\n",
      "  warnings.warn(\n"
     ]
    },
    {
     "name": "stdout",
     "output_type": "stream",
     "text": [
      "RMSE for random_state=404: 0.30393243931376557\n",
      "Accuracy for random_state=404: 0.8861121989426277\n",
      "\n",
      "Best Accuracy: 0.886724104170746 with random_state=303\n"
     ]
    }
   ],
   "source": [
    "import pandas as pd\n",
    "import numpy as np\n",
    "from sklearn.model_selection import train_test_split\n",
    "from sklearn.preprocessing import StandardScaler, LabelEncoder, PolynomialFeatures\n",
    "from sklearn.impute import SimpleImputer\n",
    "from sklearn.linear_model import LinearRegression\n",
    "from sklearn.metrics import mean_squared_error, accuracy_score\n",
    "\n",
    "# Loading the dataset\n",
    "train_df = pd.read_csv('train.csv')\n",
    "test_df = pd.read_csv('test.csv')\n",
    "\n",
    "# Displaying initial data (head)\n",
    "print(\"Initial Training Data:\\n\", train_df.head())\n",
    "print(\"Initial Test Data:\\n\", test_df.head())\n",
    "\n",
    "# Drop unnecessary columns (including target column 'Default' from the feature set)\n",
    "train_df = train_df.drop(columns=['LoanID', 'LoanTerm'])\n",
    "test_df = test_df.drop(columns=['LoanID', 'LoanTerm'])\n",
    "\n",
    "# Encode categorical columns using LabelEncoder\n",
    "categorical_cols = ['Education', 'EmploymentType', 'MaritalStatus', 'HasMortgage', 'HasDependents', 'LoanPurpose', 'HasCoSigner']\n",
    "for col in categorical_cols:\n",
    "    le = LabelEncoder()\n",
    "    train_df[col] = le.fit_transform(train_df[col])\n",
    "    test_df[col] = le.transform(test_df[col])\n",
    "\n",
    "# Handle missing values\n",
    "imputer = SimpleImputer(strategy='mean')\n",
    "train_features = train_df.drop(columns=['Default'])  # Drop 'Default' from features\n",
    "train_target = train_df['Default']  # 'Default' is the target variable\n",
    "train_features = pd.DataFrame(imputer.fit_transform(train_features), columns=train_features.columns)\n",
    "test_df = pd.DataFrame(imputer.transform(test_df), columns=test_df.columns)\n",
    "\n",
    "# Scale features\n",
    "scaler = StandardScaler()\n",
    "train_features = pd.DataFrame(scaler.fit_transform(train_features), columns=train_features.columns)\n",
    "test_df = pd.DataFrame(scaler.transform(test_df), columns=test_df.columns)\n",
    "\n",
    "# Choose polynomial degree (e.g., 2 or 3)\n",
    "poly_degree = 3\n",
    "poly = PolynomialFeatures(degree=poly_degree)\n",
    "\n",
    "# Initialize variables to track the best model\n",
    "best_accuracy = 0\n",
    "best_random_state = None\n",
    "\n",
    "# Loop through different random_state values\n",
    "for state in [42, 86, 101, 202, 303, 404]:\n",
    "    # Split the training data into train and validation sets with stratification\n",
    "    X_train, X_val, y_train, y_val = train_test_split(\n",
    "        train_features, train_target, test_size=0.2, stratify=train_target, random_state=state\n",
    "    )\n",
    "\n",
    "    # Apply PolynomialFeatures\n",
    "    X_train_poly = poly.fit_transform(X_train)\n",
    "    X_val_poly = poly.transform(X_val)\n",
    "\n",
    "    # Initialize and train the Linear Regression model\n",
    "    lr_model = LinearRegression()\n",
    "    lr_model.fit(X_train_poly, y_train)\n",
    "\n",
    "    # Evaluate the model on the validation set\n",
    "    y_val_pred = lr_model.predict(X_val_poly)\n",
    "\n",
    "    # Calculate RMSE (Root Mean Squared Error)\n",
    "    rmse = mean_squared_error(y_val, y_val_pred, squared=False)\n",
    "    print(f\"RMSE for random_state={state}: {rmse}\")\n",
    "\n",
    "    # Round predictions for binary classification and calculate accuracy\n",
    "    y_val_pred_rounded = np.round(y_val_pred)\n",
    "    accuracy = accuracy_score(y_val, y_val_pred_rounded)\n",
    "    print(f\"Accuracy for random_state={state}: {accuracy}\")\n",
    "\n",
    "    # Track the best accuracy and corresponding random_state\n",
    "    if accuracy > best_accuracy:\n",
    "        best_accuracy = accuracy\n",
    "        best_random_state = state\n",
    "\n",
    "# Output the best accuracy and corresponding random_state\n",
    "print(f\"\\nBest Accuracy: {best_accuracy} with random_state={best_random_state}\")\n",
    "\n",
    "# Final model using the best random_state\n",
    "X_train, X_val, y_train, y_val = train_test_split(\n",
    "    train_features, train_target, test_size=0.2, stratify=train_target, random_state=best_random_state\n",
    ")\n",
    "\n",
    "# Apply PolynomialFeatures to final train and validation data\n",
    "X_train_poly = poly.fit_transform(X_train)\n",
    "X_val_poly = poly.transform(X_val)\n",
    "\n",
    "# Train the model\n",
    "lr_model = LinearRegression()\n",
    "lr_model.fit(X_train_poly, y_train)\n",
    "\n",
    "# Make predictions on the test set\n",
    "X_test_poly = poly.transform(test_df)\n",
    "test_predictions = lr_model.predict(X_test_poly)\n",
    "\n",
    "# Round predictions to 0 or 1 for binary classification\n",
    "test_predictions_rounded = np.round(test_predictions)\n",
    "\n",
    "# Prepare the submission file\n",
    "submission_df = pd.DataFrame({\n",
    "    'LoanID': pd.read_csv('test.csv')['LoanID'],  # Reload LoanID from the test CSV\n",
    "    'Default': test_predictions_rounded  # Predicted defaults rounded to 0 or 1\n",
    "})\n",
    "\n",
    "# Save the predictions to a CSV file\n",
    "submission_df.to_csv('polynomial_regression_predictions.csv', index=False)\n"
   ]
  },
  {
   "cell_type": "code",
   "execution_count": 6,
   "id": "c6ff2544-dca9-4ad3-a5b9-73f6a158b123",
   "metadata": {},
   "outputs": [
    {
     "name": "stdout",
     "output_type": "stream",
     "text": [
      "Initial Training Data:\n",
      "        LoanID  Age  Income  LoanAmount  CreditScore  MonthsEmployed  \\\n",
      "0  DRIRC89L0T   18  137576      209136          846              26   \n",
      "1  TS0FIUNHNU   47   57194        5970          748              30   \n",
      "2  I0YR284A1V   26   84328       95065          453               7   \n",
      "3  WB1T7NQV8A   53   49795      229582          533             107   \n",
      "4  J6GU9M4G1Z   49  115450       22072          840               0   \n",
      "\n",
      "   NumCreditLines  InterestRate  LoanTerm  DTIRatio    Education  \\\n",
      "0               2         10.47        60      0.81  High School   \n",
      "1               2         19.72        36      0.73  High School   \n",
      "2               2         24.25        12      0.45     Master's   \n",
      "3               3         14.44        60      0.17   Bachelor's   \n",
      "4               4         24.48        12      0.11   Bachelor's   \n",
      "\n",
      "  EmploymentType MaritalStatus HasMortgage HasDependents LoanPurpose  \\\n",
      "0  Self-employed        Single         Yes            No    Business   \n",
      "1     Unemployed      Divorced          No           Yes   Education   \n",
      "2  Self-employed       Married          No            No       Other   \n",
      "3  Self-employed        Single         Yes            No        Auto   \n",
      "4      Part-time        Single          No           Yes   Education   \n",
      "\n",
      "  HasCoSigner  Default  \n",
      "0          No        0  \n",
      "1          No        0  \n",
      "2         Yes        0  \n",
      "3         Yes        1  \n",
      "4         Yes        0  \n",
      "Initial Test Data:\n",
      "        LoanID  Age  Income  LoanAmount  CreditScore  MonthsEmployed  \\\n",
      "0  CKV34LU7V7   55  112656       92393          581             113   \n",
      "1  62KTYNH93J   56   91569      131575          641              54   \n",
      "2  JGFUSOIUH7   26   78169       75417          569             105   \n",
      "3  4538THBHOX   26   63033       10804          326             118   \n",
      "4  DXLNA06JHR   24   29665       21182          662             102   \n",
      "\n",
      "   NumCreditLines  InterestRate  LoanTerm  DTIRatio    Education  \\\n",
      "0               2         23.54        36      0.15          PhD   \n",
      "1               1         15.19        12      0.43  High School   \n",
      "2               3         18.02        12      0.29     Master's   \n",
      "3               1         14.71        24      0.41  High School   \n",
      "4               3         15.02        60      0.69          PhD   \n",
      "\n",
      "  EmploymentType MaritalStatus HasMortgage HasDependents LoanPurpose  \\\n",
      "0  Self-employed        Single         Yes           Yes        Home   \n",
      "1      Part-time      Divorced         Yes           Yes   Education   \n",
      "2      Part-time       Married         Yes           Yes   Education   \n",
      "3      Part-time        Single          No            No    Business   \n",
      "4     Unemployed        Single          No           Yes    Business   \n",
      "\n",
      "  HasCoSigner  \n",
      "0          No  \n",
      "1         Yes  \n",
      "2         Yes  \n",
      "3         Yes  \n",
      "4         Yes  \n"
     ]
    },
    {
     "name": "stderr",
     "output_type": "stream",
     "text": [
      "/Users/ayusharyakashyap/Library/Python/3.11/lib/python/site-packages/sklearn/metrics/_regression.py:492: FutureWarning: 'squared' is deprecated in version 1.4 and will be removed in 1.6. To calculate the root mean squared error, use the function'root_mean_squared_error'.\n",
      "  warnings.warn(\n"
     ]
    },
    {
     "name": "stdout",
     "output_type": "stream",
     "text": [
      "RMSE for random_state=1: 0.30381115639154344\n",
      "Accuracy for random_state=1: 0.8861611513608773\n"
     ]
    },
    {
     "name": "stderr",
     "output_type": "stream",
     "text": [
      "/Users/ayusharyakashyap/Library/Python/3.11/lib/python/site-packages/sklearn/metrics/_regression.py:492: FutureWarning: 'squared' is deprecated in version 1.4 and will be removed in 1.6. To calculate the root mean squared error, use the function'root_mean_squared_error'.\n",
      "  warnings.warn(\n"
     ]
    },
    {
     "name": "stdout",
     "output_type": "stream",
     "text": [
      "RMSE for random_state=2: 0.30260364290777186\n",
      "Accuracy for random_state=2: 0.8864059134521245\n"
     ]
    },
    {
     "name": "stderr",
     "output_type": "stream",
     "text": [
      "/Users/ayusharyakashyap/Library/Python/3.11/lib/python/site-packages/sklearn/metrics/_regression.py:492: FutureWarning: 'squared' is deprecated in version 1.4 and will be removed in 1.6. To calculate the root mean squared error, use the function'root_mean_squared_error'.\n",
      "  warnings.warn(\n"
     ]
    },
    {
     "name": "stdout",
     "output_type": "stream",
     "text": [
      "RMSE for random_state=3: 0.30360406501501197\n",
      "Accuracy for random_state=3: 0.8860387703152536\n"
     ]
    },
    {
     "name": "stderr",
     "output_type": "stream",
     "text": [
      "/Users/ayusharyakashyap/Library/Python/3.11/lib/python/site-packages/sklearn/metrics/_regression.py:492: FutureWarning: 'squared' is deprecated in version 1.4 and will be removed in 1.6. To calculate the root mean squared error, use the function'root_mean_squared_error'.\n",
      "  warnings.warn(\n"
     ]
    },
    {
     "name": "stdout",
     "output_type": "stream",
     "text": [
      "RMSE for random_state=4: 0.3032437651623321\n",
      "Accuracy for random_state=4: 0.8862101037791267\n"
     ]
    },
    {
     "name": "stderr",
     "output_type": "stream",
     "text": [
      "/Users/ayusharyakashyap/Library/Python/3.11/lib/python/site-packages/sklearn/metrics/_regression.py:492: FutureWarning: 'squared' is deprecated in version 1.4 and will be removed in 1.6. To calculate the root mean squared error, use the function'root_mean_squared_error'.\n",
      "  warnings.warn(\n"
     ]
    },
    {
     "name": "stdout",
     "output_type": "stream",
     "text": [
      "RMSE for random_state=5: 0.30271371620992943\n",
      "Accuracy for random_state=5: 0.8864793420794987\n"
     ]
    },
    {
     "name": "stderr",
     "output_type": "stream",
     "text": [
      "/Users/ayusharyakashyap/Library/Python/3.11/lib/python/site-packages/sklearn/metrics/_regression.py:492: FutureWarning: 'squared' is deprecated in version 1.4 and will be removed in 1.6. To calculate the root mean squared error, use the function'root_mean_squared_error'.\n",
      "  warnings.warn(\n"
     ]
    },
    {
     "name": "stdout",
     "output_type": "stream",
     "text": [
      "RMSE for random_state=6: 0.3037566587881436\n",
      "Accuracy for random_state=6: 0.8860142941061289\n"
     ]
    },
    {
     "name": "stderr",
     "output_type": "stream",
     "text": [
      "/Users/ayusharyakashyap/Library/Python/3.11/lib/python/site-packages/sklearn/metrics/_regression.py:492: FutureWarning: 'squared' is deprecated in version 1.4 and will be removed in 1.6. To calculate the root mean squared error, use the function'root_mean_squared_error'.\n",
      "  warnings.warn(\n"
     ]
    },
    {
     "name": "stdout",
     "output_type": "stream",
     "text": [
      "RMSE for random_state=7: 0.3031646883937854\n",
      "Accuracy for random_state=7: 0.8857450558057568\n"
     ]
    },
    {
     "name": "stderr",
     "output_type": "stream",
     "text": [
      "/Users/ayusharyakashyap/Library/Python/3.11/lib/python/site-packages/sklearn/metrics/_regression.py:492: FutureWarning: 'squared' is deprecated in version 1.4 and will be removed in 1.6. To calculate the root mean squared error, use the function'root_mean_squared_error'.\n",
      "  warnings.warn(\n"
     ]
    },
    {
     "name": "stdout",
     "output_type": "stream",
     "text": [
      "RMSE for random_state=8: 0.30356643848641884\n",
      "Accuracy for random_state=8: 0.8855737223418837\n"
     ]
    },
    {
     "name": "stderr",
     "output_type": "stream",
     "text": [
      "/Users/ayusharyakashyap/Library/Python/3.11/lib/python/site-packages/sklearn/metrics/_regression.py:492: FutureWarning: 'squared' is deprecated in version 1.4 and will be removed in 1.6. To calculate the root mean squared error, use the function'root_mean_squared_error'.\n",
      "  warnings.warn(\n"
     ]
    },
    {
     "name": "stdout",
     "output_type": "stream",
     "text": [
      "RMSE for random_state=9: 0.30342434385823186\n",
      "Accuracy for random_state=9: 0.8865038182886235\n"
     ]
    },
    {
     "name": "stderr",
     "output_type": "stream",
     "text": [
      "/Users/ayusharyakashyap/Library/Python/3.11/lib/python/site-packages/sklearn/metrics/_regression.py:492: FutureWarning: 'squared' is deprecated in version 1.4 and will be removed in 1.6. To calculate the root mean squared error, use the function'root_mean_squared_error'.\n",
      "  warnings.warn(\n"
     ]
    },
    {
     "name": "stdout",
     "output_type": "stream",
     "text": [
      "RMSE for random_state=10: 0.30257912198755216\n",
      "Accuracy for random_state=10: 0.8859163892696299\n"
     ]
    },
    {
     "name": "stderr",
     "output_type": "stream",
     "text": [
      "/Users/ayusharyakashyap/Library/Python/3.11/lib/python/site-packages/sklearn/metrics/_regression.py:492: FutureWarning: 'squared' is deprecated in version 1.4 and will be removed in 1.6. To calculate the root mean squared error, use the function'root_mean_squared_error'.\n",
      "  warnings.warn(\n"
     ]
    },
    {
     "name": "stdout",
     "output_type": "stream",
     "text": [
      "RMSE for random_state=11: 0.3036885096462807\n",
      "Accuracy for random_state=11: 0.885182102995888\n"
     ]
    },
    {
     "name": "stderr",
     "output_type": "stream",
     "text": [
      "/Users/ayusharyakashyap/Library/Python/3.11/lib/python/site-packages/sklearn/metrics/_regression.py:492: FutureWarning: 'squared' is deprecated in version 1.4 and will be removed in 1.6. To calculate the root mean squared error, use the function'root_mean_squared_error'.\n",
      "  warnings.warn(\n"
     ]
    },
    {
     "name": "stdout",
     "output_type": "stream",
     "text": [
      "RMSE for random_state=12: 0.30353862511933627\n",
      "Accuracy for random_state=12: 0.885549246132759\n"
     ]
    },
    {
     "name": "stderr",
     "output_type": "stream",
     "text": [
      "/Users/ayusharyakashyap/Library/Python/3.11/lib/python/site-packages/sklearn/metrics/_regression.py:492: FutureWarning: 'squared' is deprecated in version 1.4 and will be removed in 1.6. To calculate the root mean squared error, use the function'root_mean_squared_error'.\n",
      "  warnings.warn(\n"
     ]
    },
    {
     "name": "stdout",
     "output_type": "stream",
     "text": [
      "RMSE for random_state=13: 0.30364288597752\n",
      "Accuracy for random_state=13: 0.8858919130605052\n"
     ]
    },
    {
     "name": "stderr",
     "output_type": "stream",
     "text": [
      "/Users/ayusharyakashyap/Library/Python/3.11/lib/python/site-packages/sklearn/metrics/_regression.py:492: FutureWarning: 'squared' is deprecated in version 1.4 and will be removed in 1.6. To calculate the root mean squared error, use the function'root_mean_squared_error'.\n",
      "  warnings.warn(\n"
     ]
    },
    {
     "name": "stdout",
     "output_type": "stream",
     "text": [
      "RMSE for random_state=14: 0.30268085967195674\n",
      "Accuracy for random_state=14: 0.8857205795966321\n"
     ]
    },
    {
     "name": "stderr",
     "output_type": "stream",
     "text": [
      "/Users/ayusharyakashyap/Library/Python/3.11/lib/python/site-packages/sklearn/metrics/_regression.py:492: FutureWarning: 'squared' is deprecated in version 1.4 and will be removed in 1.6. To calculate the root mean squared error, use the function'root_mean_squared_error'.\n",
      "  warnings.warn(\n"
     ]
    },
    {
     "name": "stdout",
     "output_type": "stream",
     "text": [
      "RMSE for random_state=15: 0.3030577483162537\n",
      "Accuracy for random_state=15: 0.8862101037791267\n"
     ]
    },
    {
     "name": "stderr",
     "output_type": "stream",
     "text": [
      "/Users/ayusharyakashyap/Library/Python/3.11/lib/python/site-packages/sklearn/metrics/_regression.py:492: FutureWarning: 'squared' is deprecated in version 1.4 and will be removed in 1.6. To calculate the root mean squared error, use the function'root_mean_squared_error'.\n",
      "  warnings.warn(\n"
     ]
    },
    {
     "name": "stdout",
     "output_type": "stream",
     "text": [
      "RMSE for random_state=16: 0.3051226499453516\n",
      "Accuracy for random_state=16: 0.8849618171137654\n"
     ]
    },
    {
     "name": "stderr",
     "output_type": "stream",
     "text": [
      "/Users/ayusharyakashyap/Library/Python/3.11/lib/python/site-packages/sklearn/metrics/_regression.py:492: FutureWarning: 'squared' is deprecated in version 1.4 and will be removed in 1.6. To calculate the root mean squared error, use the function'root_mean_squared_error'.\n",
      "  warnings.warn(\n"
     ]
    },
    {
     "name": "stdout",
     "output_type": "stream",
     "text": [
      "RMSE for random_state=17: 0.3028439654183168\n",
      "Accuracy for random_state=17: 0.8866506755433718\n"
     ]
    },
    {
     "name": "stderr",
     "output_type": "stream",
     "text": [
      "/Users/ayusharyakashyap/Library/Python/3.11/lib/python/site-packages/sklearn/metrics/_regression.py:492: FutureWarning: 'squared' is deprecated in version 1.4 and will be removed in 1.6. To calculate the root mean squared error, use the function'root_mean_squared_error'.\n",
      "  warnings.warn(\n"
     ]
    },
    {
     "name": "stdout",
     "output_type": "stream",
     "text": [
      "RMSE for random_state=18: 0.3025913599883755\n",
      "Accuracy for random_state=18: 0.886185627570002\n"
     ]
    },
    {
     "name": "stderr",
     "output_type": "stream",
     "text": [
      "/Users/ayusharyakashyap/Library/Python/3.11/lib/python/site-packages/sklearn/metrics/_regression.py:492: FutureWarning: 'squared' is deprecated in version 1.4 and will be removed in 1.6. To calculate the root mean squared error, use the function'root_mean_squared_error'.\n",
      "  warnings.warn(\n"
     ]
    },
    {
     "name": "stdout",
     "output_type": "stream",
     "text": [
      "RMSE for random_state=19: 0.30314371086187614\n",
      "Accuracy for random_state=19: 0.8854268650871353\n"
     ]
    },
    {
     "name": "stderr",
     "output_type": "stream",
     "text": [
      "/Users/ayusharyakashyap/Library/Python/3.11/lib/python/site-packages/sklearn/metrics/_regression.py:492: FutureWarning: 'squared' is deprecated in version 1.4 and will be removed in 1.6. To calculate the root mean squared error, use the function'root_mean_squared_error'.\n",
      "  warnings.warn(\n"
     ]
    },
    {
     "name": "stdout",
     "output_type": "stream",
     "text": [
      "RMSE for random_state=20: 0.302872901093512\n",
      "Accuracy for random_state=20: 0.8857940082240062\n"
     ]
    },
    {
     "name": "stderr",
     "output_type": "stream",
     "text": [
      "/Users/ayusharyakashyap/Library/Python/3.11/lib/python/site-packages/sklearn/metrics/_regression.py:492: FutureWarning: 'squared' is deprecated in version 1.4 and will be removed in 1.6. To calculate the root mean squared error, use the function'root_mean_squared_error'.\n",
      "  warnings.warn(\n"
     ]
    },
    {
     "name": "stdout",
     "output_type": "stream",
     "text": [
      "RMSE for random_state=21: 0.30300724218569614\n",
      "Accuracy for random_state=21: 0.885818484433131\n"
     ]
    },
    {
     "name": "stderr",
     "output_type": "stream",
     "text": [
      "/Users/ayusharyakashyap/Library/Python/3.11/lib/python/site-packages/sklearn/metrics/_regression.py:492: FutureWarning: 'squared' is deprecated in version 1.4 and will be removed in 1.6. To calculate the root mean squared error, use the function'root_mean_squared_error'.\n",
      "  warnings.warn(\n"
     ]
    },
    {
     "name": "stdout",
     "output_type": "stream",
     "text": [
      "RMSE for random_state=22: 0.30381332200042066\n",
      "Accuracy for random_state=22: 0.8859653416878793\n"
     ]
    },
    {
     "name": "stderr",
     "output_type": "stream",
     "text": [
      "/Users/ayusharyakashyap/Library/Python/3.11/lib/python/site-packages/sklearn/metrics/_regression.py:492: FutureWarning: 'squared' is deprecated in version 1.4 and will be removed in 1.6. To calculate the root mean squared error, use the function'root_mean_squared_error'.\n",
      "  warnings.warn(\n"
     ]
    },
    {
     "name": "stdout",
     "output_type": "stream",
     "text": [
      "RMSE for random_state=23: 0.3024468210141621\n",
      "Accuracy for random_state=23: 0.8862101037791267\n"
     ]
    },
    {
     "name": "stderr",
     "output_type": "stream",
     "text": [
      "/Users/ayusharyakashyap/Library/Python/3.11/lib/python/site-packages/sklearn/metrics/_regression.py:492: FutureWarning: 'squared' is deprecated in version 1.4 and will be removed in 1.6. To calculate the root mean squared error, use the function'root_mean_squared_error'.\n",
      "  warnings.warn(\n"
     ]
    },
    {
     "name": "stdout",
     "output_type": "stream",
     "text": [
      "RMSE for random_state=24: 0.3034605138440652\n",
      "Accuracy for random_state=24: 0.8861611513608773\n"
     ]
    },
    {
     "name": "stderr",
     "output_type": "stream",
     "text": [
      "/Users/ayusharyakashyap/Library/Python/3.11/lib/python/site-packages/sklearn/metrics/_regression.py:492: FutureWarning: 'squared' is deprecated in version 1.4 and will be removed in 1.6. To calculate the root mean squared error, use the function'root_mean_squared_error'.\n",
      "  warnings.warn(\n"
     ]
    },
    {
     "name": "stdout",
     "output_type": "stream",
     "text": [
      "RMSE for random_state=25: 0.3026547493527821\n",
      "Accuracy for random_state=25: 0.886185627570002\n"
     ]
    },
    {
     "name": "stderr",
     "output_type": "stream",
     "text": [
      "/Users/ayusharyakashyap/Library/Python/3.11/lib/python/site-packages/sklearn/metrics/_regression.py:492: FutureWarning: 'squared' is deprecated in version 1.4 and will be removed in 1.6. To calculate the root mean squared error, use the function'root_mean_squared_error'.\n",
      "  warnings.warn(\n"
     ]
    },
    {
     "name": "stdout",
     "output_type": "stream",
     "text": [
      "RMSE for random_state=26: 0.30408294917374745\n",
      "Accuracy for random_state=26: 0.8854268650871353\n"
     ]
    },
    {
     "name": "stderr",
     "output_type": "stream",
     "text": [
      "/Users/ayusharyakashyap/Library/Python/3.11/lib/python/site-packages/sklearn/metrics/_regression.py:492: FutureWarning: 'squared' is deprecated in version 1.4 and will be removed in 1.6. To calculate the root mean squared error, use the function'root_mean_squared_error'.\n",
      "  warnings.warn(\n"
     ]
    },
    {
     "name": "stdout",
     "output_type": "stream",
     "text": [
      "RMSE for random_state=27: 0.30365990807228765\n",
      "Accuracy for random_state=27: 0.8859163892696299\n"
     ]
    },
    {
     "name": "stderr",
     "output_type": "stream",
     "text": [
      "/Users/ayusharyakashyap/Library/Python/3.11/lib/python/site-packages/sklearn/metrics/_regression.py:492: FutureWarning: 'squared' is deprecated in version 1.4 and will be removed in 1.6. To calculate the root mean squared error, use the function'root_mean_squared_error'.\n",
      "  warnings.warn(\n"
     ]
    },
    {
     "name": "stdout",
     "output_type": "stream",
     "text": [
      "RMSE for random_state=28: 0.30259488078525404\n",
      "Accuracy for random_state=28: 0.8851331505776385\n"
     ]
    },
    {
     "name": "stderr",
     "output_type": "stream",
     "text": [
      "/Users/ayusharyakashyap/Library/Python/3.11/lib/python/site-packages/sklearn/metrics/_regression.py:492: FutureWarning: 'squared' is deprecated in version 1.4 and will be removed in 1.6. To calculate the root mean squared error, use the function'root_mean_squared_error'.\n",
      "  warnings.warn(\n"
     ]
    },
    {
     "name": "stdout",
     "output_type": "stream",
     "text": [
      "RMSE for random_state=29: 0.3027932667039123\n",
      "Accuracy for random_state=29: 0.8859653416878793\n"
     ]
    },
    {
     "name": "stderr",
     "output_type": "stream",
     "text": [
      "/Users/ayusharyakashyap/Library/Python/3.11/lib/python/site-packages/sklearn/metrics/_regression.py:492: FutureWarning: 'squared' is deprecated in version 1.4 and will be removed in 1.6. To calculate the root mean squared error, use the function'root_mean_squared_error'.\n",
      "  warnings.warn(\n"
     ]
    },
    {
     "name": "stdout",
     "output_type": "stream",
     "text": [
      "RMSE for random_state=30: 0.30408507681554203\n",
      "Accuracy for random_state=30: 0.885182102995888\n"
     ]
    },
    {
     "name": "stderr",
     "output_type": "stream",
     "text": [
      "/Users/ayusharyakashyap/Library/Python/3.11/lib/python/site-packages/sklearn/metrics/_regression.py:492: FutureWarning: 'squared' is deprecated in version 1.4 and will be removed in 1.6. To calculate the root mean squared error, use the function'root_mean_squared_error'.\n",
      "  warnings.warn(\n"
     ]
    },
    {
     "name": "stdout",
     "output_type": "stream",
     "text": [
      "RMSE for random_state=31: 0.3034820987140187\n",
      "Accuracy for random_state=31: 0.8858919130605052\n"
     ]
    },
    {
     "name": "stderr",
     "output_type": "stream",
     "text": [
      "/Users/ayusharyakashyap/Library/Python/3.11/lib/python/site-packages/sklearn/metrics/_regression.py:492: FutureWarning: 'squared' is deprecated in version 1.4 and will be removed in 1.6. To calculate the root mean squared error, use the function'root_mean_squared_error'.\n",
      "  warnings.warn(\n"
     ]
    },
    {
     "name": "stdout",
     "output_type": "stream",
     "text": [
      "RMSE for random_state=32: 0.3032169170820118\n",
      "Accuracy for random_state=32: 0.8861611513608773\n"
     ]
    },
    {
     "name": "stderr",
     "output_type": "stream",
     "text": [
      "/Users/ayusharyakashyap/Library/Python/3.11/lib/python/site-packages/sklearn/metrics/_regression.py:492: FutureWarning: 'squared' is deprecated in version 1.4 and will be removed in 1.6. To calculate the root mean squared error, use the function'root_mean_squared_error'.\n",
      "  warnings.warn(\n"
     ]
    },
    {
     "name": "stdout",
     "output_type": "stream",
     "text": [
      "RMSE for random_state=33: 0.3017371016342896\n",
      "Accuracy for random_state=33: 0.886185627570002\n"
     ]
    },
    {
     "name": "stderr",
     "output_type": "stream",
     "text": [
      "/Users/ayusharyakashyap/Library/Python/3.11/lib/python/site-packages/sklearn/metrics/_regression.py:492: FutureWarning: 'squared' is deprecated in version 1.4 and will be removed in 1.6. To calculate the root mean squared error, use the function'root_mean_squared_error'.\n",
      "  warnings.warn(\n"
     ]
    },
    {
     "name": "stdout",
     "output_type": "stream",
     "text": [
      "RMSE for random_state=34: 0.30459658810154977\n",
      "Accuracy for random_state=34: 0.8850597219502644\n"
     ]
    },
    {
     "name": "stderr",
     "output_type": "stream",
     "text": [
      "/Users/ayusharyakashyap/Library/Python/3.11/lib/python/site-packages/sklearn/metrics/_regression.py:492: FutureWarning: 'squared' is deprecated in version 1.4 and will be removed in 1.6. To calculate the root mean squared error, use the function'root_mean_squared_error'.\n",
      "  warnings.warn(\n"
     ]
    },
    {
     "name": "stdout",
     "output_type": "stream",
     "text": [
      "RMSE for random_state=35: 0.3055572834955118\n",
      "Accuracy for random_state=35: 0.8852310554141375\n"
     ]
    },
    {
     "name": "stderr",
     "output_type": "stream",
     "text": [
      "/Users/ayusharyakashyap/Library/Python/3.11/lib/python/site-packages/sklearn/metrics/_regression.py:492: FutureWarning: 'squared' is deprecated in version 1.4 and will be removed in 1.6. To calculate the root mean squared error, use the function'root_mean_squared_error'.\n",
      "  warnings.warn(\n"
     ]
    },
    {
     "name": "stdout",
     "output_type": "stream",
     "text": [
      "RMSE for random_state=36: 0.3028195633166479\n",
      "Accuracy for random_state=36: 0.8861611513608773\n"
     ]
    },
    {
     "name": "stderr",
     "output_type": "stream",
     "text": [
      "/Users/ayusharyakashyap/Library/Python/3.11/lib/python/site-packages/sklearn/metrics/_regression.py:492: FutureWarning: 'squared' is deprecated in version 1.4 and will be removed in 1.6. To calculate the root mean squared error, use the function'root_mean_squared_error'.\n",
      "  warnings.warn(\n"
     ]
    },
    {
     "name": "stdout",
     "output_type": "stream",
     "text": [
      "RMSE for random_state=37: 0.3039683778014902\n",
      "Accuracy for random_state=37: 0.8852555316232622\n"
     ]
    },
    {
     "name": "stderr",
     "output_type": "stream",
     "text": [
      "/Users/ayusharyakashyap/Library/Python/3.11/lib/python/site-packages/sklearn/metrics/_regression.py:492: FutureWarning: 'squared' is deprecated in version 1.4 and will be removed in 1.6. To calculate the root mean squared error, use the function'root_mean_squared_error'.\n",
      "  warnings.warn(\n"
     ]
    },
    {
     "name": "stdout",
     "output_type": "stream",
     "text": [
      "RMSE for random_state=38: 0.3023203450471374\n",
      "Accuracy for random_state=38: 0.8855737223418837\n"
     ]
    },
    {
     "name": "stderr",
     "output_type": "stream",
     "text": [
      "/Users/ayusharyakashyap/Library/Python/3.11/lib/python/site-packages/sklearn/metrics/_regression.py:492: FutureWarning: 'squared' is deprecated in version 1.4 and will be removed in 1.6. To calculate the root mean squared error, use the function'root_mean_squared_error'.\n",
      "  warnings.warn(\n"
     ]
    },
    {
     "name": "stdout",
     "output_type": "stream",
     "text": [
      "RMSE for random_state=39: 0.3025915365509458\n",
      "Accuracy for random_state=39: 0.8855002937145094\n"
     ]
    },
    {
     "name": "stderr",
     "output_type": "stream",
     "text": [
      "/Users/ayusharyakashyap/Library/Python/3.11/lib/python/site-packages/sklearn/metrics/_regression.py:492: FutureWarning: 'squared' is deprecated in version 1.4 and will be removed in 1.6. To calculate the root mean squared error, use the function'root_mean_squared_error'.\n",
      "  warnings.warn(\n"
     ]
    },
    {
     "name": "stdout",
     "output_type": "stream",
     "text": [
      "RMSE for random_state=40: 0.30390613868114796\n",
      "Accuracy for random_state=40: 0.8857205795966321\n"
     ]
    },
    {
     "name": "stderr",
     "output_type": "stream",
     "text": [
      "/Users/ayusharyakashyap/Library/Python/3.11/lib/python/site-packages/sklearn/metrics/_regression.py:492: FutureWarning: 'squared' is deprecated in version 1.4 and will be removed in 1.6. To calculate the root mean squared error, use the function'root_mean_squared_error'.\n",
      "  warnings.warn(\n"
     ]
    },
    {
     "name": "stdout",
     "output_type": "stream",
     "text": [
      "RMSE for random_state=41: 0.3030391236477725\n",
      "Accuracy for random_state=41: 0.8857695320148815\n"
     ]
    },
    {
     "name": "stderr",
     "output_type": "stream",
     "text": [
      "/Users/ayusharyakashyap/Library/Python/3.11/lib/python/site-packages/sklearn/metrics/_regression.py:492: FutureWarning: 'squared' is deprecated in version 1.4 and will be removed in 1.6. To calculate the root mean squared error, use the function'root_mean_squared_error'.\n",
      "  warnings.warn(\n"
     ]
    },
    {
     "name": "stdout",
     "output_type": "stream",
     "text": [
      "RMSE for random_state=42: 0.30286117957401065\n",
      "Accuracy for random_state=42: 0.8856716271783827\n"
     ]
    },
    {
     "name": "stderr",
     "output_type": "stream",
     "text": [
      "/Users/ayusharyakashyap/Library/Python/3.11/lib/python/site-packages/sklearn/metrics/_regression.py:492: FutureWarning: 'squared' is deprecated in version 1.4 and will be removed in 1.6. To calculate the root mean squared error, use the function'root_mean_squared_error'.\n",
      "  warnings.warn(\n"
     ]
    },
    {
     "name": "stdout",
     "output_type": "stream",
     "text": [
      "RMSE for random_state=43: 0.30293614743859437\n",
      "Accuracy for random_state=43: 0.8864793420794987\n"
     ]
    },
    {
     "name": "stderr",
     "output_type": "stream",
     "text": [
      "/Users/ayusharyakashyap/Library/Python/3.11/lib/python/site-packages/sklearn/metrics/_regression.py:492: FutureWarning: 'squared' is deprecated in version 1.4 and will be removed in 1.6. To calculate the root mean squared error, use the function'root_mean_squared_error'.\n",
      "  warnings.warn(\n"
     ]
    },
    {
     "name": "stdout",
     "output_type": "stream",
     "text": [
      "RMSE for random_state=44: 0.30358513858336666\n",
      "Accuracy for random_state=44: 0.8853779126688859\n"
     ]
    },
    {
     "name": "stderr",
     "output_type": "stream",
     "text": [
      "/Users/ayusharyakashyap/Library/Python/3.11/lib/python/site-packages/sklearn/metrics/_regression.py:492: FutureWarning: 'squared' is deprecated in version 1.4 and will be removed in 1.6. To calculate the root mean squared error, use the function'root_mean_squared_error'.\n",
      "  warnings.warn(\n"
     ]
    },
    {
     "name": "stdout",
     "output_type": "stream",
     "text": [
      "RMSE for random_state=45: 0.3038717998702496\n",
      "Accuracy for random_state=45: 0.886087722733503\n"
     ]
    },
    {
     "name": "stderr",
     "output_type": "stream",
     "text": [
      "/Users/ayusharyakashyap/Library/Python/3.11/lib/python/site-packages/sklearn/metrics/_regression.py:492: FutureWarning: 'squared' is deprecated in version 1.4 and will be removed in 1.6. To calculate the root mean squared error, use the function'root_mean_squared_error'.\n",
      "  warnings.warn(\n"
     ]
    },
    {
     "name": "stdout",
     "output_type": "stream",
     "text": [
      "RMSE for random_state=46: 0.30391269732915877\n",
      "Accuracy for random_state=46: 0.884912864695516\n"
     ]
    },
    {
     "name": "stderr",
     "output_type": "stream",
     "text": [
      "/Users/ayusharyakashyap/Library/Python/3.11/lib/python/site-packages/sklearn/metrics/_regression.py:492: FutureWarning: 'squared' is deprecated in version 1.4 and will be removed in 1.6. To calculate the root mean squared error, use the function'root_mean_squared_error'.\n",
      "  warnings.warn(\n"
     ]
    },
    {
     "name": "stdout",
     "output_type": "stream",
     "text": [
      "RMSE for random_state=47: 0.30297275284115077\n",
      "Accuracy for random_state=47: 0.8865772469159976\n"
     ]
    },
    {
     "name": "stderr",
     "output_type": "stream",
     "text": [
      "/Users/ayusharyakashyap/Library/Python/3.11/lib/python/site-packages/sklearn/metrics/_regression.py:492: FutureWarning: 'squared' is deprecated in version 1.4 and will be removed in 1.6. To calculate the root mean squared error, use the function'root_mean_squared_error'.\n",
      "  warnings.warn(\n"
     ]
    },
    {
     "name": "stdout",
     "output_type": "stream",
     "text": [
      "RMSE for random_state=48: 0.3038828195230317\n",
      "Accuracy for random_state=48: 0.8859163892696299\n"
     ]
    },
    {
     "name": "stderr",
     "output_type": "stream",
     "text": [
      "/Users/ayusharyakashyap/Library/Python/3.11/lib/python/site-packages/sklearn/metrics/_regression.py:492: FutureWarning: 'squared' is deprecated in version 1.4 and will be removed in 1.6. To calculate the root mean squared error, use the function'root_mean_squared_error'.\n",
      "  warnings.warn(\n"
     ]
    },
    {
     "name": "stdout",
     "output_type": "stream",
     "text": [
      "RMSE for random_state=49: 0.30325835808941226\n",
      "Accuracy for random_state=49: 0.8862101037791267\n"
     ]
    },
    {
     "name": "stderr",
     "output_type": "stream",
     "text": [
      "/Users/ayusharyakashyap/Library/Python/3.11/lib/python/site-packages/sklearn/metrics/_regression.py:492: FutureWarning: 'squared' is deprecated in version 1.4 and will be removed in 1.6. To calculate the root mean squared error, use the function'root_mean_squared_error'.\n",
      "  warnings.warn(\n"
     ]
    },
    {
     "name": "stdout",
     "output_type": "stream",
     "text": [
      "RMSE for random_state=50: 0.3022139241412492\n",
      "Accuracy for random_state=50: 0.8866751517524966\n"
     ]
    },
    {
     "name": "stderr",
     "output_type": "stream",
     "text": [
      "/Users/ayusharyakashyap/Library/Python/3.11/lib/python/site-packages/sklearn/metrics/_regression.py:492: FutureWarning: 'squared' is deprecated in version 1.4 and will be removed in 1.6. To calculate the root mean squared error, use the function'root_mean_squared_error'.\n",
      "  warnings.warn(\n"
     ]
    },
    {
     "name": "stdout",
     "output_type": "stream",
     "text": [
      "RMSE for random_state=51: 0.30424167431382776\n",
      "Accuracy for random_state=51: 0.884912864695516\n"
     ]
    },
    {
     "name": "stderr",
     "output_type": "stream",
     "text": [
      "/Users/ayusharyakashyap/Library/Python/3.11/lib/python/site-packages/sklearn/metrics/_regression.py:492: FutureWarning: 'squared' is deprecated in version 1.4 and will be removed in 1.6. To calculate the root mean squared error, use the function'root_mean_squared_error'.\n",
      "  warnings.warn(\n"
     ]
    },
    {
     "name": "stdout",
     "output_type": "stream",
     "text": [
      "RMSE for random_state=52: 0.30434461868006846\n",
      "Accuracy for random_state=52: 0.8857695320148815\n"
     ]
    },
    {
     "name": "stderr",
     "output_type": "stream",
     "text": [
      "/Users/ayusharyakashyap/Library/Python/3.11/lib/python/site-packages/sklearn/metrics/_regression.py:492: FutureWarning: 'squared' is deprecated in version 1.4 and will be removed in 1.6. To calculate the root mean squared error, use the function'root_mean_squared_error'.\n",
      "  warnings.warn(\n"
     ]
    },
    {
     "name": "stdout",
     "output_type": "stream",
     "text": [
      "RMSE for random_state=53: 0.30326159688224397\n",
      "Accuracy for random_state=53: 0.8859898178970042\n"
     ]
    },
    {
     "name": "stderr",
     "output_type": "stream",
     "text": [
      "/Users/ayusharyakashyap/Library/Python/3.11/lib/python/site-packages/sklearn/metrics/_regression.py:492: FutureWarning: 'squared' is deprecated in version 1.4 and will be removed in 1.6. To calculate the root mean squared error, use the function'root_mean_squared_error'.\n",
      "  warnings.warn(\n"
     ]
    },
    {
     "name": "stdout",
     "output_type": "stream",
     "text": [
      "RMSE for random_state=54: 0.3036137927335713\n",
      "Accuracy for random_state=54: 0.8854268650871353\n"
     ]
    },
    {
     "name": "stderr",
     "output_type": "stream",
     "text": [
      "/Users/ayusharyakashyap/Library/Python/3.11/lib/python/site-packages/sklearn/metrics/_regression.py:492: FutureWarning: 'squared' is deprecated in version 1.4 and will be removed in 1.6. To calculate the root mean squared error, use the function'root_mean_squared_error'.\n",
      "  warnings.warn(\n"
     ]
    },
    {
     "name": "stdout",
     "output_type": "stream",
     "text": [
      "RMSE for random_state=55: 0.30314474166260585\n",
      "Accuracy for random_state=55: 0.8868954376346192\n"
     ]
    },
    {
     "name": "stderr",
     "output_type": "stream",
     "text": [
      "/Users/ayusharyakashyap/Library/Python/3.11/lib/python/site-packages/sklearn/metrics/_regression.py:492: FutureWarning: 'squared' is deprecated in version 1.4 and will be removed in 1.6. To calculate the root mean squared error, use the function'root_mean_squared_error'.\n",
      "  warnings.warn(\n"
     ]
    },
    {
     "name": "stdout",
     "output_type": "stream",
     "text": [
      "RMSE for random_state=56: 0.3037941187508204\n",
      "Accuracy for random_state=56: 0.8854023888780106\n"
     ]
    },
    {
     "name": "stderr",
     "output_type": "stream",
     "text": [
      "/Users/ayusharyakashyap/Library/Python/3.11/lib/python/site-packages/sklearn/metrics/_regression.py:492: FutureWarning: 'squared' is deprecated in version 1.4 and will be removed in 1.6. To calculate the root mean squared error, use the function'root_mean_squared_error'.\n",
      "  warnings.warn(\n"
     ]
    },
    {
     "name": "stdout",
     "output_type": "stream",
     "text": [
      "RMSE for random_state=57: 0.30315617521711513\n",
      "Accuracy for random_state=57: 0.8859163892696299\n"
     ]
    },
    {
     "name": "stderr",
     "output_type": "stream",
     "text": [
      "/Users/ayusharyakashyap/Library/Python/3.11/lib/python/site-packages/sklearn/metrics/_regression.py:492: FutureWarning: 'squared' is deprecated in version 1.4 and will be removed in 1.6. To calculate the root mean squared error, use the function'root_mean_squared_error'.\n",
      "  warnings.warn(\n"
     ]
    },
    {
     "name": "stdout",
     "output_type": "stream",
     "text": [
      "RMSE for random_state=58: 0.3027487924610622\n",
      "Accuracy for random_state=58: 0.8857695320148815\n"
     ]
    },
    {
     "name": "stderr",
     "output_type": "stream",
     "text": [
      "/Users/ayusharyakashyap/Library/Python/3.11/lib/python/site-packages/sklearn/metrics/_regression.py:492: FutureWarning: 'squared' is deprecated in version 1.4 and will be removed in 1.6. To calculate the root mean squared error, use the function'root_mean_squared_error'.\n",
      "  warnings.warn(\n"
     ]
    },
    {
     "name": "stdout",
     "output_type": "stream",
     "text": [
      "RMSE for random_state=59: 0.30359318247950057\n",
      "Accuracy for random_state=59: 0.8860142941061289\n"
     ]
    },
    {
     "name": "stderr",
     "output_type": "stream",
     "text": [
      "/Users/ayusharyakashyap/Library/Python/3.11/lib/python/site-packages/sklearn/metrics/_regression.py:492: FutureWarning: 'squared' is deprecated in version 1.4 and will be removed in 1.6. To calculate the root mean squared error, use the function'root_mean_squared_error'.\n",
      "  warnings.warn(\n"
     ]
    },
    {
     "name": "stdout",
     "output_type": "stream",
     "text": [
      "RMSE for random_state=60: 0.3031235517965626\n",
      "Accuracy for random_state=60: 0.8858919130605052\n"
     ]
    },
    {
     "name": "stderr",
     "output_type": "stream",
     "text": [
      "/Users/ayusharyakashyap/Library/Python/3.11/lib/python/site-packages/sklearn/metrics/_regression.py:492: FutureWarning: 'squared' is deprecated in version 1.4 and will be removed in 1.6. To calculate the root mean squared error, use the function'root_mean_squared_error'.\n",
      "  warnings.warn(\n"
     ]
    },
    {
     "name": "stdout",
     "output_type": "stream",
     "text": [
      "RMSE for random_state=61: 0.30449397732117806\n",
      "Accuracy for random_state=61: 0.8854023888780106\n"
     ]
    },
    {
     "name": "stderr",
     "output_type": "stream",
     "text": [
      "/Users/ayusharyakashyap/Library/Python/3.11/lib/python/site-packages/sklearn/metrics/_regression.py:492: FutureWarning: 'squared' is deprecated in version 1.4 and will be removed in 1.6. To calculate the root mean squared error, use the function'root_mean_squared_error'.\n",
      "  warnings.warn(\n"
     ]
    },
    {
     "name": "stdout",
     "output_type": "stream",
     "text": [
      "RMSE for random_state=62: 0.3023435106337982\n",
      "Accuracy for random_state=62: 0.8859163892696299\n"
     ]
    },
    {
     "name": "stderr",
     "output_type": "stream",
     "text": [
      "/Users/ayusharyakashyap/Library/Python/3.11/lib/python/site-packages/sklearn/metrics/_regression.py:492: FutureWarning: 'squared' is deprecated in version 1.4 and will be removed in 1.6. To calculate the root mean squared error, use the function'root_mean_squared_error'.\n",
      "  warnings.warn(\n"
     ]
    },
    {
     "name": "stdout",
     "output_type": "stream",
     "text": [
      "RMSE for random_state=63: 0.3031561761086677\n",
      "Accuracy for random_state=63: 0.8860387703152536\n"
     ]
    },
    {
     "name": "stderr",
     "output_type": "stream",
     "text": [
      "/Users/ayusharyakashyap/Library/Python/3.11/lib/python/site-packages/sklearn/metrics/_regression.py:492: FutureWarning: 'squared' is deprecated in version 1.4 and will be removed in 1.6. To calculate the root mean squared error, use the function'root_mean_squared_error'.\n",
      "  warnings.warn(\n"
     ]
    },
    {
     "name": "stdout",
     "output_type": "stream",
     "text": [
      "RMSE for random_state=64: 0.30304936463112614\n",
      "Accuracy for random_state=64: 0.8862835324065009\n"
     ]
    },
    {
     "name": "stderr",
     "output_type": "stream",
     "text": [
      "/Users/ayusharyakashyap/Library/Python/3.11/lib/python/site-packages/sklearn/metrics/_regression.py:492: FutureWarning: 'squared' is deprecated in version 1.4 and will be removed in 1.6. To calculate the root mean squared error, use the function'root_mean_squared_error'.\n",
      "  warnings.warn(\n"
     ]
    },
    {
     "name": "stdout",
     "output_type": "stream",
     "text": [
      "RMSE for random_state=65: 0.3032047534143067\n",
      "Accuracy for random_state=65: 0.8856226747601331\n"
     ]
    },
    {
     "name": "stderr",
     "output_type": "stream",
     "text": [
      "/Users/ayusharyakashyap/Library/Python/3.11/lib/python/site-packages/sklearn/metrics/_regression.py:492: FutureWarning: 'squared' is deprecated in version 1.4 and will be removed in 1.6. To calculate the root mean squared error, use the function'root_mean_squared_error'.\n",
      "  warnings.warn(\n"
     ]
    },
    {
     "name": "stdout",
     "output_type": "stream",
     "text": [
      "RMSE for random_state=66: 0.30221381276865383\n",
      "Accuracy for random_state=66: 0.8862590561973761\n"
     ]
    },
    {
     "name": "stderr",
     "output_type": "stream",
     "text": [
      "/Users/ayusharyakashyap/Library/Python/3.11/lib/python/site-packages/sklearn/metrics/_regression.py:492: FutureWarning: 'squared' is deprecated in version 1.4 and will be removed in 1.6. To calculate the root mean squared error, use the function'root_mean_squared_error'.\n",
      "  warnings.warn(\n"
     ]
    },
    {
     "name": "stdout",
     "output_type": "stream",
     "text": [
      "RMSE for random_state=67: 0.30272529280328786\n",
      "Accuracy for random_state=67: 0.8862101037791267\n"
     ]
    },
    {
     "name": "stderr",
     "output_type": "stream",
     "text": [
      "/Users/ayusharyakashyap/Library/Python/3.11/lib/python/site-packages/sklearn/metrics/_regression.py:492: FutureWarning: 'squared' is deprecated in version 1.4 and will be removed in 1.6. To calculate the root mean squared error, use the function'root_mean_squared_error'.\n",
      "  warnings.warn(\n"
     ]
    },
    {
     "name": "stdout",
     "output_type": "stream",
     "text": [
      "RMSE for random_state=68: 0.30312179064983297\n",
      "Accuracy for random_state=68: 0.88545134129626\n"
     ]
    },
    {
     "name": "stderr",
     "output_type": "stream",
     "text": [
      "/Users/ayusharyakashyap/Library/Python/3.11/lib/python/site-packages/sklearn/metrics/_regression.py:492: FutureWarning: 'squared' is deprecated in version 1.4 and will be removed in 1.6. To calculate the root mean squared error, use the function'root_mean_squared_error'.\n",
      "  warnings.warn(\n"
     ]
    },
    {
     "name": "stdout",
     "output_type": "stream",
     "text": [
      "RMSE for random_state=69: 0.3034069639442309\n",
      "Accuracy for random_state=69: 0.885549246132759\n"
     ]
    },
    {
     "name": "stderr",
     "output_type": "stream",
     "text": [
      "/Users/ayusharyakashyap/Library/Python/3.11/lib/python/site-packages/sklearn/metrics/_regression.py:492: FutureWarning: 'squared' is deprecated in version 1.4 and will be removed in 1.6. To calculate the root mean squared error, use the function'root_mean_squared_error'.\n",
      "  warnings.warn(\n"
     ]
    },
    {
     "name": "stdout",
     "output_type": "stream",
     "text": [
      "RMSE for random_state=70: 0.30210878610582975\n",
      "Accuracy for random_state=70: 0.886185627570002\n"
     ]
    },
    {
     "name": "stderr",
     "output_type": "stream",
     "text": [
      "/Users/ayusharyakashyap/Library/Python/3.11/lib/python/site-packages/sklearn/metrics/_regression.py:492: FutureWarning: 'squared' is deprecated in version 1.4 and will be removed in 1.6. To calculate the root mean squared error, use the function'root_mean_squared_error'.\n",
      "  warnings.warn(\n"
     ]
    },
    {
     "name": "stdout",
     "output_type": "stream",
     "text": [
      "RMSE for random_state=71: 0.302037218830459\n",
      "Accuracy for random_state=71: 0.8863324848247504\n"
     ]
    },
    {
     "name": "stderr",
     "output_type": "stream",
     "text": [
      "/Users/ayusharyakashyap/Library/Python/3.11/lib/python/site-packages/sklearn/metrics/_regression.py:492: FutureWarning: 'squared' is deprecated in version 1.4 and will be removed in 1.6. To calculate the root mean squared error, use the function'root_mean_squared_error'.\n",
      "  warnings.warn(\n"
     ]
    },
    {
     "name": "stdout",
     "output_type": "stream",
     "text": [
      "RMSE for random_state=72: 0.30270356086154104\n",
      "Accuracy for random_state=72: 0.8861611513608773\n"
     ]
    },
    {
     "name": "stderr",
     "output_type": "stream",
     "text": [
      "/Users/ayusharyakashyap/Library/Python/3.11/lib/python/site-packages/sklearn/metrics/_regression.py:492: FutureWarning: 'squared' is deprecated in version 1.4 and will be removed in 1.6. To calculate the root mean squared error, use the function'root_mean_squared_error'.\n",
      "  warnings.warn(\n"
     ]
    },
    {
     "name": "stdout",
     "output_type": "stream",
     "text": [
      "RMSE for random_state=73: 0.3028614905288666\n",
      "Accuracy for random_state=73: 0.8859408654787546\n"
     ]
    },
    {
     "name": "stderr",
     "output_type": "stream",
     "text": [
      "/Users/ayusharyakashyap/Library/Python/3.11/lib/python/site-packages/sklearn/metrics/_regression.py:492: FutureWarning: 'squared' is deprecated in version 1.4 and will be removed in 1.6. To calculate the root mean squared error, use the function'root_mean_squared_error'.\n",
      "  warnings.warn(\n"
     ]
    },
    {
     "name": "stdout",
     "output_type": "stream",
     "text": [
      "RMSE for random_state=74: 0.3039137119717592\n",
      "Accuracy for random_state=74: 0.8853044840415116\n"
     ]
    },
    {
     "name": "stderr",
     "output_type": "stream",
     "text": [
      "/Users/ayusharyakashyap/Library/Python/3.11/lib/python/site-packages/sklearn/metrics/_regression.py:492: FutureWarning: 'squared' is deprecated in version 1.4 and will be removed in 1.6. To calculate the root mean squared error, use the function'root_mean_squared_error'.\n",
      "  warnings.warn(\n"
     ]
    },
    {
     "name": "stdout",
     "output_type": "stream",
     "text": [
      "RMSE for random_state=75: 0.3026493185515297\n",
      "Accuracy for random_state=75: 0.8863324848247504\n"
     ]
    },
    {
     "name": "stderr",
     "output_type": "stream",
     "text": [
      "/Users/ayusharyakashyap/Library/Python/3.11/lib/python/site-packages/sklearn/metrics/_regression.py:492: FutureWarning: 'squared' is deprecated in version 1.4 and will be removed in 1.6. To calculate the root mean squared error, use the function'root_mean_squared_error'.\n",
      "  warnings.warn(\n"
     ]
    },
    {
     "name": "stdout",
     "output_type": "stream",
     "text": [
      "RMSE for random_state=76: 0.30370296620247006\n",
      "Accuracy for random_state=76: 0.8856471509692578\n"
     ]
    },
    {
     "name": "stderr",
     "output_type": "stream",
     "text": [
      "/Users/ayusharyakashyap/Library/Python/3.11/lib/python/site-packages/sklearn/metrics/_regression.py:492: FutureWarning: 'squared' is deprecated in version 1.4 and will be removed in 1.6. To calculate the root mean squared error, use the function'root_mean_squared_error'.\n",
      "  warnings.warn(\n"
     ]
    },
    {
     "name": "stdout",
     "output_type": "stream",
     "text": [
      "RMSE for random_state=77: 0.3024736953601648\n",
      "Accuracy for random_state=77: 0.8857205795966321\n"
     ]
    },
    {
     "name": "stderr",
     "output_type": "stream",
     "text": [
      "/Users/ayusharyakashyap/Library/Python/3.11/lib/python/site-packages/sklearn/metrics/_regression.py:492: FutureWarning: 'squared' is deprecated in version 1.4 and will be removed in 1.6. To calculate the root mean squared error, use the function'root_mean_squared_error'.\n",
      "  warnings.warn(\n"
     ]
    },
    {
     "name": "stdout",
     "output_type": "stream",
     "text": [
      "RMSE for random_state=78: 0.30344566820354113\n",
      "Accuracy for random_state=78: 0.8857695320148815\n"
     ]
    },
    {
     "name": "stderr",
     "output_type": "stream",
     "text": [
      "/Users/ayusharyakashyap/Library/Python/3.11/lib/python/site-packages/sklearn/metrics/_regression.py:492: FutureWarning: 'squared' is deprecated in version 1.4 and will be removed in 1.6. To calculate the root mean squared error, use the function'root_mean_squared_error'.\n",
      "  warnings.warn(\n"
     ]
    },
    {
     "name": "stdout",
     "output_type": "stream",
     "text": [
      "RMSE for random_state=79: 0.3025219416317353\n",
      "Accuracy for random_state=79: 0.8860387703152536\n"
     ]
    },
    {
     "name": "stderr",
     "output_type": "stream",
     "text": [
      "/Users/ayusharyakashyap/Library/Python/3.11/lib/python/site-packages/sklearn/metrics/_regression.py:492: FutureWarning: 'squared' is deprecated in version 1.4 and will be removed in 1.6. To calculate the root mean squared error, use the function'root_mean_squared_error'.\n",
      "  warnings.warn(\n"
     ]
    },
    {
     "name": "stdout",
     "output_type": "stream",
     "text": [
      "RMSE for random_state=80: 0.30211909759421524\n",
      "Accuracy for random_state=80: 0.8854023888780106\n"
     ]
    },
    {
     "name": "stderr",
     "output_type": "stream",
     "text": [
      "/Users/ayusharyakashyap/Library/Python/3.11/lib/python/site-packages/sklearn/metrics/_regression.py:492: FutureWarning: 'squared' is deprecated in version 1.4 and will be removed in 1.6. To calculate the root mean squared error, use the function'root_mean_squared_error'.\n",
      "  warnings.warn(\n"
     ]
    },
    {
     "name": "stdout",
     "output_type": "stream",
     "text": [
      "RMSE for random_state=81: 0.30274159846097703\n",
      "Accuracy for random_state=81: 0.8863080086156256\n"
     ]
    },
    {
     "name": "stderr",
     "output_type": "stream",
     "text": [
      "/Users/ayusharyakashyap/Library/Python/3.11/lib/python/site-packages/sklearn/metrics/_regression.py:492: FutureWarning: 'squared' is deprecated in version 1.4 and will be removed in 1.6. To calculate the root mean squared error, use the function'root_mean_squared_error'.\n",
      "  warnings.warn(\n"
     ]
    },
    {
     "name": "stdout",
     "output_type": "stream",
     "text": [
      "RMSE for random_state=82: 0.302427516562595\n",
      "Accuracy for random_state=82: 0.8864793420794987\n"
     ]
    },
    {
     "name": "stderr",
     "output_type": "stream",
     "text": [
      "/Users/ayusharyakashyap/Library/Python/3.11/lib/python/site-packages/sklearn/metrics/_regression.py:492: FutureWarning: 'squared' is deprecated in version 1.4 and will be removed in 1.6. To calculate the root mean squared error, use the function'root_mean_squared_error'.\n",
      "  warnings.warn(\n"
     ]
    },
    {
     "name": "stdout",
     "output_type": "stream",
     "text": [
      "RMSE for random_state=83: 0.3041869886081976\n",
      "Accuracy for random_state=83: 0.884814959859017\n"
     ]
    },
    {
     "name": "stderr",
     "output_type": "stream",
     "text": [
      "/Users/ayusharyakashyap/Library/Python/3.11/lib/python/site-packages/sklearn/metrics/_regression.py:492: FutureWarning: 'squared' is deprecated in version 1.4 and will be removed in 1.6. To calculate the root mean squared error, use the function'root_mean_squared_error'.\n",
      "  warnings.warn(\n"
     ]
    },
    {
     "name": "stdout",
     "output_type": "stream",
     "text": [
      "RMSE for random_state=84: 0.30350897706828533\n",
      "Accuracy for random_state=84: 0.885182102995888\n"
     ]
    },
    {
     "name": "stderr",
     "output_type": "stream",
     "text": [
      "/Users/ayusharyakashyap/Library/Python/3.11/lib/python/site-packages/sklearn/metrics/_regression.py:492: FutureWarning: 'squared' is deprecated in version 1.4 and will be removed in 1.6. To calculate the root mean squared error, use the function'root_mean_squared_error'.\n",
      "  warnings.warn(\n"
     ]
    },
    {
     "name": "stdout",
     "output_type": "stream",
     "text": [
      "RMSE for random_state=85: 0.3044224911461305\n",
      "Accuracy for random_state=85: 0.8856961033875074\n"
     ]
    },
    {
     "name": "stderr",
     "output_type": "stream",
     "text": [
      "/Users/ayusharyakashyap/Library/Python/3.11/lib/python/site-packages/sklearn/metrics/_regression.py:492: FutureWarning: 'squared' is deprecated in version 1.4 and will be removed in 1.6. To calculate the root mean squared error, use the function'root_mean_squared_error'.\n",
      "  warnings.warn(\n"
     ]
    },
    {
     "name": "stdout",
     "output_type": "stream",
     "text": [
      "RMSE for random_state=86: 0.3045662815704034\n",
      "Accuracy for random_state=86: 0.8854268650871353\n"
     ]
    },
    {
     "name": "stderr",
     "output_type": "stream",
     "text": [
      "/Users/ayusharyakashyap/Library/Python/3.11/lib/python/site-packages/sklearn/metrics/_regression.py:492: FutureWarning: 'squared' is deprecated in version 1.4 and will be removed in 1.6. To calculate the root mean squared error, use the function'root_mean_squared_error'.\n",
      "  warnings.warn(\n"
     ]
    },
    {
     "name": "stdout",
     "output_type": "stream",
     "text": [
      "RMSE for random_state=87: 0.30326528330488944\n",
      "Accuracy for random_state=87: 0.8864303896612493\n"
     ]
    },
    {
     "name": "stderr",
     "output_type": "stream",
     "text": [
      "/Users/ayusharyakashyap/Library/Python/3.11/lib/python/site-packages/sklearn/metrics/_regression.py:492: FutureWarning: 'squared' is deprecated in version 1.4 and will be removed in 1.6. To calculate the root mean squared error, use the function'root_mean_squared_error'.\n",
      "  warnings.warn(\n"
     ]
    },
    {
     "name": "stdout",
     "output_type": "stream",
     "text": [
      "RMSE for random_state=88: 0.3038945663136781\n",
      "Accuracy for random_state=88: 0.8855002937145094\n"
     ]
    },
    {
     "name": "stderr",
     "output_type": "stream",
     "text": [
      "/Users/ayusharyakashyap/Library/Python/3.11/lib/python/site-packages/sklearn/metrics/_regression.py:492: FutureWarning: 'squared' is deprecated in version 1.4 and will be removed in 1.6. To calculate the root mean squared error, use the function'root_mean_squared_error'.\n",
      "  warnings.warn(\n"
     ]
    },
    {
     "name": "stdout",
     "output_type": "stream",
     "text": [
      "RMSE for random_state=89: 0.3026608627879154\n",
      "Accuracy for random_state=89: 0.8857695320148815\n"
     ]
    },
    {
     "name": "stderr",
     "output_type": "stream",
     "text": [
      "/Users/ayusharyakashyap/Library/Python/3.11/lib/python/site-packages/sklearn/metrics/_regression.py:492: FutureWarning: 'squared' is deprecated in version 1.4 and will be removed in 1.6. To calculate the root mean squared error, use the function'root_mean_squared_error'.\n",
      "  warnings.warn(\n"
     ]
    },
    {
     "name": "stdout",
     "output_type": "stream",
     "text": [
      "RMSE for random_state=90: 0.30247755790598657\n",
      "Accuracy for random_state=90: 0.8863324848247504\n"
     ]
    },
    {
     "name": "stderr",
     "output_type": "stream",
     "text": [
      "/Users/ayusharyakashyap/Library/Python/3.11/lib/python/site-packages/sklearn/metrics/_regression.py:492: FutureWarning: 'squared' is deprecated in version 1.4 and will be removed in 1.6. To calculate the root mean squared error, use the function'root_mean_squared_error'.\n",
      "  warnings.warn(\n"
     ]
    },
    {
     "name": "stdout",
     "output_type": "stream",
     "text": [
      "RMSE for random_state=91: 0.3020652236795091\n",
      "Accuracy for random_state=91: 0.886993342471118\n"
     ]
    },
    {
     "name": "stderr",
     "output_type": "stream",
     "text": [
      "/Users/ayusharyakashyap/Library/Python/3.11/lib/python/site-packages/sklearn/metrics/_regression.py:492: FutureWarning: 'squared' is deprecated in version 1.4 and will be removed in 1.6. To calculate the root mean squared error, use the function'root_mean_squared_error'.\n",
      "  warnings.warn(\n"
     ]
    },
    {
     "name": "stdout",
     "output_type": "stream",
     "text": [
      "RMSE for random_state=92: 0.30328993440377605\n",
      "Accuracy for random_state=92: 0.8857450558057568\n"
     ]
    },
    {
     "name": "stderr",
     "output_type": "stream",
     "text": [
      "/Users/ayusharyakashyap/Library/Python/3.11/lib/python/site-packages/sklearn/metrics/_regression.py:492: FutureWarning: 'squared' is deprecated in version 1.4 and will be removed in 1.6. To calculate the root mean squared error, use the function'root_mean_squared_error'.\n",
      "  warnings.warn(\n"
     ]
    },
    {
     "name": "stdout",
     "output_type": "stream",
     "text": [
      "RMSE for random_state=93: 0.30286747740255393\n",
      "Accuracy for random_state=93: 0.8865282944977482\n"
     ]
    },
    {
     "name": "stderr",
     "output_type": "stream",
     "text": [
      "/Users/ayusharyakashyap/Library/Python/3.11/lib/python/site-packages/sklearn/metrics/_regression.py:492: FutureWarning: 'squared' is deprecated in version 1.4 and will be removed in 1.6. To calculate the root mean squared error, use the function'root_mean_squared_error'.\n",
      "  warnings.warn(\n"
     ]
    },
    {
     "name": "stdout",
     "output_type": "stream",
     "text": [
      "RMSE for random_state=94: 0.30366644902041356\n",
      "Accuracy for random_state=94: 0.8859898178970042\n"
     ]
    },
    {
     "name": "stderr",
     "output_type": "stream",
     "text": [
      "/Users/ayusharyakashyap/Library/Python/3.11/lib/python/site-packages/sklearn/metrics/_regression.py:492: FutureWarning: 'squared' is deprecated in version 1.4 and will be removed in 1.6. To calculate the root mean squared error, use the function'root_mean_squared_error'.\n",
      "  warnings.warn(\n"
     ]
    },
    {
     "name": "stdout",
     "output_type": "stream",
     "text": [
      "RMSE for random_state=95: 0.30213696156139963\n",
      "Accuracy for random_state=95: 0.887091247307617\n"
     ]
    },
    {
     "name": "stderr",
     "output_type": "stream",
     "text": [
      "/Users/ayusharyakashyap/Library/Python/3.11/lib/python/site-packages/sklearn/metrics/_regression.py:492: FutureWarning: 'squared' is deprecated in version 1.4 and will be removed in 1.6. To calculate the root mean squared error, use the function'root_mean_squared_error'.\n",
      "  warnings.warn(\n"
     ]
    },
    {
     "name": "stdout",
     "output_type": "stream",
     "text": [
      "RMSE for random_state=96: 0.30427272420614443\n",
      "Accuracy for random_state=96: 0.8857205795966321\n"
     ]
    },
    {
     "name": "stderr",
     "output_type": "stream",
     "text": [
      "/Users/ayusharyakashyap/Library/Python/3.11/lib/python/site-packages/sklearn/metrics/_regression.py:492: FutureWarning: 'squared' is deprecated in version 1.4 and will be removed in 1.6. To calculate the root mean squared error, use the function'root_mean_squared_error'.\n",
      "  warnings.warn(\n"
     ]
    },
    {
     "name": "stdout",
     "output_type": "stream",
     "text": [
      "RMSE for random_state=97: 0.3022501656229225\n",
      "Accuracy for random_state=97: 0.8864303896612493\n"
     ]
    },
    {
     "name": "stderr",
     "output_type": "stream",
     "text": [
      "/Users/ayusharyakashyap/Library/Python/3.11/lib/python/site-packages/sklearn/metrics/_regression.py:492: FutureWarning: 'squared' is deprecated in version 1.4 and will be removed in 1.6. To calculate the root mean squared error, use the function'root_mean_squared_error'.\n",
      "  warnings.warn(\n"
     ]
    },
    {
     "name": "stdout",
     "output_type": "stream",
     "text": [
      "RMSE for random_state=98: 0.30284477127178405\n",
      "Accuracy for random_state=98: 0.8861366751517525\n"
     ]
    },
    {
     "name": "stderr",
     "output_type": "stream",
     "text": [
      "/Users/ayusharyakashyap/Library/Python/3.11/lib/python/site-packages/sklearn/metrics/_regression.py:492: FutureWarning: 'squared' is deprecated in version 1.4 and will be removed in 1.6. To calculate the root mean squared error, use the function'root_mean_squared_error'.\n",
      "  warnings.warn(\n"
     ]
    },
    {
     "name": "stdout",
     "output_type": "stream",
     "text": [
      "RMSE for random_state=99: 0.3045750882881358\n",
      "Accuracy for random_state=99: 0.8855981985510084\n"
     ]
    },
    {
     "name": "stderr",
     "output_type": "stream",
     "text": [
      "/Users/ayusharyakashyap/Library/Python/3.11/lib/python/site-packages/sklearn/metrics/_regression.py:492: FutureWarning: 'squared' is deprecated in version 1.4 and will be removed in 1.6. To calculate the root mean squared error, use the function'root_mean_squared_error'.\n",
      "  warnings.warn(\n"
     ]
    },
    {
     "name": "stdout",
     "output_type": "stream",
     "text": [
      "RMSE for random_state=100: 0.3028430993159531\n",
      "Accuracy for random_state=100: 0.8862101037791267\n",
      "\n",
      "Best Accuracy: 0.887091247307617 with random_state=95\n"
     ]
    }
   ],
   "source": [
    "import pandas as pd\n",
    "import numpy as np\n",
    "from sklearn.model_selection import train_test_split\n",
    "from sklearn.preprocessing import StandardScaler, LabelEncoder, PolynomialFeatures\n",
    "from sklearn.impute import SimpleImputer\n",
    "from sklearn.linear_model import LinearRegression\n",
    "from sklearn.metrics import mean_squared_error, accuracy_score\n",
    "\n",
    "# Loading the dataset\n",
    "train_df = pd.read_csv('train.csv')\n",
    "test_df = pd.read_csv('test.csv')\n",
    "\n",
    "# Displaying initial data (head)\n",
    "print(\"Initial Training Data:\\n\", train_df.head())\n",
    "print(\"Initial Test Data:\\n\", test_df.head())\n",
    "\n",
    "# Drop unnecessary columns (including target column 'Default' from the feature set)\n",
    "train_df = train_df.drop(columns=['LoanID', 'LoanTerm'])\n",
    "test_df = test_df.drop(columns=['LoanID', 'LoanTerm'])\n",
    "\n",
    "# Encode categorical columns using LabelEncoder\n",
    "categorical_cols = ['Education', 'EmploymentType', 'MaritalStatus', 'HasMortgage', 'HasDependents', 'LoanPurpose', 'HasCoSigner']\n",
    "for col in categorical_cols:\n",
    "    le = LabelEncoder()\n",
    "    train_df[col] = le.fit_transform(train_df[col])\n",
    "    test_df[col] = le.transform(test_df[col])\n",
    "\n",
    "# Handle missing values\n",
    "imputer = SimpleImputer(strategy='mean')\n",
    "train_features = train_df.drop(columns=['Default'])  # Drop 'Default' from features\n",
    "train_target = train_df['Default']  # 'Default' is the target variable\n",
    "train_features = pd.DataFrame(imputer.fit_transform(train_features), columns=train_features.columns)\n",
    "test_df = pd.DataFrame(imputer.transform(test_df), columns=test_df.columns)\n",
    "\n",
    "# Scale features\n",
    "scaler = StandardScaler()\n",
    "train_features = pd.DataFrame(scaler.fit_transform(train_features), columns=train_features.columns)\n",
    "test_df = pd.DataFrame(scaler.transform(test_df), columns=test_df.columns)\n",
    "\n",
    "# Choose polynomial degree (e.g., 2 or 3)\n",
    "poly_degree = 3\n",
    "poly = PolynomialFeatures(degree=poly_degree)\n",
    "\n",
    "# Initialize variables to track the best model\n",
    "best_accuracy = 0\n",
    "best_random_state = None\n",
    "\n",
    "# Loop through different random_state values in the range [1, 100]\n",
    "for state in range(1, 101):  # random_state from 1 to 100\n",
    "    # Split the training data into train and validation sets with stratification\n",
    "    X_train, X_val, y_train, y_val = train_test_split(\n",
    "        train_features, train_target, test_size=0.2, stratify=train_target, random_state=state\n",
    "    )\n",
    "\n",
    "    # Apply PolynomialFeatures\n",
    "    X_train_poly = poly.fit_transform(X_train)\n",
    "    X_val_poly = poly.transform(X_val)\n",
    "\n",
    "    # Initialize and train the Linear Regression model\n",
    "    lr_model = LinearRegression()\n",
    "    lr_model.fit(X_train_poly, y_train)\n",
    "\n",
    "    # Evaluate the model on the validation set\n",
    "    y_val_pred = lr_model.predict(X_val_poly)\n",
    "\n",
    "    # Calculate RMSE (Root Mean Squared Error)\n",
    "    rmse = mean_squared_error(y_val, y_val_pred, squared=False)\n",
    "    print(f\"RMSE for random_state={state}: {rmse}\")\n",
    "\n",
    "    # Round predictions for binary classification and calculate accuracy\n",
    "    y_val_pred_rounded = np.round(y_val_pred)\n",
    "    accuracy = accuracy_score(y_val, y_val_pred_rounded)\n",
    "    print(f\"Accuracy for random_state={state}: {accuracy}\")\n",
    "\n",
    "    # Track the best accuracy and corresponding random_state\n",
    "    if accuracy > best_accuracy:\n",
    "        best_accuracy = accuracy\n",
    "        best_random_state = state\n",
    "\n",
    "# Output the best accuracy and corresponding random_state\n",
    "print(f\"\\nBest Accuracy: {best_accuracy} with random_state={best_random_state}\")\n",
    "\n",
    "# Final model using the best random_state\n",
    "X_train, X_val, y_train, y_val = train_test_split(\n",
    "    train_features, train_target, test_size=0.2, stratify=train_target, random_state=best_random_state\n",
    ")\n",
    "\n",
    "# Apply PolynomialFeatures to final train and validation data\n",
    "X_train_poly = poly.fit_transform(X_train)\n",
    "X_val_poly = poly.transform(X_val)\n",
    "\n",
    "# Train the model\n",
    "lr_model = LinearRegression()\n",
    "lr_model.fit(X_train_poly, y_train)\n",
    "\n",
    "# Make predictions on the test set\n",
    "X_test_poly = poly.transform(test_df)\n",
    "test_predictions = lr_model.predict(X_test_poly)\n",
    "\n",
    "# Round predictions to 0 or 1 for binary classification\n",
    "test_predictions_rounded = np.round(test_predictions)\n",
    "\n",
    "# Prepare the submission file\n",
    "submission_df = pd.DataFrame({\n",
    "    'LoanID': pd.read_csv('test.csv')['LoanID'],  # Reload LoanID from the test CSV\n",
    "    'Default': test_predictions_rounded  # Predicted defaults rounded to 0 or 1\n",
    "})\n",
    "\n",
    "# Save the predictions to a CSV file\n",
    "submission_df.to_csv('polynomial_regression_predictions.csv', index=False)\n"
   ]
  },
  {
   "cell_type": "code",
   "execution_count": 1,
   "id": "cd56a952-0fef-4906-97e8-2eb9b0a772d2",
   "metadata": {},
   "outputs": [
    {
     "name": "stdout",
     "output_type": "stream",
     "text": [
      "Initial Training Data:\n",
      "        LoanID  Age  Income  LoanAmount  CreditScore  MonthsEmployed  \\\n",
      "0  DRIRC89L0T   18  137576      209136          846              26   \n",
      "1  TS0FIUNHNU   47   57194        5970          748              30   \n",
      "2  I0YR284A1V   26   84328       95065          453               7   \n",
      "3  WB1T7NQV8A   53   49795      229582          533             107   \n",
      "4  J6GU9M4G1Z   49  115450       22072          840               0   \n",
      "\n",
      "   NumCreditLines  InterestRate  LoanTerm  DTIRatio    Education  \\\n",
      "0               2         10.47        60      0.81  High School   \n",
      "1               2         19.72        36      0.73  High School   \n",
      "2               2         24.25        12      0.45     Master's   \n",
      "3               3         14.44        60      0.17   Bachelor's   \n",
      "4               4         24.48        12      0.11   Bachelor's   \n",
      "\n",
      "  EmploymentType MaritalStatus HasMortgage HasDependents LoanPurpose  \\\n",
      "0  Self-employed        Single         Yes            No    Business   \n",
      "1     Unemployed      Divorced          No           Yes   Education   \n",
      "2  Self-employed       Married          No            No       Other   \n",
      "3  Self-employed        Single         Yes            No        Auto   \n",
      "4      Part-time        Single          No           Yes   Education   \n",
      "\n",
      "  HasCoSigner  Default  \n",
      "0          No        0  \n",
      "1          No        0  \n",
      "2         Yes        0  \n",
      "3         Yes        1  \n",
      "4         Yes        0  \n",
      "Initial Test Data:\n",
      "        LoanID  Age  Income  LoanAmount  CreditScore  MonthsEmployed  \\\n",
      "0  CKV34LU7V7   55  112656       92393          581             113   \n",
      "1  62KTYNH93J   56   91569      131575          641              54   \n",
      "2  JGFUSOIUH7   26   78169       75417          569             105   \n",
      "3  4538THBHOX   26   63033       10804          326             118   \n",
      "4  DXLNA06JHR   24   29665       21182          662             102   \n",
      "\n",
      "   NumCreditLines  InterestRate  LoanTerm  DTIRatio    Education  \\\n",
      "0               2         23.54        36      0.15          PhD   \n",
      "1               1         15.19        12      0.43  High School   \n",
      "2               3         18.02        12      0.29     Master's   \n",
      "3               1         14.71        24      0.41  High School   \n",
      "4               3         15.02        60      0.69          PhD   \n",
      "\n",
      "  EmploymentType MaritalStatus HasMortgage HasDependents LoanPurpose  \\\n",
      "0  Self-employed        Single         Yes           Yes        Home   \n",
      "1      Part-time      Divorced         Yes           Yes   Education   \n",
      "2      Part-time       Married         Yes           Yes   Education   \n",
      "3      Part-time        Single          No            No    Business   \n",
      "4     Unemployed        Single          No           Yes    Business   \n",
      "\n",
      "  HasCoSigner  \n",
      "0          No  \n",
      "1         Yes  \n",
      "2         Yes  \n",
      "3         Yes  \n",
      "4         Yes  \n",
      "Validation RMSE: 0.33674660633015685\n",
      "Validation Accuracy: 0.8866017231251224\n"
     ]
    },
    {
     "name": "stderr",
     "output_type": "stream",
     "text": [
      "/Users/ayusharyakashyap/Library/Python/3.11/lib/python/site-packages/sklearn/metrics/_regression.py:492: FutureWarning: 'squared' is deprecated in version 1.4 and will be removed in 1.6. To calculate the root mean squared error, use the function'root_mean_squared_error'.\n",
      "  warnings.warn(\n"
     ]
    }
   ],
   "source": [
    "import pandas as pd\n",
    "import numpy as np\n",
    "from sklearn.model_selection import train_test_split\n",
    "from sklearn.preprocessing import StandardScaler, LabelEncoder\n",
    "from sklearn.impute import SimpleImputer\n",
    "from sklearn.ensemble import GradientBoostingClassifier\n",
    "from sklearn.metrics import mean_squared_error, accuracy_score\n",
    "\n",
    "# Loading the dataset\n",
    "train_df = pd.read_csv('train.csv')\n",
    "test_df = pd.read_csv('test.csv')\n",
    "\n",
    "# Displaying initial data (head)\n",
    "print(\"Initial Training Data:\\n\", train_df.head())\n",
    "print(\"Initial Test Data:\\n\", test_df.head())\n",
    "\n",
    "# Drop unnecessary columns (including target column 'Default' from the feature set)\n",
    "train_df = train_df.drop(columns=['LoanID', 'LoanTerm'])\n",
    "test_df = test_df.drop(columns=['LoanID', 'LoanTerm'])\n",
    "\n",
    "# Encode categorical columns using LabelEncoder\n",
    "categorical_cols = ['Education', 'EmploymentType', 'MaritalStatus', 'HasMortgage', 'HasDependents', 'LoanPurpose', 'HasCoSigner']\n",
    "for col in categorical_cols:\n",
    "    le = LabelEncoder()\n",
    "    train_df[col] = le.fit_transform(train_df[col])\n",
    "    test_df[col] = le.transform(test_df[col])\n",
    "\n",
    "# Handle missing values\n",
    "imputer = SimpleImputer(strategy='mean')\n",
    "train_features = train_df.drop(columns=['Default'])  # Drop 'Default' from features\n",
    "train_target = train_df['Default']  # 'Default' is the target variable\n",
    "train_features = pd.DataFrame(imputer.fit_transform(train_features), columns=train_features.columns)\n",
    "test_df = pd.DataFrame(imputer.transform(test_df), columns=test_df.columns)\n",
    "\n",
    "# Scale features\n",
    "scaler = StandardScaler()\n",
    "train_features = pd.DataFrame(scaler.fit_transform(train_features), columns=train_features.columns)\n",
    "test_df = pd.DataFrame(scaler.transform(test_df), columns=test_df.columns)\n",
    "\n",
    "# Fixed random_state for reproducibility\n",
    "random_state = 42\n",
    "\n",
    "# Split the training data into train and validation sets with stratification\n",
    "X_train, X_val, y_train, y_val = train_test_split(\n",
    "    train_features, train_target, test_size=0.2, stratify=train_target, random_state=random_state\n",
    ")\n",
    "\n",
    "# Initialize and train the Gradient Boosting model\n",
    "gb_model = GradientBoostingClassifier(random_state=random_state)\n",
    "gb_model.fit(X_train, y_train)\n",
    "\n",
    "# Evaluate the model on the validation set\n",
    "y_val_pred = gb_model.predict(X_val)\n",
    "\n",
    "# Calculate RMSE (Root Mean Squared Error)\n",
    "rmse = mean_squared_error(y_val, y_val_pred, squared=False)\n",
    "print(f\"Validation RMSE: {rmse}\")\n",
    "\n",
    "# Calculate accuracy\n",
    "accuracy = accuracy_score(y_val, y_val_pred)\n",
    "print(f\"Validation Accuracy: {accuracy}\")\n",
    "\n",
    "# Make predictions on the test set\n",
    "test_predictions = gb_model.predict(test_df)\n",
    "\n",
    "# Prepare the submission file\n",
    "submission_df = pd.DataFrame({\n",
    "    'LoanID': pd.read_csv('test.csv')['LoanID'],  # Reload LoanID from the test CSV\n",
    "    'Default': test_predictions  # Predicted defaults\n",
    "})\n",
    "\n",
    "# Save the predictions to a CSV file\n",
    "submission_df.to_csv('gradient_boosting_predictions.csv', index=False)\n"
   ]
  },
  {
   "cell_type": "code",
   "execution_count": 4,
   "id": "f49baf2f-f77e-4c64-a702-14b29e8fe695",
   "metadata": {},
   "outputs": [
    {
     "name": "stdout",
     "output_type": "stream",
     "text": [
      "Initial Training Data:\n",
      "        LoanID  Age  Income  LoanAmount  CreditScore  MonthsEmployed  \\\n",
      "0  DRIRC89L0T   18  137576      209136          846              26   \n",
      "1  TS0FIUNHNU   47   57194        5970          748              30   \n",
      "2  I0YR284A1V   26   84328       95065          453               7   \n",
      "3  WB1T7NQV8A   53   49795      229582          533             107   \n",
      "4  J6GU9M4G1Z   49  115450       22072          840               0   \n",
      "\n",
      "   NumCreditLines  InterestRate  LoanTerm  DTIRatio    Education  \\\n",
      "0               2         10.47        60      0.81  High School   \n",
      "1               2         19.72        36      0.73  High School   \n",
      "2               2         24.25        12      0.45     Master's   \n",
      "3               3         14.44        60      0.17   Bachelor's   \n",
      "4               4         24.48        12      0.11   Bachelor's   \n",
      "\n",
      "  EmploymentType MaritalStatus HasMortgage HasDependents LoanPurpose  \\\n",
      "0  Self-employed        Single         Yes            No    Business   \n",
      "1     Unemployed      Divorced          No           Yes   Education   \n",
      "2  Self-employed       Married          No            No       Other   \n",
      "3  Self-employed        Single         Yes            No        Auto   \n",
      "4      Part-time        Single          No           Yes   Education   \n",
      "\n",
      "  HasCoSigner  Default  \n",
      "0          No        0  \n",
      "1          No        0  \n",
      "2         Yes        0  \n",
      "3         Yes        1  \n",
      "4         Yes        0  \n",
      "Initial Test Data:\n",
      "        LoanID  Age  Income  LoanAmount  CreditScore  MonthsEmployed  \\\n",
      "0  CKV34LU7V7   55  112656       92393          581             113   \n",
      "1  62KTYNH93J   56   91569      131575          641              54   \n",
      "2  JGFUSOIUH7   26   78169       75417          569             105   \n",
      "3  4538THBHOX   26   63033       10804          326             118   \n",
      "4  DXLNA06JHR   24   29665       21182          662             102   \n",
      "\n",
      "   NumCreditLines  InterestRate  LoanTerm  DTIRatio    Education  \\\n",
      "0               2         23.54        36      0.15          PhD   \n",
      "1               1         15.19        12      0.43  High School   \n",
      "2               3         18.02        12      0.29     Master's   \n",
      "3               1         14.71        24      0.41  High School   \n",
      "4               3         15.02        60      0.69          PhD   \n",
      "\n",
      "  EmploymentType MaritalStatus HasMortgage HasDependents LoanPurpose  \\\n",
      "0  Self-employed        Single         Yes           Yes        Home   \n",
      "1      Part-time      Divorced         Yes           Yes   Education   \n",
      "2      Part-time       Married         Yes           Yes   Education   \n",
      "3      Part-time        Single          No            No    Business   \n",
      "4     Unemployed        Single          No           Yes    Business   \n",
      "\n",
      "  HasCoSigner  \n",
      "0          No  \n",
      "1         Yes  \n",
      "2         Yes  \n",
      "3         Yes  \n",
      "4         Yes  \n",
      "Validation Accuracy: 0.8851\n",
      "Submission file created at submission.csv\n"
     ]
    }
   ],
   "source": [
    "import pandas as pd\n",
    "from sklearn.model_selection import train_test_split\n",
    "from sklearn.ensemble import GradientBoostingClassifier\n",
    "from sklearn.metrics import accuracy_score\n",
    "from sklearn.impute import SimpleImputer\n",
    "from sklearn.preprocessing import StandardScaler, LabelEncoder\n",
    "\n",
    "# Load the data\n",
    "train_df = pd.read_csv('train.csv')\n",
    "test_df = pd.read_csv('test.csv')\n",
    "sample_submission = pd.read_csv('sample_submission.csv')\n",
    "\n",
    "# Display initial data (for inspection)\n",
    "print(\"Initial Training Data:\\n\", train_df.head())\n",
    "print(\"Initial Test Data:\\n\", test_df.head())\n",
    "\n",
    "# Drop unnecessary columns\n",
    "train_df = train_df.drop(columns=['LoanID', 'LoanTerm'])\n",
    "test_df = test_df.drop(columns=['LoanID', 'LoanTerm'])\n",
    "\n",
    "# Encode categorical columns using LabelEncoder\n",
    "categorical_cols = ['Education', 'EmploymentType', 'MaritalStatus', 'HasMortgage', 'HasDependents', 'LoanPurpose', 'HasCoSigner']\n",
    "for col in categorical_cols:\n",
    "    le = LabelEncoder()\n",
    "    train_df[col] = le.fit_transform(train_df[col])\n",
    "    test_df[col] = le.transform(test_df[col])\n",
    "\n",
    "# Separate features and target in training data\n",
    "train_features = train_df.drop(columns=['Default'])  # Features\n",
    "train_target = train_df['Default']  # Target variable\n",
    "\n",
    "# Handle missing values with mean imputation\n",
    "imputer = SimpleImputer(strategy='mean')\n",
    "train_features = pd.DataFrame(imputer.fit_transform(train_features), columns=train_features.columns)\n",
    "test_df = pd.DataFrame(imputer.transform(test_df), columns=test_df.columns)\n",
    "\n",
    "# Scale features\n",
    "scaler = StandardScaler()\n",
    "train_features = pd.DataFrame(scaler.fit_transform(train_features), columns=train_features.columns)\n",
    "test_df = pd.DataFrame(scaler.transform(test_df), columns=test_df.columns)\n",
    "\n",
    "# Split data into training and validation sets\n",
    "X_train, X_val, y_train, y_val = train_test_split(train_features, train_target, test_size=0.2, random_state=42)\n",
    "\n",
    "# Initialize and train the Gradient Boosting model\n",
    "model = GradientBoostingClassifier(random_state=42)\n",
    "model.fit(X_train, y_train)\n",
    "\n",
    "# Validate the model\n",
    "y_val_pred = model.predict(X_val)\n",
    "accuracy = accuracy_score(y_val, y_val_pred)\n",
    "print(f\"Validation Accuracy: {accuracy:.4f}\")\n",
    "\n",
    "# Prepare predictions on the test set\n",
    "predictions = model.predict(test_df)\n",
    "\n",
    "# Save the predictions in submission format\n",
    "submission = sample_submission.copy()\n",
    "submission['Default'] = predictions\n",
    "submission.to_csv('submission.csv', index=False)\n",
    "\n",
    "print(\"Submission file created at submission.csv\")\n"
   ]
  },
  {
   "cell_type": "code",
   "execution_count": 5,
   "id": "4c01c326-2429-435c-ac35-84e0e1cf8a5c",
   "metadata": {},
   "outputs": [
    {
     "name": "stdout",
     "output_type": "stream",
     "text": [
      "Initial Training Data:\n",
      "        LoanID  Age  Income  LoanAmount  CreditScore  MonthsEmployed  \\\n",
      "0  DRIRC89L0T   18  137576      209136          846              26   \n",
      "1  TS0FIUNHNU   47   57194        5970          748              30   \n",
      "2  I0YR284A1V   26   84328       95065          453               7   \n",
      "3  WB1T7NQV8A   53   49795      229582          533             107   \n",
      "4  J6GU9M4G1Z   49  115450       22072          840               0   \n",
      "\n",
      "   NumCreditLines  InterestRate  LoanTerm  DTIRatio    Education  \\\n",
      "0               2         10.47        60      0.81  High School   \n",
      "1               2         19.72        36      0.73  High School   \n",
      "2               2         24.25        12      0.45     Master's   \n",
      "3               3         14.44        60      0.17   Bachelor's   \n",
      "4               4         24.48        12      0.11   Bachelor's   \n",
      "\n",
      "  EmploymentType MaritalStatus HasMortgage HasDependents LoanPurpose  \\\n",
      "0  Self-employed        Single         Yes            No    Business   \n",
      "1     Unemployed      Divorced          No           Yes   Education   \n",
      "2  Self-employed       Married          No            No       Other   \n",
      "3  Self-employed        Single         Yes            No        Auto   \n",
      "4      Part-time        Single          No           Yes   Education   \n",
      "\n",
      "  HasCoSigner  Default  \n",
      "0          No        0  \n",
      "1          No        0  \n",
      "2         Yes        0  \n",
      "3         Yes        1  \n",
      "4         Yes        0  \n",
      "Initial Test Data:\n",
      "        LoanID  Age  Income  LoanAmount  CreditScore  MonthsEmployed  \\\n",
      "0  CKV34LU7V7   55  112656       92393          581             113   \n",
      "1  62KTYNH93J   56   91569      131575          641              54   \n",
      "2  JGFUSOIUH7   26   78169       75417          569             105   \n",
      "3  4538THBHOX   26   63033       10804          326             118   \n",
      "4  DXLNA06JHR   24   29665       21182          662             102   \n",
      "\n",
      "   NumCreditLines  InterestRate  LoanTerm  DTIRatio    Education  \\\n",
      "0               2         23.54        36      0.15          PhD   \n",
      "1               1         15.19        12      0.43  High School   \n",
      "2               3         18.02        12      0.29     Master's   \n",
      "3               1         14.71        24      0.41  High School   \n",
      "4               3         15.02        60      0.69          PhD   \n",
      "\n",
      "  EmploymentType MaritalStatus HasMortgage HasDependents LoanPurpose  \\\n",
      "0  Self-employed        Single         Yes           Yes        Home   \n",
      "1      Part-time      Divorced         Yes           Yes   Education   \n",
      "2      Part-time       Married         Yes           Yes   Education   \n",
      "3      Part-time        Single          No            No    Business   \n",
      "4     Unemployed        Single          No           Yes    Business   \n",
      "\n",
      "  HasCoSigner  \n",
      "0          No  \n",
      "1         Yes  \n",
      "2         Yes  \n",
      "3         Yes  \n",
      "4         Yes  \n",
      "Validation Accuracy: 0.8851\n",
      "Submission file created at submission.csv\n"
     ]
    }
   ],
   "source": [
    "import pandas as pd\n",
    "from sklearn.model_selection import train_test_split\n",
    "from sklearn.ensemble import GradientBoostingClassifier\n",
    "from sklearn.metrics import accuracy_score\n",
    "from sklearn.impute import SimpleImputer\n",
    "from sklearn.preprocessing import StandardScaler, LabelEncoder\n",
    "\n",
    "# Load the data\n",
    "train_df = pd.read_csv('train.csv')\n",
    "test_df = pd.read_csv('test.csv')\n",
    "sample_submission = pd.read_csv('sample_submission.csv')\n",
    "\n",
    "# Display initial data (for inspection)\n",
    "print(\"Initial Training Data:\\n\", train_df.head())\n",
    "print(\"Initial Test Data:\\n\", test_df.head())\n",
    "\n",
    "# Drop unnecessary columns\n",
    "train_df = train_df.drop(columns=['LoanID', 'LoanTerm'])\n",
    "test_df = test_df.drop(columns=['LoanID', 'LoanTerm'])\n",
    "\n",
    "# Encode categorical columns using LabelEncoder\n",
    "categorical_cols = ['Education', 'EmploymentType', 'MaritalStatus', 'HasMortgage', 'HasDependents', 'LoanPurpose', 'HasCoSigner']\n",
    "for col in categorical_cols:\n",
    "    le = LabelEncoder()\n",
    "    train_df[col] = le.fit_transform(train_df[col])\n",
    "    test_df[col] = le.transform(test_df[col])\n",
    "\n",
    "# Separate features and target in training data\n",
    "train_features = train_df.drop(columns=['Default'])  # Features\n",
    "train_target = train_df['Default']  # Target variable\n",
    "\n",
    "# Handle missing values with mean imputation\n",
    "imputer = SimpleImputer(strategy='mean')\n",
    "train_features = pd.DataFrame(imputer.fit_transform(train_features), columns=train_features.columns)\n",
    "test_df = pd.DataFrame(imputer.transform(test_df), columns=test_df.columns)\n",
    "\n",
    "# Scale features\n",
    "scaler = StandardScaler()\n",
    "train_features = pd.DataFrame(scaler.fit_transform(train_features), columns=train_features.columns)\n",
    "test_df = pd.DataFrame(scaler.transform(test_df), columns=test_df.columns)\n",
    "\n",
    "# Split data into training and validation sets\n",
    "X_train, X_val, y_train, y_val = train_test_split(train_features, train_target, test_size=0.2, random_state=42)\n",
    "\n",
    "# Initialize and train the Gradient Boosting model with default hyperparameters\n",
    "model = GradientBoostingClassifier(random_state=42)\n",
    "model.fit(X_train, y_train)\n",
    "\n",
    "# Validate the model on the validation set\n",
    "y_val_pred = model.predict(X_val)\n",
    "accuracy = accuracy_score(y_val, y_val_pred)\n",
    "print(f\"Validation Accuracy: {accuracy:.4f}\")\n",
    "\n",
    "# Prepare predictions on the test set\n",
    "predictions = model.predict(test_df)\n",
    "\n",
    "# Save the predictions in submission format\n",
    "submission = sample_submission.copy()\n",
    "submission['Default'] = predictions\n",
    "submission.to_csv('submission.csv', index=False)\n",
    "\n",
    "print(\"Submission file created at submission.csv\")\n"
   ]
  },
  {
   "cell_type": "code",
   "execution_count": null,
   "id": "fc274a31-ee5f-4c93-8183-54dce6776ecf",
   "metadata": {},
   "outputs": [],
   "source": []
  }
 ],
 "metadata": {
  "kernelspec": {
   "display_name": "Python 3 (ipykernel)",
   "language": "python",
   "name": "python3"
  },
  "language_info": {
   "codemirror_mode": {
    "name": "ipython",
    "version": 3
   },
   "file_extension": ".py",
   "mimetype": "text/x-python",
   "name": "python",
   "nbconvert_exporter": "python",
   "pygments_lexer": "ipython3",
   "version": "3.11.0"
  }
 },
 "nbformat": 4,
 "nbformat_minor": 5
}
